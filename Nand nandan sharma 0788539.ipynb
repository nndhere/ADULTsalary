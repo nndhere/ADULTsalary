{
 "cells": [
  {
   "cell_type": "markdown",
   "id": "e6f3cf6c",
   "metadata": {
    "id": "e6f3cf6c"
   },
   "source": [
    "# Analysing and Predicting Earning Potential of Adults"
   ]
  },
  {
   "cell_type": "markdown",
   "id": "fbbced3d",
   "metadata": {
    "id": "fbbced3d"
   },
   "source": [
    "#### Income plays a significant role in determining a person's level of living and financial standing in society. It is crucial in deciding the nation's growth or \"A huge income is the best prescription for happiness I ever heard of,\" Jane Austen reportedly said. It is crucial in deciding the nation's growth. Our goal is to find relevant insights that may be used to make better decisions. "
   ]
  },
  {
   "cell_type": "code",
   "execution_count": 3,
   "id": "ee0fbcf9",
   "metadata": {
    "id": "ee0fbcf9"
   },
   "outputs": [],
   "source": [
    "# Importing Libraries\n",
    "\n",
    "import numpy as np # linear algebra\n",
    "import pandas as pd # data processing, \n",
    "\n",
    "# Libraries for data visualization\n",
    "\n",
    "import matplotlib.pyplot as plt  \n",
    "import seaborn as sns \n",
    "import warnings\n",
    "warnings.filterwarnings('ignore')"
   ]
  },
  {
   "cell_type": "code",
   "execution_count": 4,
   "id": "c108f403",
   "metadata": {
    "colab": {
     "base_uri": "https://localhost:8080/",
     "height": 644
    },
    "id": "c108f403",
    "outputId": "6ae9bf0f-cdcb-4a37-956b-be982c61fe5c",
    "scrolled": false
   },
   "outputs": [
    {
     "data": {
      "text/html": [
       "\n",
       "  <div id=\"df-a25cd196-ec72-4eaf-a9b6-80754c6f9ff8\">\n",
       "    <div class=\"colab-df-container\">\n",
       "      <div>\n",
       "<style scoped>\n",
       "    .dataframe tbody tr th:only-of-type {\n",
       "        vertical-align: middle;\n",
       "    }\n",
       "\n",
       "    .dataframe tbody tr th {\n",
       "        vertical-align: top;\n",
       "    }\n",
       "\n",
       "    .dataframe thead th {\n",
       "        text-align: right;\n",
       "    }\n",
       "</style>\n",
       "<table border=\"1\" class=\"dataframe\">\n",
       "  <thead>\n",
       "    <tr style=\"text-align: right;\">\n",
       "      <th></th>\n",
       "      <th>age</th>\n",
       "      <th>workclass</th>\n",
       "      <th>fnlwgt</th>\n",
       "      <th>education</th>\n",
       "      <th>education.num</th>\n",
       "      <th>marital.status</th>\n",
       "      <th>occupation</th>\n",
       "      <th>relationship</th>\n",
       "      <th>race</th>\n",
       "      <th>sex</th>\n",
       "      <th>capital.gain</th>\n",
       "      <th>capital.loss</th>\n",
       "      <th>hours.per.week</th>\n",
       "      <th>native.country</th>\n",
       "      <th>income</th>\n",
       "    </tr>\n",
       "  </thead>\n",
       "  <tbody>\n",
       "    <tr>\n",
       "      <th>0</th>\n",
       "      <td>90</td>\n",
       "      <td>?</td>\n",
       "      <td>77053</td>\n",
       "      <td>HS-grad</td>\n",
       "      <td>9</td>\n",
       "      <td>Widowed</td>\n",
       "      <td>?</td>\n",
       "      <td>Not-in-family</td>\n",
       "      <td>White</td>\n",
       "      <td>Female</td>\n",
       "      <td>0</td>\n",
       "      <td>4356</td>\n",
       "      <td>40</td>\n",
       "      <td>United-States</td>\n",
       "      <td>&lt;=50K</td>\n",
       "    </tr>\n",
       "    <tr>\n",
       "      <th>1</th>\n",
       "      <td>82</td>\n",
       "      <td>Private</td>\n",
       "      <td>132870</td>\n",
       "      <td>HS-grad</td>\n",
       "      <td>9</td>\n",
       "      <td>Widowed</td>\n",
       "      <td>Exec-managerial</td>\n",
       "      <td>Not-in-family</td>\n",
       "      <td>White</td>\n",
       "      <td>Female</td>\n",
       "      <td>0</td>\n",
       "      <td>4356</td>\n",
       "      <td>18</td>\n",
       "      <td>United-States</td>\n",
       "      <td>&lt;=50K</td>\n",
       "    </tr>\n",
       "    <tr>\n",
       "      <th>2</th>\n",
       "      <td>66</td>\n",
       "      <td>?</td>\n",
       "      <td>186061</td>\n",
       "      <td>Some-college</td>\n",
       "      <td>10</td>\n",
       "      <td>Widowed</td>\n",
       "      <td>?</td>\n",
       "      <td>Unmarried</td>\n",
       "      <td>Black</td>\n",
       "      <td>Female</td>\n",
       "      <td>0</td>\n",
       "      <td>4356</td>\n",
       "      <td>40</td>\n",
       "      <td>United-States</td>\n",
       "      <td>&lt;=50K</td>\n",
       "    </tr>\n",
       "    <tr>\n",
       "      <th>3</th>\n",
       "      <td>54</td>\n",
       "      <td>Private</td>\n",
       "      <td>140359</td>\n",
       "      <td>7th-8th</td>\n",
       "      <td>4</td>\n",
       "      <td>Divorced</td>\n",
       "      <td>Machine-op-inspct</td>\n",
       "      <td>Unmarried</td>\n",
       "      <td>White</td>\n",
       "      <td>Female</td>\n",
       "      <td>0</td>\n",
       "      <td>3900</td>\n",
       "      <td>40</td>\n",
       "      <td>United-States</td>\n",
       "      <td>&lt;=50K</td>\n",
       "    </tr>\n",
       "    <tr>\n",
       "      <th>4</th>\n",
       "      <td>41</td>\n",
       "      <td>Private</td>\n",
       "      <td>264663</td>\n",
       "      <td>Some-college</td>\n",
       "      <td>10</td>\n",
       "      <td>Separated</td>\n",
       "      <td>Prof-specialty</td>\n",
       "      <td>Own-child</td>\n",
       "      <td>White</td>\n",
       "      <td>Female</td>\n",
       "      <td>0</td>\n",
       "      <td>3900</td>\n",
       "      <td>40</td>\n",
       "      <td>United-States</td>\n",
       "      <td>&lt;=50K</td>\n",
       "    </tr>\n",
       "    <tr>\n",
       "      <th>...</th>\n",
       "      <td>...</td>\n",
       "      <td>...</td>\n",
       "      <td>...</td>\n",
       "      <td>...</td>\n",
       "      <td>...</td>\n",
       "      <td>...</td>\n",
       "      <td>...</td>\n",
       "      <td>...</td>\n",
       "      <td>...</td>\n",
       "      <td>...</td>\n",
       "      <td>...</td>\n",
       "      <td>...</td>\n",
       "      <td>...</td>\n",
       "      <td>...</td>\n",
       "      <td>...</td>\n",
       "    </tr>\n",
       "    <tr>\n",
       "      <th>32556</th>\n",
       "      <td>22</td>\n",
       "      <td>Private</td>\n",
       "      <td>310152</td>\n",
       "      <td>Some-college</td>\n",
       "      <td>10</td>\n",
       "      <td>Never-married</td>\n",
       "      <td>Protective-serv</td>\n",
       "      <td>Not-in-family</td>\n",
       "      <td>White</td>\n",
       "      <td>Male</td>\n",
       "      <td>0</td>\n",
       "      <td>0</td>\n",
       "      <td>40</td>\n",
       "      <td>United-States</td>\n",
       "      <td>&lt;=50K</td>\n",
       "    </tr>\n",
       "    <tr>\n",
       "      <th>32557</th>\n",
       "      <td>27</td>\n",
       "      <td>Private</td>\n",
       "      <td>257302</td>\n",
       "      <td>Assoc-acdm</td>\n",
       "      <td>12</td>\n",
       "      <td>Married-civ-spouse</td>\n",
       "      <td>Tech-support</td>\n",
       "      <td>Wife</td>\n",
       "      <td>White</td>\n",
       "      <td>Female</td>\n",
       "      <td>0</td>\n",
       "      <td>0</td>\n",
       "      <td>38</td>\n",
       "      <td>United-States</td>\n",
       "      <td>&lt;=50K</td>\n",
       "    </tr>\n",
       "    <tr>\n",
       "      <th>32558</th>\n",
       "      <td>40</td>\n",
       "      <td>Private</td>\n",
       "      <td>154374</td>\n",
       "      <td>HS-grad</td>\n",
       "      <td>9</td>\n",
       "      <td>Married-civ-spouse</td>\n",
       "      <td>Machine-op-inspct</td>\n",
       "      <td>Husband</td>\n",
       "      <td>White</td>\n",
       "      <td>Male</td>\n",
       "      <td>0</td>\n",
       "      <td>0</td>\n",
       "      <td>40</td>\n",
       "      <td>United-States</td>\n",
       "      <td>&gt;50K</td>\n",
       "    </tr>\n",
       "    <tr>\n",
       "      <th>32559</th>\n",
       "      <td>58</td>\n",
       "      <td>Private</td>\n",
       "      <td>151910</td>\n",
       "      <td>HS-grad</td>\n",
       "      <td>9</td>\n",
       "      <td>Widowed</td>\n",
       "      <td>Adm-clerical</td>\n",
       "      <td>Unmarried</td>\n",
       "      <td>White</td>\n",
       "      <td>Female</td>\n",
       "      <td>0</td>\n",
       "      <td>0</td>\n",
       "      <td>40</td>\n",
       "      <td>United-States</td>\n",
       "      <td>&lt;=50K</td>\n",
       "    </tr>\n",
       "    <tr>\n",
       "      <th>32560</th>\n",
       "      <td>22</td>\n",
       "      <td>Private</td>\n",
       "      <td>201490</td>\n",
       "      <td>HS-grad</td>\n",
       "      <td>9</td>\n",
       "      <td>Never-married</td>\n",
       "      <td>Adm-clerical</td>\n",
       "      <td>Own-child</td>\n",
       "      <td>White</td>\n",
       "      <td>Male</td>\n",
       "      <td>0</td>\n",
       "      <td>0</td>\n",
       "      <td>20</td>\n",
       "      <td>United-States</td>\n",
       "      <td>&lt;=50K</td>\n",
       "    </tr>\n",
       "  </tbody>\n",
       "</table>\n",
       "<p>32561 rows × 15 columns</p>\n",
       "</div>\n",
       "      <button class=\"colab-df-convert\" onclick=\"convertToInteractive('df-a25cd196-ec72-4eaf-a9b6-80754c6f9ff8')\"\n",
       "              title=\"Convert this dataframe to an interactive table.\"\n",
       "              style=\"display:none;\">\n",
       "        \n",
       "  <svg xmlns=\"http://www.w3.org/2000/svg\" height=\"24px\"viewBox=\"0 0 24 24\"\n",
       "       width=\"24px\">\n",
       "    <path d=\"M0 0h24v24H0V0z\" fill=\"none\"/>\n",
       "    <path d=\"M18.56 5.44l.94 2.06.94-2.06 2.06-.94-2.06-.94-.94-2.06-.94 2.06-2.06.94zm-11 1L8.5 8.5l.94-2.06 2.06-.94-2.06-.94L8.5 2.5l-.94 2.06-2.06.94zm10 10l.94 2.06.94-2.06 2.06-.94-2.06-.94-.94-2.06-.94 2.06-2.06.94z\"/><path d=\"M17.41 7.96l-1.37-1.37c-.4-.4-.92-.59-1.43-.59-.52 0-1.04.2-1.43.59L10.3 9.45l-7.72 7.72c-.78.78-.78 2.05 0 2.83L4 21.41c.39.39.9.59 1.41.59.51 0 1.02-.2 1.41-.59l7.78-7.78 2.81-2.81c.8-.78.8-2.07 0-2.86zM5.41 20L4 18.59l7.72-7.72 1.47 1.35L5.41 20z\"/>\n",
       "  </svg>\n",
       "      </button>\n",
       "      \n",
       "  <style>\n",
       "    .colab-df-container {\n",
       "      display:flex;\n",
       "      flex-wrap:wrap;\n",
       "      gap: 12px;\n",
       "    }\n",
       "\n",
       "    .colab-df-convert {\n",
       "      background-color: #E8F0FE;\n",
       "      border: none;\n",
       "      border-radius: 50%;\n",
       "      cursor: pointer;\n",
       "      display: none;\n",
       "      fill: #1967D2;\n",
       "      height: 32px;\n",
       "      padding: 0 0 0 0;\n",
       "      width: 32px;\n",
       "    }\n",
       "\n",
       "    .colab-df-convert:hover {\n",
       "      background-color: #E2EBFA;\n",
       "      box-shadow: 0px 1px 2px rgba(60, 64, 67, 0.3), 0px 1px 3px 1px rgba(60, 64, 67, 0.15);\n",
       "      fill: #174EA6;\n",
       "    }\n",
       "\n",
       "    [theme=dark] .colab-df-convert {\n",
       "      background-color: #3B4455;\n",
       "      fill: #D2E3FC;\n",
       "    }\n",
       "\n",
       "    [theme=dark] .colab-df-convert:hover {\n",
       "      background-color: #434B5C;\n",
       "      box-shadow: 0px 1px 3px 1px rgba(0, 0, 0, 0.15);\n",
       "      filter: drop-shadow(0px 1px 2px rgba(0, 0, 0, 0.3));\n",
       "      fill: #FFFFFF;\n",
       "    }\n",
       "  </style>\n",
       "\n",
       "      <script>\n",
       "        const buttonEl =\n",
       "          document.querySelector('#df-a25cd196-ec72-4eaf-a9b6-80754c6f9ff8 button.colab-df-convert');\n",
       "        buttonEl.style.display =\n",
       "          google.colab.kernel.accessAllowed ? 'block' : 'none';\n",
       "\n",
       "        async function convertToInteractive(key) {\n",
       "          const element = document.querySelector('#df-a25cd196-ec72-4eaf-a9b6-80754c6f9ff8');\n",
       "          const dataTable =\n",
       "            await google.colab.kernel.invokeFunction('convertToInteractive',\n",
       "                                                     [key], {});\n",
       "          if (!dataTable) return;\n",
       "\n",
       "          const docLinkHtml = 'Like what you see? Visit the ' +\n",
       "            '<a target=\"_blank\" href=https://colab.research.google.com/notebooks/data_table.ipynb>data table notebook</a>'\n",
       "            + ' to learn more about interactive tables.';\n",
       "          element.innerHTML = '';\n",
       "          dataTable['output_type'] = 'display_data';\n",
       "          await google.colab.output.renderOutput(dataTable, element);\n",
       "          const docLink = document.createElement('div');\n",
       "          docLink.innerHTML = docLinkHtml;\n",
       "          element.appendChild(docLink);\n",
       "        }\n",
       "      </script>\n",
       "    </div>\n",
       "  </div>\n",
       "  "
      ],
      "text/plain": [
       "       age workclass  fnlwgt     education  education.num      marital.status  \\\n",
       "0       90         ?   77053       HS-grad              9             Widowed   \n",
       "1       82   Private  132870       HS-grad              9             Widowed   \n",
       "2       66         ?  186061  Some-college             10             Widowed   \n",
       "3       54   Private  140359       7th-8th              4            Divorced   \n",
       "4       41   Private  264663  Some-college             10           Separated   \n",
       "...    ...       ...     ...           ...            ...                 ...   \n",
       "32556   22   Private  310152  Some-college             10       Never-married   \n",
       "32557   27   Private  257302    Assoc-acdm             12  Married-civ-spouse   \n",
       "32558   40   Private  154374       HS-grad              9  Married-civ-spouse   \n",
       "32559   58   Private  151910       HS-grad              9             Widowed   \n",
       "32560   22   Private  201490       HS-grad              9       Never-married   \n",
       "\n",
       "              occupation   relationship   race     sex  capital.gain  \\\n",
       "0                      ?  Not-in-family  White  Female             0   \n",
       "1        Exec-managerial  Not-in-family  White  Female             0   \n",
       "2                      ?      Unmarried  Black  Female             0   \n",
       "3      Machine-op-inspct      Unmarried  White  Female             0   \n",
       "4         Prof-specialty      Own-child  White  Female             0   \n",
       "...                  ...            ...    ...     ...           ...   \n",
       "32556    Protective-serv  Not-in-family  White    Male             0   \n",
       "32557       Tech-support           Wife  White  Female             0   \n",
       "32558  Machine-op-inspct        Husband  White    Male             0   \n",
       "32559       Adm-clerical      Unmarried  White  Female             0   \n",
       "32560       Adm-clerical      Own-child  White    Male             0   \n",
       "\n",
       "       capital.loss  hours.per.week native.country income  \n",
       "0              4356              40  United-States  <=50K  \n",
       "1              4356              18  United-States  <=50K  \n",
       "2              4356              40  United-States  <=50K  \n",
       "3              3900              40  United-States  <=50K  \n",
       "4              3900              40  United-States  <=50K  \n",
       "...             ...             ...            ...    ...  \n",
       "32556             0              40  United-States  <=50K  \n",
       "32557             0              38  United-States  <=50K  \n",
       "32558             0              40  United-States   >50K  \n",
       "32559             0              40  United-States  <=50K  \n",
       "32560             0              20  United-States  <=50K  \n",
       "\n",
       "[32561 rows x 15 columns]"
      ]
     },
     "execution_count": 4,
     "metadata": {},
     "output_type": "execute_result"
    }
   ],
   "source": [
    "# Importing the dataset\n",
    "\n",
    "income_data = pd.read_csv(\"/adult.csv\")\n",
    "income_data"
   ]
  },
  {
   "cell_type": "code",
   "execution_count": null,
   "id": "fae831cb",
   "metadata": {
    "id": "fae831cb"
   },
   "outputs": [],
   "source": [
    "#income_data.head(3).to_csv(\"Character_data.csv\")"
   ]
  },
  {
   "cell_type": "code",
   "execution_count": null,
   "id": "b45f423f",
   "metadata": {
    "id": "b45f423f",
    "outputId": "eca3031f-b821-4254-b7c9-ec3d55a46dc9"
   },
   "outputs": [
    {
     "data": {
      "text/plain": [
       "(32561, 15)"
      ]
     },
     "execution_count": 48,
     "metadata": {},
     "output_type": "execute_result"
    }
   ],
   "source": [
    "# Checking the shape(Number of records and attributes)\n",
    "income_data.shape"
   ]
  },
  {
   "cell_type": "code",
   "execution_count": null,
   "id": "c062157e",
   "metadata": {
    "id": "c062157e",
    "outputId": "ec742beb-f90f-4fc4-d699-4b3dd9e96767"
   },
   "outputs": [
    {
     "data": {
      "text/plain": [
       "Index(['age', 'workclass', 'fnlwgt', 'education', 'education.num',\n",
       "       'marital.status', 'occupation', 'relationship', 'race', 'sex',\n",
       "       'capital.gain', 'capital.loss', 'hours.per.week', 'native.country',\n",
       "       'income'],\n",
       "      dtype='object')"
      ]
     },
     "execution_count": 49,
     "metadata": {},
     "output_type": "execute_result"
    }
   ],
   "source": [
    "# Listing dataframe attributes\n",
    "income_data.columns"
   ]
  },
  {
   "cell_type": "code",
   "execution_count": null,
   "id": "8e637966",
   "metadata": {
    "id": "8e637966",
    "outputId": "b0495ff7-f894-48c9-beea-1af392478da4"
   },
   "outputs": [
    {
     "data": {
      "text/plain": [
       "Index(['age', 'workclass', 'fnlwgt', 'education', 'EducationNum',\n",
       "       'MaritalStatus', 'occupation', 'relationship', 'race', 'sex',\n",
       "       'CapitalGain', 'CapitalLoss', 'HoursPerWeek', 'Country', 'income'],\n",
       "      dtype='object')"
      ]
     },
     "execution_count": 50,
     "metadata": {},
     "output_type": "execute_result"
    }
   ],
   "source": [
    "#replacing columns names having special characters with proper names \n",
    "income_data.rename(columns={'education.num':'EducationNum', 'capital.gain': 'CapitalGain', 'capital.loss': 'CapitalLoss', 'native.country': 'Country','hours.per.week': 'HoursPerWeek','marital.status': 'MaritalStatus'}, inplace=True)\n",
    "income_data.columns"
   ]
  },
  {
   "cell_type": "code",
   "execution_count": null,
   "id": "b5f5d60d",
   "metadata": {
    "id": "b5f5d60d",
    "outputId": "40fb05c4-12c1-4cdd-d481-40148e8aaa59"
   },
   "outputs": [
    {
     "data": {
      "text/plain": [
       "age               int64\n",
       "workclass        object\n",
       "fnlwgt            int64\n",
       "education        object\n",
       "EducationNum      int64\n",
       "MaritalStatus    object\n",
       "occupation       object\n",
       "relationship     object\n",
       "race             object\n",
       "sex              object\n",
       "CapitalGain       int64\n",
       "CapitalLoss       int64\n",
       "HoursPerWeek      int64\n",
       "Country          object\n",
       "income           object\n",
       "dtype: object"
      ]
     },
     "execution_count": 51,
     "metadata": {},
     "output_type": "execute_result"
    }
   ],
   "source": [
    "#Listing datatypes of the attributes\n",
    "income_data.dtypes"
   ]
  },
  {
   "cell_type": "code",
   "execution_count": null,
   "id": "b96a61c4",
   "metadata": {
    "id": "b96a61c4",
    "outputId": "8547ac0c-846d-46b1-cb04-08d33bfd869e"
   },
   "outputs": [
    {
     "data": {
      "text/plain": [
       "age                 0\n",
       "workclass        1836\n",
       "fnlwgt              0\n",
       "education           0\n",
       "EducationNum        0\n",
       "MaritalStatus       0\n",
       "occupation       1843\n",
       "relationship        0\n",
       "race                0\n",
       "sex                 0\n",
       "CapitalGain         0\n",
       "CapitalLoss         0\n",
       "HoursPerWeek        0\n",
       "Country           583\n",
       "income              0\n",
       "dtype: int64"
      ]
     },
     "execution_count": 52,
     "metadata": {},
     "output_type": "execute_result"
    }
   ],
   "source": [
    "#data cleaning\n",
    "#Finding the special characters count in the data frame \n",
    "income_data.isin(['?']).sum(axis=0)"
   ]
  },
  {
   "cell_type": "code",
   "execution_count": null,
   "id": "9865b0fc",
   "metadata": {
    "id": "9865b0fc"
   },
   "outputs": [],
   "source": [
    "# replacing the special character to nan and then drop the columns \n",
    "income_data['Country'] = income_data['Country'].replace('?',np.nan)\n",
    "income_data['workclass'] = income_data['workclass'].replace('?',np.nan)\n",
    "income_data['occupation'] = income_data['occupation'].replace('?',np.nan)\n"
   ]
  },
  {
   "cell_type": "code",
   "execution_count": null,
   "id": "ca591892",
   "metadata": {
    "id": "ca591892",
    "outputId": "9cde5e53-f78a-49f2-c7c5-a70d9d22bd13"
   },
   "outputs": [
    {
     "data": {
      "text/html": [
       "<div>\n",
       "<style scoped>\n",
       "    .dataframe tbody tr th:only-of-type {\n",
       "        vertical-align: middle;\n",
       "    }\n",
       "\n",
       "    .dataframe tbody tr th {\n",
       "        vertical-align: top;\n",
       "    }\n",
       "\n",
       "    .dataframe thead th {\n",
       "        text-align: right;\n",
       "    }\n",
       "</style>\n",
       "<table border=\"1\" class=\"dataframe\">\n",
       "  <thead>\n",
       "    <tr style=\"text-align: right;\">\n",
       "      <th></th>\n",
       "      <th>age</th>\n",
       "      <th>workclass</th>\n",
       "      <th>fnlwgt</th>\n",
       "      <th>education</th>\n",
       "      <th>EducationNum</th>\n",
       "      <th>MaritalStatus</th>\n",
       "      <th>occupation</th>\n",
       "      <th>relationship</th>\n",
       "      <th>race</th>\n",
       "      <th>sex</th>\n",
       "      <th>CapitalGain</th>\n",
       "      <th>CapitalLoss</th>\n",
       "      <th>HoursPerWeek</th>\n",
       "      <th>Country</th>\n",
       "      <th>income</th>\n",
       "    </tr>\n",
       "  </thead>\n",
       "  <tbody>\n",
       "    <tr>\n",
       "      <th>0</th>\n",
       "      <td>90</td>\n",
       "      <td>NaN</td>\n",
       "      <td>77053</td>\n",
       "      <td>HS-grad</td>\n",
       "      <td>9</td>\n",
       "      <td>Widowed</td>\n",
       "      <td>NaN</td>\n",
       "      <td>Not-in-family</td>\n",
       "      <td>White</td>\n",
       "      <td>Female</td>\n",
       "      <td>0</td>\n",
       "      <td>4356</td>\n",
       "      <td>40</td>\n",
       "      <td>United-States</td>\n",
       "      <td>&lt;=50K</td>\n",
       "    </tr>\n",
       "    <tr>\n",
       "      <th>1</th>\n",
       "      <td>82</td>\n",
       "      <td>Private</td>\n",
       "      <td>132870</td>\n",
       "      <td>HS-grad</td>\n",
       "      <td>9</td>\n",
       "      <td>Widowed</td>\n",
       "      <td>Exec-managerial</td>\n",
       "      <td>Not-in-family</td>\n",
       "      <td>White</td>\n",
       "      <td>Female</td>\n",
       "      <td>0</td>\n",
       "      <td>4356</td>\n",
       "      <td>18</td>\n",
       "      <td>United-States</td>\n",
       "      <td>&lt;=50K</td>\n",
       "    </tr>\n",
       "    <tr>\n",
       "      <th>2</th>\n",
       "      <td>66</td>\n",
       "      <td>NaN</td>\n",
       "      <td>186061</td>\n",
       "      <td>Some-college</td>\n",
       "      <td>10</td>\n",
       "      <td>Widowed</td>\n",
       "      <td>NaN</td>\n",
       "      <td>Unmarried</td>\n",
       "      <td>Black</td>\n",
       "      <td>Female</td>\n",
       "      <td>0</td>\n",
       "      <td>4356</td>\n",
       "      <td>40</td>\n",
       "      <td>United-States</td>\n",
       "      <td>&lt;=50K</td>\n",
       "    </tr>\n",
       "    <tr>\n",
       "      <th>3</th>\n",
       "      <td>54</td>\n",
       "      <td>Private</td>\n",
       "      <td>140359</td>\n",
       "      <td>7th-8th</td>\n",
       "      <td>4</td>\n",
       "      <td>Divorced</td>\n",
       "      <td>Machine-op-inspct</td>\n",
       "      <td>Unmarried</td>\n",
       "      <td>White</td>\n",
       "      <td>Female</td>\n",
       "      <td>0</td>\n",
       "      <td>3900</td>\n",
       "      <td>40</td>\n",
       "      <td>United-States</td>\n",
       "      <td>&lt;=50K</td>\n",
       "    </tr>\n",
       "    <tr>\n",
       "      <th>4</th>\n",
       "      <td>41</td>\n",
       "      <td>Private</td>\n",
       "      <td>264663</td>\n",
       "      <td>Some-college</td>\n",
       "      <td>10</td>\n",
       "      <td>Separated</td>\n",
       "      <td>Prof-specialty</td>\n",
       "      <td>Own-child</td>\n",
       "      <td>White</td>\n",
       "      <td>Female</td>\n",
       "      <td>0</td>\n",
       "      <td>3900</td>\n",
       "      <td>40</td>\n",
       "      <td>United-States</td>\n",
       "      <td>&lt;=50K</td>\n",
       "    </tr>\n",
       "    <tr>\n",
       "      <th>...</th>\n",
       "      <td>...</td>\n",
       "      <td>...</td>\n",
       "      <td>...</td>\n",
       "      <td>...</td>\n",
       "      <td>...</td>\n",
       "      <td>...</td>\n",
       "      <td>...</td>\n",
       "      <td>...</td>\n",
       "      <td>...</td>\n",
       "      <td>...</td>\n",
       "      <td>...</td>\n",
       "      <td>...</td>\n",
       "      <td>...</td>\n",
       "      <td>...</td>\n",
       "      <td>...</td>\n",
       "    </tr>\n",
       "    <tr>\n",
       "      <th>32556</th>\n",
       "      <td>22</td>\n",
       "      <td>Private</td>\n",
       "      <td>310152</td>\n",
       "      <td>Some-college</td>\n",
       "      <td>10</td>\n",
       "      <td>Never-married</td>\n",
       "      <td>Protective-serv</td>\n",
       "      <td>Not-in-family</td>\n",
       "      <td>White</td>\n",
       "      <td>Male</td>\n",
       "      <td>0</td>\n",
       "      <td>0</td>\n",
       "      <td>40</td>\n",
       "      <td>United-States</td>\n",
       "      <td>&lt;=50K</td>\n",
       "    </tr>\n",
       "    <tr>\n",
       "      <th>32557</th>\n",
       "      <td>27</td>\n",
       "      <td>Private</td>\n",
       "      <td>257302</td>\n",
       "      <td>Assoc-acdm</td>\n",
       "      <td>12</td>\n",
       "      <td>Married-civ-spouse</td>\n",
       "      <td>Tech-support</td>\n",
       "      <td>Wife</td>\n",
       "      <td>White</td>\n",
       "      <td>Female</td>\n",
       "      <td>0</td>\n",
       "      <td>0</td>\n",
       "      <td>38</td>\n",
       "      <td>United-States</td>\n",
       "      <td>&lt;=50K</td>\n",
       "    </tr>\n",
       "    <tr>\n",
       "      <th>32558</th>\n",
       "      <td>40</td>\n",
       "      <td>Private</td>\n",
       "      <td>154374</td>\n",
       "      <td>HS-grad</td>\n",
       "      <td>9</td>\n",
       "      <td>Married-civ-spouse</td>\n",
       "      <td>Machine-op-inspct</td>\n",
       "      <td>Husband</td>\n",
       "      <td>White</td>\n",
       "      <td>Male</td>\n",
       "      <td>0</td>\n",
       "      <td>0</td>\n",
       "      <td>40</td>\n",
       "      <td>United-States</td>\n",
       "      <td>&gt;50K</td>\n",
       "    </tr>\n",
       "    <tr>\n",
       "      <th>32559</th>\n",
       "      <td>58</td>\n",
       "      <td>Private</td>\n",
       "      <td>151910</td>\n",
       "      <td>HS-grad</td>\n",
       "      <td>9</td>\n",
       "      <td>Widowed</td>\n",
       "      <td>Adm-clerical</td>\n",
       "      <td>Unmarried</td>\n",
       "      <td>White</td>\n",
       "      <td>Female</td>\n",
       "      <td>0</td>\n",
       "      <td>0</td>\n",
       "      <td>40</td>\n",
       "      <td>United-States</td>\n",
       "      <td>&lt;=50K</td>\n",
       "    </tr>\n",
       "    <tr>\n",
       "      <th>32560</th>\n",
       "      <td>22</td>\n",
       "      <td>Private</td>\n",
       "      <td>201490</td>\n",
       "      <td>HS-grad</td>\n",
       "      <td>9</td>\n",
       "      <td>Never-married</td>\n",
       "      <td>Adm-clerical</td>\n",
       "      <td>Own-child</td>\n",
       "      <td>White</td>\n",
       "      <td>Male</td>\n",
       "      <td>0</td>\n",
       "      <td>0</td>\n",
       "      <td>20</td>\n",
       "      <td>United-States</td>\n",
       "      <td>&lt;=50K</td>\n",
       "    </tr>\n",
       "  </tbody>\n",
       "</table>\n",
       "<p>32561 rows × 15 columns</p>\n",
       "</div>"
      ],
      "text/plain": [
       "       age workclass  fnlwgt     education  EducationNum       MaritalStatus  \\\n",
       "0       90       NaN   77053       HS-grad             9             Widowed   \n",
       "1       82   Private  132870       HS-grad             9             Widowed   \n",
       "2       66       NaN  186061  Some-college            10             Widowed   \n",
       "3       54   Private  140359       7th-8th             4            Divorced   \n",
       "4       41   Private  264663  Some-college            10           Separated   \n",
       "...    ...       ...     ...           ...           ...                 ...   \n",
       "32556   22   Private  310152  Some-college            10       Never-married   \n",
       "32557   27   Private  257302    Assoc-acdm            12  Married-civ-spouse   \n",
       "32558   40   Private  154374       HS-grad             9  Married-civ-spouse   \n",
       "32559   58   Private  151910       HS-grad             9             Widowed   \n",
       "32560   22   Private  201490       HS-grad             9       Never-married   \n",
       "\n",
       "              occupation   relationship   race     sex  CapitalGain  \\\n",
       "0                    NaN  Not-in-family  White  Female            0   \n",
       "1        Exec-managerial  Not-in-family  White  Female            0   \n",
       "2                    NaN      Unmarried  Black  Female            0   \n",
       "3      Machine-op-inspct      Unmarried  White  Female            0   \n",
       "4         Prof-specialty      Own-child  White  Female            0   \n",
       "...                  ...            ...    ...     ...          ...   \n",
       "32556    Protective-serv  Not-in-family  White    Male            0   \n",
       "32557       Tech-support           Wife  White  Female            0   \n",
       "32558  Machine-op-inspct        Husband  White    Male            0   \n",
       "32559       Adm-clerical      Unmarried  White  Female            0   \n",
       "32560       Adm-clerical      Own-child  White    Male            0   \n",
       "\n",
       "       CapitalLoss  HoursPerWeek        Country income  \n",
       "0             4356            40  United-States  <=50K  \n",
       "1             4356            18  United-States  <=50K  \n",
       "2             4356            40  United-States  <=50K  \n",
       "3             3900            40  United-States  <=50K  \n",
       "4             3900            40  United-States  <=50K  \n",
       "...            ...           ...            ...    ...  \n",
       "32556            0            40  United-States  <=50K  \n",
       "32557            0            38  United-States  <=50K  \n",
       "32558            0            40  United-States   >50K  \n",
       "32559            0            40  United-States  <=50K  \n",
       "32560            0            20  United-States  <=50K  \n",
       "\n",
       "[32561 rows x 15 columns]"
      ]
     },
     "execution_count": 54,
     "metadata": {},
     "output_type": "execute_result"
    }
   ],
   "source": [
    "# viewing data again \n",
    "income_data"
   ]
  },
  {
   "cell_type": "code",
   "execution_count": null,
   "id": "9d8e3a1f",
   "metadata": {
    "id": "9d8e3a1f",
    "outputId": "a83547ca-c8cc-4739-f6f4-ff0e5af25fb6"
   },
   "outputs": [
    {
     "data": {
      "text/html": [
       "<div>\n",
       "<style scoped>\n",
       "    .dataframe tbody tr th:only-of-type {\n",
       "        vertical-align: middle;\n",
       "    }\n",
       "\n",
       "    .dataframe tbody tr th {\n",
       "        vertical-align: top;\n",
       "    }\n",
       "\n",
       "    .dataframe thead th {\n",
       "        text-align: right;\n",
       "    }\n",
       "</style>\n",
       "<table border=\"1\" class=\"dataframe\">\n",
       "  <thead>\n",
       "    <tr style=\"text-align: right;\">\n",
       "      <th></th>\n",
       "      <th>age</th>\n",
       "      <th>workclass</th>\n",
       "      <th>fnlwgt</th>\n",
       "      <th>education</th>\n",
       "      <th>EducationNum</th>\n",
       "      <th>MaritalStatus</th>\n",
       "      <th>occupation</th>\n",
       "      <th>relationship</th>\n",
       "      <th>race</th>\n",
       "      <th>sex</th>\n",
       "      <th>CapitalGain</th>\n",
       "      <th>CapitalLoss</th>\n",
       "      <th>HoursPerWeek</th>\n",
       "      <th>Country</th>\n",
       "      <th>income</th>\n",
       "    </tr>\n",
       "  </thead>\n",
       "  <tbody>\n",
       "    <tr>\n",
       "      <th>0</th>\n",
       "      <td>90</td>\n",
       "      <td>NaN</td>\n",
       "      <td>77053</td>\n",
       "      <td>HS-grad</td>\n",
       "      <td>9</td>\n",
       "      <td>Widowed</td>\n",
       "      <td>NaN</td>\n",
       "      <td>Not-in-family</td>\n",
       "      <td>White</td>\n",
       "      <td>Female</td>\n",
       "      <td>0</td>\n",
       "      <td>4356</td>\n",
       "      <td>40</td>\n",
       "      <td>United-States</td>\n",
       "      <td>&lt;=50K</td>\n",
       "    </tr>\n",
       "    <tr>\n",
       "      <th>1</th>\n",
       "      <td>82</td>\n",
       "      <td>Private</td>\n",
       "      <td>132870</td>\n",
       "      <td>HS-grad</td>\n",
       "      <td>9</td>\n",
       "      <td>Widowed</td>\n",
       "      <td>Exec-managerial</td>\n",
       "      <td>Not-in-family</td>\n",
       "      <td>White</td>\n",
       "      <td>Female</td>\n",
       "      <td>0</td>\n",
       "      <td>4356</td>\n",
       "      <td>18</td>\n",
       "      <td>United-States</td>\n",
       "      <td>&lt;=50K</td>\n",
       "    </tr>\n",
       "    <tr>\n",
       "      <th>2</th>\n",
       "      <td>66</td>\n",
       "      <td>NaN</td>\n",
       "      <td>186061</td>\n",
       "      <td>Some-college</td>\n",
       "      <td>10</td>\n",
       "      <td>Widowed</td>\n",
       "      <td>NaN</td>\n",
       "      <td>Unmarried</td>\n",
       "      <td>Black</td>\n",
       "      <td>Female</td>\n",
       "      <td>0</td>\n",
       "      <td>4356</td>\n",
       "      <td>40</td>\n",
       "      <td>United-States</td>\n",
       "      <td>&lt;=50K</td>\n",
       "    </tr>\n",
       "    <tr>\n",
       "      <th>3</th>\n",
       "      <td>54</td>\n",
       "      <td>Private</td>\n",
       "      <td>140359</td>\n",
       "      <td>7th-8th</td>\n",
       "      <td>4</td>\n",
       "      <td>Divorced</td>\n",
       "      <td>Machine-op-inspct</td>\n",
       "      <td>Unmarried</td>\n",
       "      <td>White</td>\n",
       "      <td>Female</td>\n",
       "      <td>0</td>\n",
       "      <td>3900</td>\n",
       "      <td>40</td>\n",
       "      <td>United-States</td>\n",
       "      <td>&lt;=50K</td>\n",
       "    </tr>\n",
       "    <tr>\n",
       "      <th>4</th>\n",
       "      <td>41</td>\n",
       "      <td>Private</td>\n",
       "      <td>264663</td>\n",
       "      <td>Some-college</td>\n",
       "      <td>10</td>\n",
       "      <td>Separated</td>\n",
       "      <td>Prof-specialty</td>\n",
       "      <td>Own-child</td>\n",
       "      <td>White</td>\n",
       "      <td>Female</td>\n",
       "      <td>0</td>\n",
       "      <td>3900</td>\n",
       "      <td>40</td>\n",
       "      <td>United-States</td>\n",
       "      <td>&lt;=50K</td>\n",
       "    </tr>\n",
       "    <tr>\n",
       "      <th>5</th>\n",
       "      <td>34</td>\n",
       "      <td>Private</td>\n",
       "      <td>216864</td>\n",
       "      <td>HS-grad</td>\n",
       "      <td>9</td>\n",
       "      <td>Divorced</td>\n",
       "      <td>Other-service</td>\n",
       "      <td>Unmarried</td>\n",
       "      <td>White</td>\n",
       "      <td>Female</td>\n",
       "      <td>0</td>\n",
       "      <td>3770</td>\n",
       "      <td>45</td>\n",
       "      <td>United-States</td>\n",
       "      <td>&lt;=50K</td>\n",
       "    </tr>\n",
       "    <tr>\n",
       "      <th>6</th>\n",
       "      <td>38</td>\n",
       "      <td>Private</td>\n",
       "      <td>150601</td>\n",
       "      <td>10th</td>\n",
       "      <td>6</td>\n",
       "      <td>Separated</td>\n",
       "      <td>Adm-clerical</td>\n",
       "      <td>Unmarried</td>\n",
       "      <td>White</td>\n",
       "      <td>Male</td>\n",
       "      <td>0</td>\n",
       "      <td>3770</td>\n",
       "      <td>40</td>\n",
       "      <td>United-States</td>\n",
       "      <td>&lt;=50K</td>\n",
       "    </tr>\n",
       "    <tr>\n",
       "      <th>7</th>\n",
       "      <td>74</td>\n",
       "      <td>State-gov</td>\n",
       "      <td>88638</td>\n",
       "      <td>Doctorate</td>\n",
       "      <td>16</td>\n",
       "      <td>Never-married</td>\n",
       "      <td>Prof-specialty</td>\n",
       "      <td>Other-relative</td>\n",
       "      <td>White</td>\n",
       "      <td>Female</td>\n",
       "      <td>0</td>\n",
       "      <td>3683</td>\n",
       "      <td>20</td>\n",
       "      <td>United-States</td>\n",
       "      <td>&gt;50K</td>\n",
       "    </tr>\n",
       "    <tr>\n",
       "      <th>8</th>\n",
       "      <td>68</td>\n",
       "      <td>Federal-gov</td>\n",
       "      <td>422013</td>\n",
       "      <td>HS-grad</td>\n",
       "      <td>9</td>\n",
       "      <td>Divorced</td>\n",
       "      <td>Prof-specialty</td>\n",
       "      <td>Not-in-family</td>\n",
       "      <td>White</td>\n",
       "      <td>Female</td>\n",
       "      <td>0</td>\n",
       "      <td>3683</td>\n",
       "      <td>40</td>\n",
       "      <td>United-States</td>\n",
       "      <td>&lt;=50K</td>\n",
       "    </tr>\n",
       "    <tr>\n",
       "      <th>9</th>\n",
       "      <td>41</td>\n",
       "      <td>Private</td>\n",
       "      <td>70037</td>\n",
       "      <td>Some-college</td>\n",
       "      <td>10</td>\n",
       "      <td>Never-married</td>\n",
       "      <td>Craft-repair</td>\n",
       "      <td>Unmarried</td>\n",
       "      <td>White</td>\n",
       "      <td>Male</td>\n",
       "      <td>0</td>\n",
       "      <td>3004</td>\n",
       "      <td>60</td>\n",
       "      <td>NaN</td>\n",
       "      <td>&gt;50K</td>\n",
       "    </tr>\n",
       "  </tbody>\n",
       "</table>\n",
       "</div>"
      ],
      "text/plain": [
       "   age    workclass  fnlwgt     education  EducationNum  MaritalStatus  \\\n",
       "0   90          NaN   77053       HS-grad             9        Widowed   \n",
       "1   82      Private  132870       HS-grad             9        Widowed   \n",
       "2   66          NaN  186061  Some-college            10        Widowed   \n",
       "3   54      Private  140359       7th-8th             4       Divorced   \n",
       "4   41      Private  264663  Some-college            10      Separated   \n",
       "5   34      Private  216864       HS-grad             9       Divorced   \n",
       "6   38      Private  150601          10th             6      Separated   \n",
       "7   74    State-gov   88638     Doctorate            16  Never-married   \n",
       "8   68  Federal-gov  422013       HS-grad             9       Divorced   \n",
       "9   41      Private   70037  Some-college            10  Never-married   \n",
       "\n",
       "          occupation    relationship   race     sex  CapitalGain  CapitalLoss  \\\n",
       "0                NaN   Not-in-family  White  Female            0         4356   \n",
       "1    Exec-managerial   Not-in-family  White  Female            0         4356   \n",
       "2                NaN       Unmarried  Black  Female            0         4356   \n",
       "3  Machine-op-inspct       Unmarried  White  Female            0         3900   \n",
       "4     Prof-specialty       Own-child  White  Female            0         3900   \n",
       "5      Other-service       Unmarried  White  Female            0         3770   \n",
       "6       Adm-clerical       Unmarried  White    Male            0         3770   \n",
       "7     Prof-specialty  Other-relative  White  Female            0         3683   \n",
       "8     Prof-specialty   Not-in-family  White  Female            0         3683   \n",
       "9       Craft-repair       Unmarried  White    Male            0         3004   \n",
       "\n",
       "   HoursPerWeek        Country income  \n",
       "0            40  United-States  <=50K  \n",
       "1            18  United-States  <=50K  \n",
       "2            40  United-States  <=50K  \n",
       "3            40  United-States  <=50K  \n",
       "4            40  United-States  <=50K  \n",
       "5            45  United-States  <=50K  \n",
       "6            40  United-States  <=50K  \n",
       "7            20  United-States   >50K  \n",
       "8            40  United-States  <=50K  \n",
       "9            60            NaN   >50K  "
      ]
     },
     "execution_count": 55,
     "metadata": {},
     "output_type": "execute_result"
    }
   ],
   "source": [
    "#Printing top 10 records\n",
    "income_data.head(10)"
   ]
  },
  {
   "cell_type": "code",
   "execution_count": null,
   "id": "cd6e2333",
   "metadata": {
    "id": "cd6e2333"
   },
   "outputs": [],
   "source": [
    "#income_data.head().to_excel(\"head_income_data.xls\")"
   ]
  },
  {
   "cell_type": "code",
   "execution_count": null,
   "id": "cf983011",
   "metadata": {
    "id": "cf983011",
    "outputId": "e7c641c3-ce03-4cc2-9021-783bd23ffb6e"
   },
   "outputs": [
    {
     "name": "stdout",
     "output_type": "stream",
     "text": [
      "<class 'pandas.core.frame.DataFrame'>\n",
      "RangeIndex: 32561 entries, 0 to 32560\n",
      "Data columns (total 15 columns):\n",
      " #   Column         Non-Null Count  Dtype \n",
      "---  ------         --------------  ----- \n",
      " 0   age            32561 non-null  int64 \n",
      " 1   workclass      30725 non-null  object\n",
      " 2   fnlwgt         32561 non-null  int64 \n",
      " 3   education      32561 non-null  object\n",
      " 4   EducationNum   32561 non-null  int64 \n",
      " 5   MaritalStatus  32561 non-null  object\n",
      " 6   occupation     30718 non-null  object\n",
      " 7   relationship   32561 non-null  object\n",
      " 8   race           32561 non-null  object\n",
      " 9   sex            32561 non-null  object\n",
      " 10  CapitalGain    32561 non-null  int64 \n",
      " 11  CapitalLoss    32561 non-null  int64 \n",
      " 12  HoursPerWeek   32561 non-null  int64 \n",
      " 13  Country        31978 non-null  object\n",
      " 14  income         32561 non-null  object\n",
      "dtypes: int64(6), object(9)\n",
      "memory usage: 3.7+ MB\n"
     ]
    }
   ],
   "source": [
    "# income dataset info to find columns and count of the data \n",
    "income_data.info()"
   ]
  },
  {
   "cell_type": "code",
   "execution_count": null,
   "id": "66d627ea",
   "metadata": {
    "id": "66d627ea"
   },
   "outputs": [],
   "source": [
    "# Renaming sex column to Gender\n",
    "income_data.rename(columns = {'sex':'gender'}, inplace=True)"
   ]
  },
  {
   "cell_type": "code",
   "execution_count": null,
   "id": "e3a92b9d",
   "metadata": {
    "id": "e3a92b9d",
    "outputId": "3ccd0bb0-d762-4b3e-cf88-d37c781c08fd"
   },
   "outputs": [
    {
     "data": {
      "text/plain": [
       "24"
      ]
     },
     "execution_count": 59,
     "metadata": {},
     "output_type": "execute_result"
    }
   ],
   "source": [
    "# counting the duplicate rows in the dataset \n",
    "income_data.duplicated().sum()"
   ]
  },
  {
   "cell_type": "code",
   "execution_count": null,
   "id": "514efa72",
   "metadata": {
    "id": "514efa72"
   },
   "outputs": [],
   "source": [
    "# removing duplicate values from the dataset\n",
    "income_data.drop_duplicates(inplace = True)"
   ]
  },
  {
   "cell_type": "code",
   "execution_count": null,
   "id": "d96956f7",
   "metadata": {
    "id": "d96956f7",
    "outputId": "21397189-29c5-41fa-b968-75a110695390"
   },
   "outputs": [
    {
     "data": {
      "text/plain": [
       "(32537, 15)"
      ]
     },
     "execution_count": 61,
     "metadata": {},
     "output_type": "execute_result"
    }
   ],
   "source": [
    "income_data.shape"
   ]
  },
  {
   "cell_type": "code",
   "execution_count": null,
   "id": "9f4c7b79",
   "metadata": {
    "id": "9f4c7b79",
    "outputId": "d751b016-9a30-4b7b-cdd9-6dc6d81e9a84"
   },
   "outputs": [
    {
     "data": {
      "text/plain": [
       "4261"
      ]
     },
     "execution_count": 62,
     "metadata": {},
     "output_type": "execute_result"
    }
   ],
   "source": [
    "# Counting total number of null values in the entire dataset\n",
    "income_data.isnull().sum().sum()"
   ]
  },
  {
   "cell_type": "code",
   "execution_count": null,
   "id": "81e2be95",
   "metadata": {
    "id": "81e2be95",
    "outputId": "10a730cb-5155-4e8e-d60c-11da853edf6b"
   },
   "outputs": [
    {
     "data": {
      "text/plain": [
       "occupation       1843\n",
       "workclass        1836\n",
       "Country           582\n",
       "age                 0\n",
       "fnlwgt              0\n",
       "education           0\n",
       "EducationNum        0\n",
       "MaritalStatus       0\n",
       "relationship        0\n",
       "race                0\n",
       "gender              0\n",
       "CapitalGain         0\n",
       "CapitalLoss         0\n",
       "HoursPerWeek        0\n",
       "income              0\n",
       "dtype: int64"
      ]
     },
     "execution_count": 63,
     "metadata": {},
     "output_type": "execute_result"
    }
   ],
   "source": [
    "#Counting number of NA values for all attributes\n",
    "income_data.isnull()\n",
    "income_data.isnull().sum()\n",
    "income_data.isnull().sum().sort_values(ascending=False)"
   ]
  },
  {
   "cell_type": "code",
   "execution_count": null,
   "id": "59778639",
   "metadata": {
    "id": "59778639"
   },
   "outputs": [],
   "source": [
    "# Filling NA's with mode[0] as only categorical variables have null values\n",
    "\n",
    "for col in ['occupation','workclass', 'Country']:\n",
    "    income_data[col].fillna(income_data[col].mode()[0], inplace=True)\n",
    "    "
   ]
  },
  {
   "cell_type": "code",
   "execution_count": null,
   "id": "d4991032",
   "metadata": {
    "id": "d4991032",
    "outputId": "fbee31e8-422f-4197-b1e5-d56e3d51a93c"
   },
   "outputs": [
    {
     "data": {
      "text/plain": [
       "age              0\n",
       "workclass        0\n",
       "fnlwgt           0\n",
       "education        0\n",
       "EducationNum     0\n",
       "MaritalStatus    0\n",
       "occupation       0\n",
       "relationship     0\n",
       "race             0\n",
       "gender           0\n",
       "CapitalGain      0\n",
       "CapitalLoss      0\n",
       "HoursPerWeek     0\n",
       "Country          0\n",
       "income           0\n",
       "dtype: int64"
      ]
     },
     "execution_count": 65,
     "metadata": {},
     "output_type": "execute_result"
    }
   ],
   "source": [
    "# Again checking the nulls\n",
    "\n",
    "income_data.isnull().sum()"
   ]
  },
  {
   "cell_type": "code",
   "execution_count": null,
   "id": "000c7443",
   "metadata": {
    "id": "000c7443",
    "outputId": "e7a49172-8863-4658-8ba6-7050217ffbfc"
   },
   "outputs": [
    {
     "data": {
      "text/html": [
       "<div>\n",
       "<style scoped>\n",
       "    .dataframe tbody tr th:only-of-type {\n",
       "        vertical-align: middle;\n",
       "    }\n",
       "\n",
       "    .dataframe tbody tr th {\n",
       "        vertical-align: top;\n",
       "    }\n",
       "\n",
       "    .dataframe thead th {\n",
       "        text-align: right;\n",
       "    }\n",
       "</style>\n",
       "<table border=\"1\" class=\"dataframe\">\n",
       "  <thead>\n",
       "    <tr style=\"text-align: right;\">\n",
       "      <th></th>\n",
       "      <th>age</th>\n",
       "      <th>workclass</th>\n",
       "      <th>fnlwgt</th>\n",
       "      <th>education</th>\n",
       "      <th>EducationNum</th>\n",
       "      <th>MaritalStatus</th>\n",
       "      <th>occupation</th>\n",
       "      <th>relationship</th>\n",
       "      <th>race</th>\n",
       "      <th>gender</th>\n",
       "      <th>CapitalGain</th>\n",
       "      <th>CapitalLoss</th>\n",
       "      <th>HoursPerWeek</th>\n",
       "      <th>Country</th>\n",
       "      <th>income</th>\n",
       "    </tr>\n",
       "  </thead>\n",
       "  <tbody>\n",
       "    <tr>\n",
       "      <th>0</th>\n",
       "      <td>90</td>\n",
       "      <td>Private</td>\n",
       "      <td>77053</td>\n",
       "      <td>HS-grad</td>\n",
       "      <td>9</td>\n",
       "      <td>Widowed</td>\n",
       "      <td>Prof-specialty</td>\n",
       "      <td>Not-in-family</td>\n",
       "      <td>White</td>\n",
       "      <td>Female</td>\n",
       "      <td>0</td>\n",
       "      <td>4356</td>\n",
       "      <td>40</td>\n",
       "      <td>United-States</td>\n",
       "      <td>&lt;=50K</td>\n",
       "    </tr>\n",
       "    <tr>\n",
       "      <th>1</th>\n",
       "      <td>82</td>\n",
       "      <td>Private</td>\n",
       "      <td>132870</td>\n",
       "      <td>HS-grad</td>\n",
       "      <td>9</td>\n",
       "      <td>Widowed</td>\n",
       "      <td>Exec-managerial</td>\n",
       "      <td>Not-in-family</td>\n",
       "      <td>White</td>\n",
       "      <td>Female</td>\n",
       "      <td>0</td>\n",
       "      <td>4356</td>\n",
       "      <td>18</td>\n",
       "      <td>United-States</td>\n",
       "      <td>&lt;=50K</td>\n",
       "    </tr>\n",
       "    <tr>\n",
       "      <th>2</th>\n",
       "      <td>66</td>\n",
       "      <td>Private</td>\n",
       "      <td>186061</td>\n",
       "      <td>Some-college</td>\n",
       "      <td>10</td>\n",
       "      <td>Widowed</td>\n",
       "      <td>Prof-specialty</td>\n",
       "      <td>Unmarried</td>\n",
       "      <td>Black</td>\n",
       "      <td>Female</td>\n",
       "      <td>0</td>\n",
       "      <td>4356</td>\n",
       "      <td>40</td>\n",
       "      <td>United-States</td>\n",
       "      <td>&lt;=50K</td>\n",
       "    </tr>\n",
       "    <tr>\n",
       "      <th>3</th>\n",
       "      <td>54</td>\n",
       "      <td>Private</td>\n",
       "      <td>140359</td>\n",
       "      <td>7th-8th</td>\n",
       "      <td>4</td>\n",
       "      <td>Divorced</td>\n",
       "      <td>Machine-op-inspct</td>\n",
       "      <td>Unmarried</td>\n",
       "      <td>White</td>\n",
       "      <td>Female</td>\n",
       "      <td>0</td>\n",
       "      <td>3900</td>\n",
       "      <td>40</td>\n",
       "      <td>United-States</td>\n",
       "      <td>&lt;=50K</td>\n",
       "    </tr>\n",
       "    <tr>\n",
       "      <th>4</th>\n",
       "      <td>41</td>\n",
       "      <td>Private</td>\n",
       "      <td>264663</td>\n",
       "      <td>Some-college</td>\n",
       "      <td>10</td>\n",
       "      <td>Separated</td>\n",
       "      <td>Prof-specialty</td>\n",
       "      <td>Own-child</td>\n",
       "      <td>White</td>\n",
       "      <td>Female</td>\n",
       "      <td>0</td>\n",
       "      <td>3900</td>\n",
       "      <td>40</td>\n",
       "      <td>United-States</td>\n",
       "      <td>&lt;=50K</td>\n",
       "    </tr>\n",
       "    <tr>\n",
       "      <th>...</th>\n",
       "      <td>...</td>\n",
       "      <td>...</td>\n",
       "      <td>...</td>\n",
       "      <td>...</td>\n",
       "      <td>...</td>\n",
       "      <td>...</td>\n",
       "      <td>...</td>\n",
       "      <td>...</td>\n",
       "      <td>...</td>\n",
       "      <td>...</td>\n",
       "      <td>...</td>\n",
       "      <td>...</td>\n",
       "      <td>...</td>\n",
       "      <td>...</td>\n",
       "      <td>...</td>\n",
       "    </tr>\n",
       "    <tr>\n",
       "      <th>32556</th>\n",
       "      <td>22</td>\n",
       "      <td>Private</td>\n",
       "      <td>310152</td>\n",
       "      <td>Some-college</td>\n",
       "      <td>10</td>\n",
       "      <td>Never-married</td>\n",
       "      <td>Protective-serv</td>\n",
       "      <td>Not-in-family</td>\n",
       "      <td>White</td>\n",
       "      <td>Male</td>\n",
       "      <td>0</td>\n",
       "      <td>0</td>\n",
       "      <td>40</td>\n",
       "      <td>United-States</td>\n",
       "      <td>&lt;=50K</td>\n",
       "    </tr>\n",
       "    <tr>\n",
       "      <th>32557</th>\n",
       "      <td>27</td>\n",
       "      <td>Private</td>\n",
       "      <td>257302</td>\n",
       "      <td>Assoc-acdm</td>\n",
       "      <td>12</td>\n",
       "      <td>Married-civ-spouse</td>\n",
       "      <td>Tech-support</td>\n",
       "      <td>Wife</td>\n",
       "      <td>White</td>\n",
       "      <td>Female</td>\n",
       "      <td>0</td>\n",
       "      <td>0</td>\n",
       "      <td>38</td>\n",
       "      <td>United-States</td>\n",
       "      <td>&lt;=50K</td>\n",
       "    </tr>\n",
       "    <tr>\n",
       "      <th>32558</th>\n",
       "      <td>40</td>\n",
       "      <td>Private</td>\n",
       "      <td>154374</td>\n",
       "      <td>HS-grad</td>\n",
       "      <td>9</td>\n",
       "      <td>Married-civ-spouse</td>\n",
       "      <td>Machine-op-inspct</td>\n",
       "      <td>Husband</td>\n",
       "      <td>White</td>\n",
       "      <td>Male</td>\n",
       "      <td>0</td>\n",
       "      <td>0</td>\n",
       "      <td>40</td>\n",
       "      <td>United-States</td>\n",
       "      <td>&gt;50K</td>\n",
       "    </tr>\n",
       "    <tr>\n",
       "      <th>32559</th>\n",
       "      <td>58</td>\n",
       "      <td>Private</td>\n",
       "      <td>151910</td>\n",
       "      <td>HS-grad</td>\n",
       "      <td>9</td>\n",
       "      <td>Widowed</td>\n",
       "      <td>Adm-clerical</td>\n",
       "      <td>Unmarried</td>\n",
       "      <td>White</td>\n",
       "      <td>Female</td>\n",
       "      <td>0</td>\n",
       "      <td>0</td>\n",
       "      <td>40</td>\n",
       "      <td>United-States</td>\n",
       "      <td>&lt;=50K</td>\n",
       "    </tr>\n",
       "    <tr>\n",
       "      <th>32560</th>\n",
       "      <td>22</td>\n",
       "      <td>Private</td>\n",
       "      <td>201490</td>\n",
       "      <td>HS-grad</td>\n",
       "      <td>9</td>\n",
       "      <td>Never-married</td>\n",
       "      <td>Adm-clerical</td>\n",
       "      <td>Own-child</td>\n",
       "      <td>White</td>\n",
       "      <td>Male</td>\n",
       "      <td>0</td>\n",
       "      <td>0</td>\n",
       "      <td>20</td>\n",
       "      <td>United-States</td>\n",
       "      <td>&lt;=50K</td>\n",
       "    </tr>\n",
       "  </tbody>\n",
       "</table>\n",
       "<p>32537 rows × 15 columns</p>\n",
       "</div>"
      ],
      "text/plain": [
       "       age workclass  fnlwgt     education  EducationNum       MaritalStatus  \\\n",
       "0       90   Private   77053       HS-grad             9             Widowed   \n",
       "1       82   Private  132870       HS-grad             9             Widowed   \n",
       "2       66   Private  186061  Some-college            10             Widowed   \n",
       "3       54   Private  140359       7th-8th             4            Divorced   \n",
       "4       41   Private  264663  Some-college            10           Separated   \n",
       "...    ...       ...     ...           ...           ...                 ...   \n",
       "32556   22   Private  310152  Some-college            10       Never-married   \n",
       "32557   27   Private  257302    Assoc-acdm            12  Married-civ-spouse   \n",
       "32558   40   Private  154374       HS-grad             9  Married-civ-spouse   \n",
       "32559   58   Private  151910       HS-grad             9             Widowed   \n",
       "32560   22   Private  201490       HS-grad             9       Never-married   \n",
       "\n",
       "              occupation   relationship   race  gender  CapitalGain  \\\n",
       "0         Prof-specialty  Not-in-family  White  Female            0   \n",
       "1        Exec-managerial  Not-in-family  White  Female            0   \n",
       "2         Prof-specialty      Unmarried  Black  Female            0   \n",
       "3      Machine-op-inspct      Unmarried  White  Female            0   \n",
       "4         Prof-specialty      Own-child  White  Female            0   \n",
       "...                  ...            ...    ...     ...          ...   \n",
       "32556    Protective-serv  Not-in-family  White    Male            0   \n",
       "32557       Tech-support           Wife  White  Female            0   \n",
       "32558  Machine-op-inspct        Husband  White    Male            0   \n",
       "32559       Adm-clerical      Unmarried  White  Female            0   \n",
       "32560       Adm-clerical      Own-child  White    Male            0   \n",
       "\n",
       "       CapitalLoss  HoursPerWeek        Country income  \n",
       "0             4356            40  United-States  <=50K  \n",
       "1             4356            18  United-States  <=50K  \n",
       "2             4356            40  United-States  <=50K  \n",
       "3             3900            40  United-States  <=50K  \n",
       "4             3900            40  United-States  <=50K  \n",
       "...            ...           ...            ...    ...  \n",
       "32556            0            40  United-States  <=50K  \n",
       "32557            0            38  United-States  <=50K  \n",
       "32558            0            40  United-States   >50K  \n",
       "32559            0            40  United-States  <=50K  \n",
       "32560            0            20  United-States  <=50K  \n",
       "\n",
       "[32537 rows x 15 columns]"
      ]
     },
     "execution_count": 66,
     "metadata": {},
     "output_type": "execute_result"
    }
   ],
   "source": [
    "income_data"
   ]
  },
  {
   "cell_type": "code",
   "execution_count": null,
   "id": "8e078a38",
   "metadata": {
    "id": "8e078a38",
    "outputId": "f8925148-1c2c-4109-ce52-5ad5cb322493"
   },
   "outputs": [
    {
     "data": {
      "text/html": [
       "<div>\n",
       "<style scoped>\n",
       "    .dataframe tbody tr th:only-of-type {\n",
       "        vertical-align: middle;\n",
       "    }\n",
       "\n",
       "    .dataframe tbody tr th {\n",
       "        vertical-align: top;\n",
       "    }\n",
       "\n",
       "    .dataframe thead th {\n",
       "        text-align: right;\n",
       "    }\n",
       "</style>\n",
       "<table border=\"1\" class=\"dataframe\">\n",
       "  <thead>\n",
       "    <tr style=\"text-align: right;\">\n",
       "      <th></th>\n",
       "      <th>age</th>\n",
       "      <th>fnlwgt</th>\n",
       "      <th>EducationNum</th>\n",
       "      <th>CapitalGain</th>\n",
       "      <th>CapitalLoss</th>\n",
       "      <th>HoursPerWeek</th>\n",
       "    </tr>\n",
       "  </thead>\n",
       "  <tbody>\n",
       "    <tr>\n",
       "      <th>count</th>\n",
       "      <td>32537.0</td>\n",
       "      <td>32537.0</td>\n",
       "      <td>32537.0</td>\n",
       "      <td>32537.0</td>\n",
       "      <td>32537.0</td>\n",
       "      <td>32537.0</td>\n",
       "    </tr>\n",
       "    <tr>\n",
       "      <th>mean</th>\n",
       "      <td>39.0</td>\n",
       "      <td>189781.0</td>\n",
       "      <td>10.0</td>\n",
       "      <td>1078.0</td>\n",
       "      <td>87.0</td>\n",
       "      <td>40.0</td>\n",
       "    </tr>\n",
       "    <tr>\n",
       "      <th>std</th>\n",
       "      <td>14.0</td>\n",
       "      <td>105556.0</td>\n",
       "      <td>3.0</td>\n",
       "      <td>7388.0</td>\n",
       "      <td>403.0</td>\n",
       "      <td>12.0</td>\n",
       "    </tr>\n",
       "    <tr>\n",
       "      <th>min</th>\n",
       "      <td>17.0</td>\n",
       "      <td>12285.0</td>\n",
       "      <td>1.0</td>\n",
       "      <td>0.0</td>\n",
       "      <td>0.0</td>\n",
       "      <td>1.0</td>\n",
       "    </tr>\n",
       "    <tr>\n",
       "      <th>25%</th>\n",
       "      <td>28.0</td>\n",
       "      <td>117827.0</td>\n",
       "      <td>9.0</td>\n",
       "      <td>0.0</td>\n",
       "      <td>0.0</td>\n",
       "      <td>40.0</td>\n",
       "    </tr>\n",
       "    <tr>\n",
       "      <th>50%</th>\n",
       "      <td>37.0</td>\n",
       "      <td>178356.0</td>\n",
       "      <td>10.0</td>\n",
       "      <td>0.0</td>\n",
       "      <td>0.0</td>\n",
       "      <td>40.0</td>\n",
       "    </tr>\n",
       "    <tr>\n",
       "      <th>75%</th>\n",
       "      <td>48.0</td>\n",
       "      <td>236993.0</td>\n",
       "      <td>12.0</td>\n",
       "      <td>0.0</td>\n",
       "      <td>0.0</td>\n",
       "      <td>45.0</td>\n",
       "    </tr>\n",
       "    <tr>\n",
       "      <th>max</th>\n",
       "      <td>90.0</td>\n",
       "      <td>1484705.0</td>\n",
       "      <td>16.0</td>\n",
       "      <td>99999.0</td>\n",
       "      <td>4356.0</td>\n",
       "      <td>99.0</td>\n",
       "    </tr>\n",
       "  </tbody>\n",
       "</table>\n",
       "</div>"
      ],
      "text/plain": [
       "           age     fnlwgt  EducationNum  CapitalGain  CapitalLoss  \\\n",
       "count  32537.0    32537.0       32537.0      32537.0      32537.0   \n",
       "mean      39.0   189781.0          10.0       1078.0         87.0   \n",
       "std       14.0   105556.0           3.0       7388.0        403.0   \n",
       "min       17.0    12285.0           1.0          0.0          0.0   \n",
       "25%       28.0   117827.0           9.0          0.0          0.0   \n",
       "50%       37.0   178356.0          10.0          0.0          0.0   \n",
       "75%       48.0   236993.0          12.0          0.0          0.0   \n",
       "max       90.0  1484705.0          16.0      99999.0       4356.0   \n",
       "\n",
       "       HoursPerWeek  \n",
       "count       32537.0  \n",
       "mean           40.0  \n",
       "std            12.0  \n",
       "min             1.0  \n",
       "25%            40.0  \n",
       "50%            40.0  \n",
       "75%            45.0  \n",
       "max            99.0  "
      ]
     },
     "execution_count": 67,
     "metadata": {},
     "output_type": "execute_result"
    }
   ],
   "source": [
    "# Descriptive Analytics of quantitative variables in the dataframe\n",
    "\n",
    "Numeric_data = round(income_data.describe(),0)  # rounding off the decimals\n",
    "Numeric_data # transposing the data\n",
    "\n",
    "#Numeric_data.T.to_csv(\"Numeric_data.csv\")"
   ]
  },
  {
   "cell_type": "code",
   "execution_count": null,
   "id": "9a460860",
   "metadata": {
    "id": "9a460860",
    "outputId": "11cdba2f-a5c0-44cb-9757-45a38726edfd"
   },
   "outputs": [
    {
     "name": "stdout",
     "output_type": "stream",
     "text": [
      "workclass: ['Private' 'State-gov' 'Federal-gov' 'Self-emp-not-inc' 'Self-emp-inc'\n",
      " 'Local-gov' 'Without-pay' 'Never-worked']\n",
      "education: ['HS-grad' 'Some-college' '7th-8th' '10th' 'Doctorate' 'Prof-school'\n",
      " 'Bachelors' 'Masters' '11th' 'Assoc-acdm' 'Assoc-voc' '1st-4th' '5th-6th'\n",
      " '12th' '9th' 'Preschool']\n",
      "MaritalStatus : ['Widowed' 'Divorced' 'Separated' 'Never-married' 'Married-civ-spouse'\n",
      " 'Married-spouse-absent' 'Married-AF-spouse']\n",
      "occupation : ['Prof-specialty' 'Exec-managerial' 'Machine-op-inspct' 'Other-service'\n",
      " 'Adm-clerical' 'Craft-repair' 'Transport-moving' 'Handlers-cleaners'\n",
      " 'Sales' 'Farming-fishing' 'Tech-support' 'Protective-serv' 'Armed-Forces'\n",
      " 'Priv-house-serv']\n",
      "relationship : ['Not-in-family' 'Unmarried' 'Own-child' 'Other-relative' 'Husband' 'Wife']\n",
      "race : ['White' 'Black' 'Asian-Pac-Islander' 'Other' 'Amer-Indian-Eskimo']\n",
      "gender : ['Female' 'Male']\n",
      "Country : ['United-States' 'Mexico' 'Greece' 'Vietnam' 'China' 'Taiwan' 'India'\n",
      " 'Philippines' 'Trinadad&Tobago' 'Canada' 'South' 'Holand-Netherlands'\n",
      " 'Puerto-Rico' 'Poland' 'Iran' 'England' 'Germany' 'Italy' 'Japan' 'Hong'\n",
      " 'Honduras' 'Cuba' 'Ireland' 'Cambodia' 'Peru' 'Nicaragua'\n",
      " 'Dominican-Republic' 'Haiti' 'El-Salvador' 'Hungary' 'Columbia'\n",
      " 'Guatemala' 'Jamaica' 'Ecuador' 'France' 'Yugoslavia' 'Scotland'\n",
      " 'Portugal' 'Laos' 'Thailand' 'Outlying-US(Guam-USVI-etc)']\n",
      "income : ['<=50K' '>50K']\n"
     ]
    }
   ],
   "source": [
    "#Checking unique values for all Categorical columns(workclass,education,MaritalStatus,occupation,\n",
    "#relationship,race,gender,Country,income )\n",
    "\n",
    "print(\"workclass:\", income_data.workclass.unique())\n",
    "print(\"education:\", income_data.education.unique())\n",
    "print(\"MaritalStatus :\", income_data.MaritalStatus.unique())\n",
    "print(\"occupation :\", income_data.occupation.unique())\n",
    "print(\"relationship :\", income_data.relationship.unique())\n",
    "print(\"race :\", income_data.race.unique())\n",
    "print(\"gender :\", income_data.gender.unique())\n",
    "print(\"Country :\", income_data.Country.unique())\n",
    "print(\"income :\", income_data.income.unique())"
   ]
  },
  {
   "cell_type": "code",
   "execution_count": null,
   "id": "1eee7086",
   "metadata": {
    "id": "1eee7086",
    "outputId": "88a2723a-9a84-46c0-e535-1c3fc226c1b5",
    "scrolled": true
   },
   "outputs": [
    {
     "data": {
      "text/plain": [
       "Private             24509\n",
       "Self-emp-not-inc     2540\n",
       "Local-gov            2093\n",
       "State-gov            1298\n",
       "Self-emp-inc         1116\n",
       "Federal-gov           960\n",
       "Without-pay            14\n",
       "Never-worked            7\n",
       "Name: workclass, dtype: int64"
      ]
     },
     "execution_count": 69,
     "metadata": {},
     "output_type": "execute_result"
    }
   ],
   "source": [
    "# Counting the occurence of values for workclass\n",
    "income_data[\"workclass\"].value_counts()"
   ]
  },
  {
   "cell_type": "code",
   "execution_count": null,
   "id": "b3f97a9e",
   "metadata": {
    "id": "b3f97a9e",
    "outputId": "057b875d-df96-4e51-902d-72b014812704"
   },
   "outputs": [
    {
     "data": {
      "text/plain": [
       "HS-grad         10494\n",
       "Some-college     7282\n",
       "Bachelors        5353\n",
       "Masters          1722\n",
       "Assoc-voc        1382\n",
       "11th             1175\n",
       "Assoc-acdm       1067\n",
       "10th              933\n",
       "7th-8th           645\n",
       "Prof-school       576\n",
       "9th               514\n",
       "12th              433\n",
       "Doctorate         413\n",
       "5th-6th           332\n",
       "1st-4th           166\n",
       "Preschool          50\n",
       "Name: education, dtype: int64"
      ]
     },
     "execution_count": 70,
     "metadata": {},
     "output_type": "execute_result"
    }
   ],
   "source": [
    "# Counting the occurence of values for education\n",
    "income_data[\"education\"].value_counts()"
   ]
  },
  {
   "cell_type": "code",
   "execution_count": null,
   "id": "a2dc7135",
   "metadata": {
    "id": "a2dc7135",
    "outputId": "7f7b3ef2-3f63-45f9-ca33-bbb07d76bf6e"
   },
   "outputs": [
    {
     "data": {
      "text/plain": [
       "Married-civ-spouse       14970\n",
       "Never-married            10667\n",
       "Divorced                  4441\n",
       "Separated                 1025\n",
       "Widowed                    993\n",
       "Married-spouse-absent      418\n",
       "Married-AF-spouse           23\n",
       "Name: MaritalStatus, dtype: int64"
      ]
     },
     "execution_count": 71,
     "metadata": {},
     "output_type": "execute_result"
    }
   ],
   "source": [
    "# Counting the occurence of values for MaritalStatus\n",
    "income_data[\"MaritalStatus\"].value_counts()"
   ]
  },
  {
   "cell_type": "code",
   "execution_count": null,
   "id": "f8eac892",
   "metadata": {
    "id": "f8eac892",
    "outputId": "b9a8ec38-0c18-47b4-acc4-1873eae1a5d0"
   },
   "outputs": [
    {
     "data": {
      "text/plain": [
       "Prof-specialty       5979\n",
       "Craft-repair         4094\n",
       "Exec-managerial      4065\n",
       "Adm-clerical         3768\n",
       "Sales                3650\n",
       "Other-service        3291\n",
       "Machine-op-inspct    2000\n",
       "Transport-moving     1597\n",
       "Handlers-cleaners    1369\n",
       "Farming-fishing       992\n",
       "Tech-support          927\n",
       "Protective-serv       649\n",
       "Priv-house-serv       147\n",
       "Armed-Forces            9\n",
       "Name: occupation, dtype: int64"
      ]
     },
     "execution_count": 72,
     "metadata": {},
     "output_type": "execute_result"
    }
   ],
   "source": [
    "# Counting the occurence of values for occupation\n",
    "income_data[\"occupation\"].value_counts()"
   ]
  },
  {
   "cell_type": "code",
   "execution_count": null,
   "id": "cf126702",
   "metadata": {
    "id": "cf126702",
    "outputId": "ffc9a167-a4b4-49ff-c137-f47c29462b5f"
   },
   "outputs": [
    {
     "data": {
      "text/plain": [
       "Husband           13187\n",
       "Not-in-family      8292\n",
       "Own-child          5064\n",
       "Unmarried          3445\n",
       "Wife               1568\n",
       "Other-relative      981\n",
       "Name: relationship, dtype: int64"
      ]
     },
     "execution_count": 73,
     "metadata": {},
     "output_type": "execute_result"
    }
   ],
   "source": [
    "# Counting the occurence of values for relationship\n",
    "income_data[\"relationship\"].value_counts()"
   ]
  },
  {
   "cell_type": "code",
   "execution_count": null,
   "id": "f08323ad",
   "metadata": {
    "id": "f08323ad",
    "outputId": "e97b0dc0-af57-41d3-a5a5-3d719bf726d4"
   },
   "outputs": [
    {
     "data": {
      "text/plain": [
       "White                 27795\n",
       "Black                  3122\n",
       "Asian-Pac-Islander     1038\n",
       "Amer-Indian-Eskimo      311\n",
       "Other                   271\n",
       "Name: race, dtype: int64"
      ]
     },
     "execution_count": 74,
     "metadata": {},
     "output_type": "execute_result"
    }
   ],
   "source": [
    "# Counting the occurence of values for race\n",
    "income_data[\"race\"].value_counts()"
   ]
  },
  {
   "cell_type": "code",
   "execution_count": null,
   "id": "fc226bc2",
   "metadata": {
    "id": "fc226bc2",
    "outputId": "0dfa6e31-d40f-4317-a9b4-6f48a3b18348"
   },
   "outputs": [
    {
     "data": {
      "text/plain": [
       "Male      21775\n",
       "Female    10762\n",
       "Name: gender, dtype: int64"
      ]
     },
     "execution_count": 75,
     "metadata": {},
     "output_type": "execute_result"
    }
   ],
   "source": [
    "# Counting the occurence of values for gender\n",
    "income_data[\"gender\"].value_counts()"
   ]
  },
  {
   "cell_type": "code",
   "execution_count": null,
   "id": "88a2c8b3",
   "metadata": {
    "id": "88a2c8b3",
    "outputId": "25e23233-e2c8-4b8a-d5f4-96c321a4cf08"
   },
   "outputs": [
    {
     "data": {
      "text/plain": [
       "United-States                 29735\n",
       "Mexico                          639\n",
       "Philippines                     198\n",
       "Germany                         137\n",
       "Canada                          121\n",
       "Puerto-Rico                     114\n",
       "El-Salvador                     106\n",
       "India                           100\n",
       "Cuba                             95\n",
       "England                          90\n",
       "Jamaica                          81\n",
       "South                            80\n",
       "China                            75\n",
       "Italy                            73\n",
       "Dominican-Republic               70\n",
       "Vietnam                          67\n",
       "Guatemala                        62\n",
       "Japan                            62\n",
       "Poland                           60\n",
       "Columbia                         59\n",
       "Taiwan                           51\n",
       "Haiti                            44\n",
       "Iran                             43\n",
       "Portugal                         37\n",
       "Nicaragua                        34\n",
       "Peru                             31\n",
       "Greece                           29\n",
       "France                           29\n",
       "Ecuador                          28\n",
       "Ireland                          24\n",
       "Hong                             20\n",
       "Trinadad&Tobago                  19\n",
       "Cambodia                         19\n",
       "Thailand                         18\n",
       "Laos                             18\n",
       "Yugoslavia                       16\n",
       "Outlying-US(Guam-USVI-etc)       14\n",
       "Hungary                          13\n",
       "Honduras                         13\n",
       "Scotland                         12\n",
       "Holand-Netherlands                1\n",
       "Name: Country, dtype: int64"
      ]
     },
     "execution_count": 76,
     "metadata": {},
     "output_type": "execute_result"
    }
   ],
   "source": [
    "# Counting the occurence of values for Country\n",
    "income_data[\"Country\"].value_counts()"
   ]
  },
  {
   "cell_type": "code",
   "execution_count": null,
   "id": "cfc8fd40",
   "metadata": {
    "id": "cfc8fd40",
    "outputId": "2fba4c01-c509-4896-a375-f45366ff3eb5"
   },
   "outputs": [
    {
     "data": {
      "text/plain": [
       "<=50K    24698\n",
       ">50K      7839\n",
       "Name: income, dtype: int64"
      ]
     },
     "execution_count": 77,
     "metadata": {},
     "output_type": "execute_result"
    }
   ],
   "source": [
    "# Counting the occurence of values for income\n",
    "income_data[\"income\"].value_counts()"
   ]
  },
  {
   "cell_type": "code",
   "execution_count": null,
   "id": "336f31d1",
   "metadata": {
    "id": "336f31d1",
    "outputId": "ed93f647-56f6-4c85-bbea-e5b05b412c1c"
   },
   "outputs": [
    {
     "data": {
      "text/plain": [
       "age               int64\n",
       "workclass        object\n",
       "fnlwgt            int64\n",
       "education        object\n",
       "EducationNum      int64\n",
       "MaritalStatus    object\n",
       "occupation       object\n",
       "relationship     object\n",
       "race             object\n",
       "gender           object\n",
       "CapitalGain       int64\n",
       "CapitalLoss       int64\n",
       "HoursPerWeek      int64\n",
       "Country          object\n",
       "income           object\n",
       "dtype: object"
      ]
     },
     "execution_count": 78,
     "metadata": {},
     "output_type": "execute_result"
    }
   ],
   "source": [
    "income_data.dtypes"
   ]
  },
  {
   "cell_type": "code",
   "execution_count": null,
   "id": "d1f0d570",
   "metadata": {
    "id": "d1f0d570"
   },
   "outputs": [],
   "source": [
    "#converting the object datatypes to categorical data types \n",
    "income_data[\"workclass\"]=income_data[\"workclass\"].astype(\"category\")\n",
    "income_data[\"education\"]=income_data[\"education\"].astype(\"category\")\n",
    "income_data[\"MaritalStatus\"]= income_data[\"MaritalStatus\"].astype(\"category\")\n",
    "income_data[\"occupation\"]= income_data[\"occupation\"].astype(\"category\")\n",
    "income_data[\"relationship\"]= income_data[\"relationship\"].astype(\"category\")\n",
    "income_data[\"race\"]= income_data[\"race\"].astype(\"category\")\n",
    "income_data[\"gender\"]= income_data[\"gender\"].astype(\"category\")\n",
    "income_data[\"Country\"]= income_data[\"Country\"].astype(\"category\")\n",
    "income_data[\"income\"]= income_data[\"income\"].astype(\"category\")"
   ]
  },
  {
   "cell_type": "code",
   "execution_count": null,
   "id": "5d3d783c",
   "metadata": {
    "id": "5d3d783c",
    "outputId": "354729f6-4bac-484d-c7fa-58605b25bcb5"
   },
   "outputs": [
    {
     "data": {
      "text/plain": [
       "age                 int64\n",
       "workclass        category\n",
       "fnlwgt              int64\n",
       "education        category\n",
       "EducationNum        int64\n",
       "MaritalStatus    category\n",
       "occupation       category\n",
       "relationship     category\n",
       "race             category\n",
       "gender           category\n",
       "CapitalGain         int64\n",
       "CapitalLoss         int64\n",
       "HoursPerWeek        int64\n",
       "Country          category\n",
       "income           category\n",
       "dtype: object"
      ]
     },
     "execution_count": 80,
     "metadata": {},
     "output_type": "execute_result"
    }
   ],
   "source": [
    "income_data.dtypes"
   ]
  },
  {
   "cell_type": "markdown",
   "id": "1ec74779",
   "metadata": {
    "id": "1ec74779"
   },
   "source": [
    "# Data Visualization"
   ]
  },
  {
   "cell_type": "markdown",
   "id": "8f79e155",
   "metadata": {
    "id": "8f79e155"
   },
   "source": [
    "###  Categorical variables"
   ]
  },
  {
   "cell_type": "code",
   "execution_count": null,
   "id": "b7685934",
   "metadata": {
    "id": "b7685934",
    "outputId": "aed10aaa-2168-45f4-8b55-b7a5babef941"
   },
   "outputs": [
    {
     "data": {
      "image/png": "[encoded data removed]",
      "text/plain": [
       "<Figure size 1080x360 with 1 Axes>"
      ]
     },
     "metadata": {},
     "output_type": "display_data"
    }
   ],
   "source": [
    "#Creating countplot for workclass\n",
    "sns.set_style(\"whitegrid\")\n",
    "plt.figure(figsize = (15,5))\n",
    "plt.title('\\nPopulation with Occupation Type\\n', fontsize=18, fontweight='bold')\n",
    "\n",
    "total = float(len(income_data))\n",
    "ax = sns.countplot(x = 'workclass', data = income_data)\n",
    "\n",
    "plt.ylabel(\"No of people\")\n",
    "plt.xlabel(\"\\nWorkclass Types\")\n",
    "ax.set_xticklabels(ax.get_xticklabels(), rotation=45, horizontalalignment='right')\n",
    "for p in ax.patches:\n",
    "    percentage = '{:.1f}%'.format(100 * p.get_height()/total)\n",
    "    x = p.get_x() + p.get_width()\n",
    "    y = p.get_height()\n",
    "    ax.annotate(percentage, (x, y),ha='center')\n",
    "plt.show()"
   ]
  },
  {
   "cell_type": "markdown",
   "id": "5e9c6b6e",
   "metadata": {
    "id": "5e9c6b6e"
   },
   "source": [
    "The countplot shows that Private Occupation have the maximum number of the people."
   ]
  },
  {
   "cell_type": "code",
   "execution_count": null,
   "id": "265b9752",
   "metadata": {
    "id": "265b9752",
    "outputId": "d82a41ce-de34-4cfe-8344-b4b338147818",
    "scrolled": true
   },
   "outputs": [
    {
     "data": {
      "image/png": "[encoded data removed]",
      "text/plain": [
       "<Figure size 1152x288 with 1 Axes>"
      ]
     },
     "metadata": {},
     "output_type": "display_data"
    }
   ],
   "source": [
    "#Representing number of people with different education level\n",
    "\n",
    "plt.figure(figsize=(16,4))\n",
    "sns.set(style = 'whitegrid')\n",
    "\n",
    "ax = sns.countplot(x = 'education', data = income_data)\n",
    "plt.title(\"Population based upon their education level\\n\",size=14)\n",
    "plt.ylabel(\"Number of people\")\n",
    "plt.xlabel(\" \\n Education Level\")\n",
    "\n",
    "ax.set_xticklabels(ax.get_xticklabels(), rotation=45, horizontalalignment='right')\n",
    "\n",
    "\n",
    "for p in (ax.patches):\n",
    "    percentage = '{:.1f}%'.format(100 * p.get_height()/total)\n",
    "    x = p.get_x() + p.get_width()\n",
    "    y = p.get_height()\n",
    "    ax.annotate(percentage, (x, y),ha='center')\n",
    "#plt.savefig(\"bar chart of education and population.png\")\n",
    "plt.show()\n"
   ]
  },
  {
   "cell_type": "markdown",
   "id": "d3158f51",
   "metadata": {
    "id": "d3158f51"
   },
   "source": [
    "The bargraph illustrates that the majority participants in the dataset are High School Graduates, followed by some college, then Bachelors degree holders."
   ]
  },
  {
   "cell_type": "code",
   "execution_count": null,
   "id": "a9919ebd",
   "metadata": {
    "id": "a9919ebd",
    "outputId": "f7496de4-8ff6-476d-afb3-f4c7d4be88b5"
   },
   "outputs": [
    {
     "data": {
      "image/png": "[encoded data removed]",
      "text/plain": [
       "<Figure size 1080x360 with 1 Axes>"
      ]
     },
     "metadata": {},
     "output_type": "display_data"
    }
   ],
   "source": [
    "#Graph representing marital_status of people in the dataset:\n",
    "\n",
    "plt.figure(figsize=(15,5))\n",
    "ax = sns.countplot(\"MaritalStatus\",data=income_data,hue=\"gender\",color=\"green\")\n",
    "\n",
    "plt.title(\"\\nPopulation based upon their Marital Status\\n\",size=14)\n",
    "plt.ylabel(\"\\nNumber of people\\n\")\n",
    "plt.xlabel(\" \\nMarital Status\\n\")\n",
    "\n",
    "ax.set_xticklabels(ax.get_xticklabels(), rotation=30, horizontalalignment='right')\n",
    "\n",
    "\n",
    "for p in (ax.patches):\n",
    "    percentage = '{:.1f}%'.format(100 * p.get_height()/total)\n",
    "    x = p.get_x() + p.get_width()\n",
    "    y = p.get_height()\n",
    "    ax.annotate(percentage, (x, y),ha='center')\n",
    "#plt.savefig(\"bar chart of Marital Status and population.png\")\n",
    "plt.show()"
   ]
  },
  {
   "cell_type": "markdown",
   "id": "a8cd7663",
   "metadata": {
    "id": "a8cd7663"
   },
   "source": [
    "The majority of working males are married, followed by singles. However, the majority of working females are single, followed by divorced and married women."
   ]
  },
  {
   "cell_type": "code",
   "execution_count": null,
   "id": "b7e24366",
   "metadata": {
    "id": "b7e24366",
    "outputId": "7ed573ba-be6b-408d-9956-8a413e42c719"
   },
   "outputs": [
    {
     "data": {
      "image/png": "[encoded data removed]",
      "text/plain": [
       "<Figure size 720x360 with 1 Axes>"
      ]
     },
     "metadata": {},
     "output_type": "display_data"
    }
   ],
   "source": [
    "#Graph representing number of people based upon income:\n",
    "\n",
    "plt.figure(figsize=(10,5))\n",
    "ax = sns.countplot(\"income\",data=income_data,hue=\"gender\",color=\"blue\")\n",
    "\n",
    "for p in (ax.patches):\n",
    "    percentage = '{:.1f}%'.format(100 * p.get_height()/total)\n",
    "    x = p.get_x() + p.get_width()\n",
    "    y = p.get_height()\n",
    "    ax.annotate(percentage, (x, y),ha='center')\n",
    "#plt.savefig(\"bar chart of income and gender count.png\")\n",
    "plt.show()"
   ]
  },
  {
   "cell_type": "markdown",
   "id": "a6180314",
   "metadata": {
    "id": "a6180314"
   },
   "source": [
    "As demonstrated in the graph above, the majority of people earn less than or equal to $50,000."
   ]
  },
  {
   "cell_type": "code",
   "execution_count": null,
   "id": "c479f5d6",
   "metadata": {
    "id": "c479f5d6"
   },
   "outputs": [],
   "source": [
    "#Using the map function, convert the data type of income variable to numerical data \n",
    "\n",
    "income_data['income'] = income_data['income'].map({'<=50K': 0, '>50K': 1}).astype(int)"
   ]
  },
  {
   "cell_type": "code",
   "execution_count": null,
   "id": "0c9788e4",
   "metadata": {
    "id": "0c9788e4",
    "outputId": "7dd5ba2f-95fb-4be3-9c72-e02b47df42ce"
   },
   "outputs": [
    {
     "data": {
      "text/plain": [
       "<AxesSubplot:xlabel='education'>"
      ]
     },
     "execution_count": 86,
     "metadata": {},
     "output_type": "execute_result"
    },
    {
     "data": {
      "image/png": "[encoded data removed]",
      "text/plain": [
       "<Figure size 432x288 with 1 Axes>"
      ]
     },
     "metadata": {},
     "output_type": "display_data"
    }
   ],
   "source": [
    "#Creating a bar graph for Education vs. Income to illustrate how these two columns are related \n",
    "income_data.groupby('education').income.mean().plot(kind='bar')\n",
    "# plt.savefig(\"bar chart of income and education.png\")"
   ]
  },
  {
   "cell_type": "markdown",
   "id": "16e0f3f4",
   "metadata": {
    "id": "16e0f3f4"
   },
   "source": [
    "Adults with a Prof-school and Doctorate educational background will have a greater salary, and it is likely that they will earn more over $50,000."
   ]
  },
  {
   "cell_type": "code",
   "execution_count": null,
   "id": "ff1e18c5",
   "metadata": {
    "id": "ff1e18c5",
    "outputId": "2b8ac76c-81f3-4665-8cae-2bd254b19b94"
   },
   "outputs": [
    {
     "data": {
      "text/plain": [
       "<AxesSubplot:xlabel='occupation'>"
      ]
     },
     "execution_count": 87,
     "metadata": {},
     "output_type": "execute_result"
    },
    {
     "data": {
      "image/png": "[encoded data removed]",
      "text/plain": [
       "<Figure size 432x288 with 1 Axes>"
      ]
     },
     "metadata": {},
     "output_type": "display_data"
    }
   ],
   "source": [
    "#To demonstrate the relationship between these columns, make a bar graph of Occupation vs. Income. \n",
    "income_data.groupby('occupation').income.mean().plot(kind='bar')"
   ]
  },
  {
   "cell_type": "markdown",
   "id": "7fcd2702",
   "metadata": {
    "id": "7fcd2702"
   },
   "source": [
    "According to our statistics, people with the jobs Prof-specialty and Exec-managerial have a better chance of earning more than $50,000."
   ]
  },
  {
   "cell_type": "code",
   "execution_count": null,
   "id": "93e5be0f",
   "metadata": {
    "id": "93e5be0f",
    "outputId": "1548338b-49a2-40b7-dda1-728f8f4887f0"
   },
   "outputs": [
    {
     "data": {
      "text/plain": [
       "<AxesSubplot:xlabel='gender'>"
      ]
     },
     "execution_count": 88,
     "metadata": {},
     "output_type": "execute_result"
    },
    {
     "data": {
      "image/png": "[encoded data removed]",
      "text/plain": [
       "<Figure size 432x288 with 1 Axes>"
      ]
     },
     "metadata": {},
     "output_type": "display_data"
    }
   ],
   "source": [
    "#To demonstrate the relationship between these columns, make a bar graph of gender vs. Income.\n",
    "income_data.groupby('gender').income.mean().plot(kind='bar')"
   ]
  },
  {
   "cell_type": "markdown",
   "id": "71919d87",
   "metadata": {
    "id": "71919d87"
   },
   "source": [
    "The gender bar chart shows that men are more likely to have a greater salary than women."
   ]
  },
  {
   "cell_type": "code",
   "execution_count": null,
   "id": "7f24d332",
   "metadata": {
    "id": "7f24d332",
    "outputId": "8244bf2b-7ba8-4f0d-c9db-086532f53818"
   },
   "outputs": [
    {
     "data": {
      "text/plain": [
       "<AxesSubplot:xlabel='relationship'>"
      ]
     },
     "execution_count": 89,
     "metadata": {},
     "output_type": "execute_result"
    },
    {
     "data": {
      "image/png": "[encoded data removed]",
      "text/plain": [
       "<Figure size 432x288 with 1 Axes>"
      ]
     },
     "metadata": {},
     "output_type": "display_data"
    }
   ],
   "source": [
    "#Creating a bar graph for relationship vs. Income to illustrate how these two columns are related \n",
    "income_data.groupby('relationship').income.mean().plot(kind='bar')"
   ]
  },
  {
   "cell_type": "markdown",
   "id": "4cd8110e",
   "metadata": {
    "id": "4cd8110e"
   },
   "source": [
    "We can see from the relationship chart that the wife and husband have a larger income. A married pair would very certainly earn more than $50,000."
   ]
  },
  {
   "cell_type": "code",
   "execution_count": null,
   "id": "7e67a0f0",
   "metadata": {
    "id": "7e67a0f0",
    "outputId": "add4561d-f480-40c9-b2fb-45a1351e0473"
   },
   "outputs": [
    {
     "data": {
      "text/plain": [
       "<AxesSubplot:xlabel='race'>"
      ]
     },
     "execution_count": 90,
     "metadata": {},
     "output_type": "execute_result"
    },
    {
     "data": {
      "image/png": "[encoded data removed]",
      "text/plain": [
       "<Figure size 432x288 with 1 Axes>"
      ]
     },
     "metadata": {},
     "output_type": "display_data"
    }
   ],
   "source": [
    "#Creating a bar graph for race vs. Income to illustrate how these two columns are related \n",
    "income_data.groupby('race').income.mean().plot(kind='bar')"
   ]
  },
  {
   "cell_type": "markdown",
   "id": "a389ea3d",
   "metadata": {
    "id": "a389ea3d"
   },
   "source": [
    "According to the data, an Asian-Pacific Islander or a white person had a better probability of earning more than $50,000."
   ]
  },
  {
   "cell_type": "code",
   "execution_count": null,
   "id": "7affbe80",
   "metadata": {
    "id": "7affbe80",
    "outputId": "305fa4f7-0032-401a-d305-d3b791f2d5bb"
   },
   "outputs": [
    {
     "data": {
      "text/plain": [
       "<AxesSubplot:xlabel='workclass'>"
      ]
     },
     "execution_count": 91,
     "metadata": {},
     "output_type": "execute_result"
    },
    {
     "data": {
      "image/png": "[encoded data removed]",
      "text/plain": [
       "<Figure size 432x288 with 1 Axes>"
      ]
     },
     "metadata": {},
     "output_type": "display_data"
    }
   ],
   "source": [
    "#Creating a bar graph for workclass vs. Income to illustrate how these two columns are related \n",
    "income_data.groupby('workclass').income.mean().plot(kind='bar')"
   ]
  },
  {
   "cell_type": "markdown",
   "id": "4cdc404d",
   "metadata": {
    "id": "4cdc404d"
   },
   "source": [
    "Self-employees in Federal government workclasses have a better probability of earning more than $50,000."
   ]
  },
  {
   "cell_type": "code",
   "execution_count": null,
   "id": "62426834",
   "metadata": {
    "id": "62426834",
    "outputId": "20d7ae72-c511-46fc-be82-2d4fdf1b4bea"
   },
   "outputs": [
    {
     "data": {
      "image/png": "[encoded data removed]",
      "text/plain": [
       "<Figure size 432x288 with 1 Axes>"
      ]
     },
     "metadata": {},
     "output_type": "display_data"
    }
   ],
   "source": [
    "# plotting pie chart for percentage of incomes of adults\n",
    "\n",
    "countG50k = income_data.income[income_data['income']==1].count()\n",
    "countL50k = income_data.income[income_data['income']==0].count()\n",
    "\n",
    "labels = ['>50k', '<=50k']\n",
    "slices = [countG50k, countL50k]\n",
    "explode = [0, 0.1]\n",
    "\n",
    "plt.pie(slices, labels=labels, explode=explode, shadow=True,\n",
    "       startangle = -40, autopct='%1.1f%%',\n",
    "       wedgeprops ={'edgecolor' : 'black'})\n",
    "plt.axis('equal') # Equal aspect ratio ensures that pie is drawn as a circle\n",
    "plt.title(\"Adults Income Distribution\")\n",
    "plt.legend()\n",
    "plt.tight_layout() # Used for padding\n",
    "plt.savefig('Adults Income distribution.jpg')\n",
    "plt.show()"
   ]
  },
  {
   "cell_type": "raw",
   "id": "94ace376",
   "metadata": {
    "id": "94ace376"
   },
   "source": [
    "From the above illustration, 75.9% of the population have less than equal to $50000 income while the people having greater than $50000 income is 24.1%."
   ]
  },
  {
   "cell_type": "markdown",
   "id": "01d57750",
   "metadata": {
    "id": "01d57750"
   },
   "source": [
    "### Visualisation of Numerical Attributes"
   ]
  },
  {
   "cell_type": "code",
   "execution_count": null,
   "id": "ba786a64",
   "metadata": {
    "id": "ba786a64",
    "outputId": "2da46e34-56ca-4352-c6f9-0af75526c80c"
   },
   "outputs": [
    {
     "data": {
      "text/plain": [
       "Text(0.5, 1.0, 'Age Histogram')"
      ]
     },
     "execution_count": 93,
     "metadata": {},
     "output_type": "execute_result"
    },
    {
     "data": {
      "image/png": "[encoded data removed]",
      "text/plain": [
       "<Figure size 432x288 with 1 Axes>"
      ]
     },
     "metadata": {},
     "output_type": "display_data"
    }
   ],
   "source": [
    "#Histogram representing age\n",
    "sns.distplot(income_data['age'],bins=8)\n",
    "plt.title(\"Age Histogram\")"
   ]
  },
  {
   "cell_type": "markdown",
   "id": "78fc8b55",
   "metadata": {
    "id": "78fc8b55"
   },
   "source": [
    "We can see from the above histogram that the majority of the people are between the ages of 20 and 40, with the age group beyond 80 having the least number of people."
   ]
  },
  {
   "cell_type": "code",
   "execution_count": null,
   "id": "5ee0dc2e",
   "metadata": {
    "id": "5ee0dc2e",
    "outputId": "24b466b8-5854-45cc-b79d-b021fd77d944"
   },
   "outputs": [
    {
     "data": {
      "image/png": "[encoded data removed]",
      "text/plain": [
       "<Figure size 1080x432 with 2 Axes>"
      ]
     },
     "metadata": {},
     "output_type": "display_data"
    }
   ],
   "source": [
    "# Histogram and Boxplot for Age \n",
    "\n",
    "fig, axes = plt.subplots(1,2,figsize=(15,6))\n",
    "\n",
    "sns.histplot(income_data['age'],bins=10,ax=axes[0])\n",
    "plt.boxplot(income_data['age'], patch_artist = True)\n",
    "\n",
    "axes[0].set_title('Distribution of the Age of the people')\n",
    "axes[1].set_title('Range of the Age of the people')\n",
    "plt.tight_layout()\n",
    "#plt.savefig(\"Figure3.png\")\n",
    "plt.show()"
   ]
  },
  {
   "cell_type": "code",
   "execution_count": null,
   "id": "cf8bdc21",
   "metadata": {
    "id": "cf8bdc21",
    "outputId": "dcf98cea-784a-4bef-c356-4a053e1eb6e1"
   },
   "outputs": [
    {
     "data": {
      "text/html": [
       "<div>\n",
       "<style scoped>\n",
       "    .dataframe tbody tr th:only-of-type {\n",
       "        vertical-align: middle;\n",
       "    }\n",
       "\n",
       "    .dataframe tbody tr th {\n",
       "        vertical-align: top;\n",
       "    }\n",
       "\n",
       "    .dataframe thead th {\n",
       "        text-align: right;\n",
       "    }\n",
       "</style>\n",
       "<table border=\"1\" class=\"dataframe\">\n",
       "  <thead>\n",
       "    <tr style=\"text-align: right;\">\n",
       "      <th></th>\n",
       "      <th>age</th>\n",
       "      <th>fnlwgt</th>\n",
       "      <th>EducationNum</th>\n",
       "      <th>CapitalGain</th>\n",
       "      <th>CapitalLoss</th>\n",
       "      <th>HoursPerWeek</th>\n",
       "      <th>income</th>\n",
       "    </tr>\n",
       "  </thead>\n",
       "  <tbody>\n",
       "    <tr>\n",
       "      <th>count</th>\n",
       "      <td>32537.000000</td>\n",
       "      <td>3.253700e+04</td>\n",
       "      <td>32537.000000</td>\n",
       "      <td>32537.000000</td>\n",
       "      <td>32537.000000</td>\n",
       "      <td>32537.000000</td>\n",
       "      <td>32537.000000</td>\n",
       "    </tr>\n",
       "    <tr>\n",
       "      <th>mean</th>\n",
       "      <td>38.585549</td>\n",
       "      <td>1.897808e+05</td>\n",
       "      <td>10.081815</td>\n",
       "      <td>1078.443741</td>\n",
       "      <td>87.368227</td>\n",
       "      <td>40.440329</td>\n",
       "      <td>0.240926</td>\n",
       "    </tr>\n",
       "    <tr>\n",
       "      <th>std</th>\n",
       "      <td>13.637984</td>\n",
       "      <td>1.055565e+05</td>\n",
       "      <td>2.571633</td>\n",
       "      <td>7387.957424</td>\n",
       "      <td>403.101833</td>\n",
       "      <td>12.346889</td>\n",
       "      <td>0.427652</td>\n",
       "    </tr>\n",
       "    <tr>\n",
       "      <th>min</th>\n",
       "      <td>17.000000</td>\n",
       "      <td>1.228500e+04</td>\n",
       "      <td>1.000000</td>\n",
       "      <td>0.000000</td>\n",
       "      <td>0.000000</td>\n",
       "      <td>1.000000</td>\n",
       "      <td>0.000000</td>\n",
       "    </tr>\n",
       "    <tr>\n",
       "      <th>25%</th>\n",
       "      <td>28.000000</td>\n",
       "      <td>1.178270e+05</td>\n",
       "      <td>9.000000</td>\n",
       "      <td>0.000000</td>\n",
       "      <td>0.000000</td>\n",
       "      <td>40.000000</td>\n",
       "      <td>0.000000</td>\n",
       "    </tr>\n",
       "    <tr>\n",
       "      <th>50%</th>\n",
       "      <td>37.000000</td>\n",
       "      <td>1.783560e+05</td>\n",
       "      <td>10.000000</td>\n",
       "      <td>0.000000</td>\n",
       "      <td>0.000000</td>\n",
       "      <td>40.000000</td>\n",
       "      <td>0.000000</td>\n",
       "    </tr>\n",
       "    <tr>\n",
       "      <th>75%</th>\n",
       "      <td>48.000000</td>\n",
       "      <td>2.369930e+05</td>\n",
       "      <td>12.000000</td>\n",
       "      <td>0.000000</td>\n",
       "      <td>0.000000</td>\n",
       "      <td>45.000000</td>\n",
       "      <td>0.000000</td>\n",
       "    </tr>\n",
       "    <tr>\n",
       "      <th>max</th>\n",
       "      <td>90.000000</td>\n",
       "      <td>1.484705e+06</td>\n",
       "      <td>16.000000</td>\n",
       "      <td>99999.000000</td>\n",
       "      <td>4356.000000</td>\n",
       "      <td>99.000000</td>\n",
       "      <td>1.000000</td>\n",
       "    </tr>\n",
       "  </tbody>\n",
       "</table>\n",
       "</div>"
      ],
      "text/plain": [
       "                age        fnlwgt  EducationNum   CapitalGain   CapitalLoss  \\\n",
       "count  32537.000000  3.253700e+04  32537.000000  32537.000000  32537.000000   \n",
       "mean      38.585549  1.897808e+05     10.081815   1078.443741     87.368227   \n",
       "std       13.637984  1.055565e+05      2.571633   7387.957424    403.101833   \n",
       "min       17.000000  1.228500e+04      1.000000      0.000000      0.000000   \n",
       "25%       28.000000  1.178270e+05      9.000000      0.000000      0.000000   \n",
       "50%       37.000000  1.783560e+05     10.000000      0.000000      0.000000   \n",
       "75%       48.000000  2.369930e+05     12.000000      0.000000      0.000000   \n",
       "max       90.000000  1.484705e+06     16.000000  99999.000000   4356.000000   \n",
       "\n",
       "       HoursPerWeek        income  \n",
       "count  32537.000000  32537.000000  \n",
       "mean      40.440329      0.240926  \n",
       "std       12.346889      0.427652  \n",
       "min        1.000000      0.000000  \n",
       "25%       40.000000      0.000000  \n",
       "50%       40.000000      0.000000  \n",
       "75%       45.000000      0.000000  \n",
       "max       99.000000      1.000000  "
      ]
     },
     "execution_count": 95,
     "metadata": {},
     "output_type": "execute_result"
    }
   ],
   "source": [
    "income_data.describe()"
   ]
  },
  {
   "cell_type": "markdown",
   "id": "c8ff2e5e",
   "metadata": {
    "id": "c8ff2e5e"
   },
   "source": [
    "Detect Outliers Based on Age Attribute"
   ]
  },
  {
   "cell_type": "code",
   "execution_count": null,
   "id": "ad14adc5",
   "metadata": {
    "id": "ad14adc5",
    "outputId": "edb7e33a-c381-489e-ac23-98a7b8340b6a"
   },
   "outputs": [
    {
     "data": {
      "text/plain": [
       "(28.0, 48.0)"
      ]
     },
     "execution_count": 96,
     "metadata": {},
     "output_type": "execute_result"
    }
   ],
   "source": [
    "# Calculating Q1 and Q3 for age attribute\n",
    "\n",
    "Q1 = income_data.age.quantile(0.25)\n",
    "Q3 = income_data.age.quantile(0.75)\n",
    "Q1, Q3"
   ]
  },
  {
   "cell_type": "code",
   "execution_count": null,
   "id": "d6657065",
   "metadata": {
    "id": "d6657065",
    "outputId": "f4f092e8-56d0-434b-8b32-71b2e499d7fd"
   },
   "outputs": [
    {
     "data": {
      "text/plain": [
       "20.0"
      ]
     },
     "execution_count": 97,
     "metadata": {},
     "output_type": "execute_result"
    }
   ],
   "source": [
    "# Calculating interquartile range for age attribute\n",
    "IQR = Q3-Q1 \n",
    "IQR"
   ]
  },
  {
   "cell_type": "code",
   "execution_count": null,
   "id": "6c76c19b",
   "metadata": {
    "id": "6c76c19b",
    "outputId": "557a3689-a010-4289-a30c-a6da9af653f7"
   },
   "outputs": [
    {
     "data": {
      "text/plain": [
       "(-2.0, 78.0)"
      ]
     },
     "execution_count": 98,
     "metadata": {},
     "output_type": "execute_result"
    }
   ],
   "source": [
    "#Calculate lower limit for age attribute\n",
    "lower_limit = Q1 - 1.5*IQR\n",
    "\n",
    "#Calculate upper limit for age attribute\n",
    "upper_limit = Q3 + 1.5*IQR\n",
    "\n",
    "lower_limit, upper_limit"
   ]
  },
  {
   "cell_type": "code",
   "execution_count": null,
   "id": "c775b1b9",
   "metadata": {
    "id": "c775b1b9",
    "outputId": "07ad1758-1ce4-4fa6-efe0-5916b2e30cd8"
   },
   "outputs": [
    {
     "data": {
      "text/plain": [
       "count    32537.000000\n",
       "mean        38.585549\n",
       "std         13.637984\n",
       "min         17.000000\n",
       "25%         28.000000\n",
       "50%         37.000000\n",
       "75%         48.000000\n",
       "max         90.000000\n",
       "Name: age, dtype: float64"
      ]
     },
     "execution_count": 99,
     "metadata": {},
     "output_type": "execute_result"
    }
   ],
   "source": [
    "income_data.age.describe()"
   ]
  },
  {
   "cell_type": "code",
   "execution_count": null,
   "id": "c759dfef",
   "metadata": {
    "id": "c759dfef",
    "outputId": "782974c0-69cc-45ed-c6cd-63284acc3e3f"
   },
   "outputs": [
    {
     "data": {
      "text/plain": [
       "Int64Index([    2,     3,     4,     5,     6,     7,     8,     9,    10,\n",
       "               11,\n",
       "            ...\n",
       "            32551, 32552, 32553, 32554, 32555, 32556, 32557, 32558, 32559,\n",
       "            32560],\n",
       "           dtype='int64', length=32395)"
      ]
     },
     "execution_count": 100,
     "metadata": {},
     "output_type": "execute_result"
    }
   ],
   "source": [
    "# removing the outlier\n",
    "index = income_data.loc[~(income_data.age>upper_limit),\"age\"].index\n",
    "index"
   ]
  },
  {
   "cell_type": "code",
   "execution_count": null,
   "id": "19c3442d",
   "metadata": {
    "id": "19c3442d",
    "outputId": "6ae34aa9-b371-40d4-bdef-9dcbd3e1543f"
   },
   "outputs": [
    {
     "data": {
      "text/html": [
       "<div>\n",
       "<style scoped>\n",
       "    .dataframe tbody tr th:only-of-type {\n",
       "        vertical-align: middle;\n",
       "    }\n",
       "\n",
       "    .dataframe tbody tr th {\n",
       "        vertical-align: top;\n",
       "    }\n",
       "\n",
       "    .dataframe thead th {\n",
       "        text-align: right;\n",
       "    }\n",
       "</style>\n",
       "<table border=\"1\" class=\"dataframe\">\n",
       "  <thead>\n",
       "    <tr style=\"text-align: right;\">\n",
       "      <th></th>\n",
       "      <th>age</th>\n",
       "      <th>workclass</th>\n",
       "      <th>fnlwgt</th>\n",
       "      <th>education</th>\n",
       "      <th>EducationNum</th>\n",
       "      <th>MaritalStatus</th>\n",
       "      <th>occupation</th>\n",
       "      <th>relationship</th>\n",
       "      <th>race</th>\n",
       "      <th>gender</th>\n",
       "      <th>CapitalGain</th>\n",
       "      <th>CapitalLoss</th>\n",
       "      <th>HoursPerWeek</th>\n",
       "      <th>Country</th>\n",
       "      <th>income</th>\n",
       "    </tr>\n",
       "  </thead>\n",
       "  <tbody>\n",
       "    <tr>\n",
       "      <th>2</th>\n",
       "      <td>66</td>\n",
       "      <td>Private</td>\n",
       "      <td>186061</td>\n",
       "      <td>Some-college</td>\n",
       "      <td>10</td>\n",
       "      <td>Widowed</td>\n",
       "      <td>Prof-specialty</td>\n",
       "      <td>Unmarried</td>\n",
       "      <td>Black</td>\n",
       "      <td>Female</td>\n",
       "      <td>0</td>\n",
       "      <td>4356</td>\n",
       "      <td>40</td>\n",
       "      <td>United-States</td>\n",
       "      <td>0</td>\n",
       "    </tr>\n",
       "    <tr>\n",
       "      <th>3</th>\n",
       "      <td>54</td>\n",
       "      <td>Private</td>\n",
       "      <td>140359</td>\n",
       "      <td>7th-8th</td>\n",
       "      <td>4</td>\n",
       "      <td>Divorced</td>\n",
       "      <td>Machine-op-inspct</td>\n",
       "      <td>Unmarried</td>\n",
       "      <td>White</td>\n",
       "      <td>Female</td>\n",
       "      <td>0</td>\n",
       "      <td>3900</td>\n",
       "      <td>40</td>\n",
       "      <td>United-States</td>\n",
       "      <td>0</td>\n",
       "    </tr>\n",
       "    <tr>\n",
       "      <th>4</th>\n",
       "      <td>41</td>\n",
       "      <td>Private</td>\n",
       "      <td>264663</td>\n",
       "      <td>Some-college</td>\n",
       "      <td>10</td>\n",
       "      <td>Separated</td>\n",
       "      <td>Prof-specialty</td>\n",
       "      <td>Own-child</td>\n",
       "      <td>White</td>\n",
       "      <td>Female</td>\n",
       "      <td>0</td>\n",
       "      <td>3900</td>\n",
       "      <td>40</td>\n",
       "      <td>United-States</td>\n",
       "      <td>0</td>\n",
       "    </tr>\n",
       "    <tr>\n",
       "      <th>5</th>\n",
       "      <td>34</td>\n",
       "      <td>Private</td>\n",
       "      <td>216864</td>\n",
       "      <td>HS-grad</td>\n",
       "      <td>9</td>\n",
       "      <td>Divorced</td>\n",
       "      <td>Other-service</td>\n",
       "      <td>Unmarried</td>\n",
       "      <td>White</td>\n",
       "      <td>Female</td>\n",
       "      <td>0</td>\n",
       "      <td>3770</td>\n",
       "      <td>45</td>\n",
       "      <td>United-States</td>\n",
       "      <td>0</td>\n",
       "    </tr>\n",
       "    <tr>\n",
       "      <th>6</th>\n",
       "      <td>38</td>\n",
       "      <td>Private</td>\n",
       "      <td>150601</td>\n",
       "      <td>10th</td>\n",
       "      <td>6</td>\n",
       "      <td>Separated</td>\n",
       "      <td>Adm-clerical</td>\n",
       "      <td>Unmarried</td>\n",
       "      <td>White</td>\n",
       "      <td>Male</td>\n",
       "      <td>0</td>\n",
       "      <td>3770</td>\n",
       "      <td>40</td>\n",
       "      <td>United-States</td>\n",
       "      <td>0</td>\n",
       "    </tr>\n",
       "    <tr>\n",
       "      <th>...</th>\n",
       "      <td>...</td>\n",
       "      <td>...</td>\n",
       "      <td>...</td>\n",
       "      <td>...</td>\n",
       "      <td>...</td>\n",
       "      <td>...</td>\n",
       "      <td>...</td>\n",
       "      <td>...</td>\n",
       "      <td>...</td>\n",
       "      <td>...</td>\n",
       "      <td>...</td>\n",
       "      <td>...</td>\n",
       "      <td>...</td>\n",
       "      <td>...</td>\n",
       "      <td>...</td>\n",
       "    </tr>\n",
       "    <tr>\n",
       "      <th>32556</th>\n",
       "      <td>22</td>\n",
       "      <td>Private</td>\n",
       "      <td>310152</td>\n",
       "      <td>Some-college</td>\n",
       "      <td>10</td>\n",
       "      <td>Never-married</td>\n",
       "      <td>Protective-serv</td>\n",
       "      <td>Not-in-family</td>\n",
       "      <td>White</td>\n",
       "      <td>Male</td>\n",
       "      <td>0</td>\n",
       "      <td>0</td>\n",
       "      <td>40</td>\n",
       "      <td>United-States</td>\n",
       "      <td>0</td>\n",
       "    </tr>\n",
       "    <tr>\n",
       "      <th>32557</th>\n",
       "      <td>27</td>\n",
       "      <td>Private</td>\n",
       "      <td>257302</td>\n",
       "      <td>Assoc-acdm</td>\n",
       "      <td>12</td>\n",
       "      <td>Married-civ-spouse</td>\n",
       "      <td>Tech-support</td>\n",
       "      <td>Wife</td>\n",
       "      <td>White</td>\n",
       "      <td>Female</td>\n",
       "      <td>0</td>\n",
       "      <td>0</td>\n",
       "      <td>38</td>\n",
       "      <td>United-States</td>\n",
       "      <td>0</td>\n",
       "    </tr>\n",
       "    <tr>\n",
       "      <th>32558</th>\n",
       "      <td>40</td>\n",
       "      <td>Private</td>\n",
       "      <td>154374</td>\n",
       "      <td>HS-grad</td>\n",
       "      <td>9</td>\n",
       "      <td>Married-civ-spouse</td>\n",
       "      <td>Machine-op-inspct</td>\n",
       "      <td>Husband</td>\n",
       "      <td>White</td>\n",
       "      <td>Male</td>\n",
       "      <td>0</td>\n",
       "      <td>0</td>\n",
       "      <td>40</td>\n",
       "      <td>United-States</td>\n",
       "      <td>1</td>\n",
       "    </tr>\n",
       "    <tr>\n",
       "      <th>32559</th>\n",
       "      <td>58</td>\n",
       "      <td>Private</td>\n",
       "      <td>151910</td>\n",
       "      <td>HS-grad</td>\n",
       "      <td>9</td>\n",
       "      <td>Widowed</td>\n",
       "      <td>Adm-clerical</td>\n",
       "      <td>Unmarried</td>\n",
       "      <td>White</td>\n",
       "      <td>Female</td>\n",
       "      <td>0</td>\n",
       "      <td>0</td>\n",
       "      <td>40</td>\n",
       "      <td>United-States</td>\n",
       "      <td>0</td>\n",
       "    </tr>\n",
       "    <tr>\n",
       "      <th>32560</th>\n",
       "      <td>22</td>\n",
       "      <td>Private</td>\n",
       "      <td>201490</td>\n",
       "      <td>HS-grad</td>\n",
       "      <td>9</td>\n",
       "      <td>Never-married</td>\n",
       "      <td>Adm-clerical</td>\n",
       "      <td>Own-child</td>\n",
       "      <td>White</td>\n",
       "      <td>Male</td>\n",
       "      <td>0</td>\n",
       "      <td>0</td>\n",
       "      <td>20</td>\n",
       "      <td>United-States</td>\n",
       "      <td>0</td>\n",
       "    </tr>\n",
       "  </tbody>\n",
       "</table>\n",
       "<p>32395 rows × 15 columns</p>\n",
       "</div>"
      ],
      "text/plain": [
       "       age workclass  fnlwgt     education  EducationNum       MaritalStatus  \\\n",
       "2       66   Private  186061  Some-college            10             Widowed   \n",
       "3       54   Private  140359       7th-8th             4            Divorced   \n",
       "4       41   Private  264663  Some-college            10           Separated   \n",
       "5       34   Private  216864       HS-grad             9            Divorced   \n",
       "6       38   Private  150601          10th             6           Separated   \n",
       "...    ...       ...     ...           ...           ...                 ...   \n",
       "32556   22   Private  310152  Some-college            10       Never-married   \n",
       "32557   27   Private  257302    Assoc-acdm            12  Married-civ-spouse   \n",
       "32558   40   Private  154374       HS-grad             9  Married-civ-spouse   \n",
       "32559   58   Private  151910       HS-grad             9             Widowed   \n",
       "32560   22   Private  201490       HS-grad             9       Never-married   \n",
       "\n",
       "              occupation   relationship   race  gender  CapitalGain  \\\n",
       "2         Prof-specialty      Unmarried  Black  Female            0   \n",
       "3      Machine-op-inspct      Unmarried  White  Female            0   \n",
       "4         Prof-specialty      Own-child  White  Female            0   \n",
       "5          Other-service      Unmarried  White  Female            0   \n",
       "6           Adm-clerical      Unmarried  White    Male            0   \n",
       "...                  ...            ...    ...     ...          ...   \n",
       "32556    Protective-serv  Not-in-family  White    Male            0   \n",
       "32557       Tech-support           Wife  White  Female            0   \n",
       "32558  Machine-op-inspct        Husband  White    Male            0   \n",
       "32559       Adm-clerical      Unmarried  White  Female            0   \n",
       "32560       Adm-clerical      Own-child  White    Male            0   \n",
       "\n",
       "       CapitalLoss  HoursPerWeek        Country  income  \n",
       "2             4356            40  United-States       0  \n",
       "3             3900            40  United-States       0  \n",
       "4             3900            40  United-States       0  \n",
       "5             3770            45  United-States       0  \n",
       "6             3770            40  United-States       0  \n",
       "...            ...           ...            ...     ...  \n",
       "32556            0            40  United-States       0  \n",
       "32557            0            38  United-States       0  \n",
       "32558            0            40  United-States       1  \n",
       "32559            0            40  United-States       0  \n",
       "32560            0            20  United-States       0  \n",
       "\n",
       "[32395 rows x 15 columns]"
      ]
     },
     "execution_count": 101,
     "metadata": {},
     "output_type": "execute_result"
    }
   ],
   "source": [
    "income_data = income_data.loc[index]\n",
    "income_data"
   ]
  },
  {
   "cell_type": "code",
   "execution_count": null,
   "id": "3c2ddbbc",
   "metadata": {
    "id": "3c2ddbbc",
    "outputId": "0fa1081c-944c-443d-8480-ab7401b7c21c"
   },
   "outputs": [
    {
     "data": {
      "text/plain": [
       "(32395, 15)"
      ]
     },
     "execution_count": 102,
     "metadata": {},
     "output_type": "execute_result"
    }
   ],
   "source": [
    "income_data.shape"
   ]
  },
  {
   "cell_type": "code",
   "execution_count": null,
   "id": "5d6e5373",
   "metadata": {
    "id": "5d6e5373",
    "outputId": "ebb87ac9-8125-475f-8cf5-f80d55e0a88b"
   },
   "outputs": [
    {
     "data": {
      "image/png": "[encoded data removed]",
      "text/plain": [
       "<Figure size 432x288 with 1 Axes>"
      ]
     },
     "metadata": {},
     "output_type": "display_data"
    }
   ],
   "source": [
    "# Visualizing distribution  of 'age' attribute\n",
    "sns.boxplot(x = 'age', data = income_data)\n",
    "plt.tight_layout()\n",
    "plt.show()"
   ]
  },
  {
   "cell_type": "code",
   "execution_count": null,
   "id": "c20cedde",
   "metadata": {
    "id": "c20cedde",
    "outputId": "f7ff56c8-b919-406c-ff23-b4813e1d4915"
   },
   "outputs": [
    {
     "data": {
      "image/png": "[encoded data removed]",
      "text/plain": [
       "<Figure size 1080x432 with 2 Axes>"
      ]
     },
     "metadata": {},
     "output_type": "display_data"
    }
   ],
   "source": [
    "# Histogram and Boxplot for fnlwgt \n",
    "\n",
    "fig, axes = plt.subplots(1,2,figsize=(15,6))\n",
    "\n",
    "sns.histplot(income_data['fnlwgt'],bins=10,ax=axes[0])\n",
    "plt.boxplot(income_data['fnlwgt'], patch_artist = True)\n",
    "\n",
    "axes[0].set_title('Distribution of the fnlwgt of the people')\n",
    "axes[1].set_title('Range of the fnlwgt of the people')\n",
    "plt.tight_layout()\n",
    "#plt.savefig(\"Figure4.png\")\n",
    "plt.show()"
   ]
  },
  {
   "cell_type": "markdown",
   "id": "9e832e9d",
   "metadata": {
    "id": "9e832e9d"
   },
   "source": [
    "Detect Outliers based on fnlwgt attribute"
   ]
  },
  {
   "cell_type": "code",
   "execution_count": null,
   "id": "942078bf",
   "metadata": {
    "id": "942078bf",
    "outputId": "6140bb79-131d-4b67-9c00-14af5636258f"
   },
   "outputs": [
    {
     "data": {
      "text/plain": [
       "(117849.0, 237282.5)"
      ]
     },
     "execution_count": 105,
     "metadata": {},
     "output_type": "execute_result"
    }
   ],
   "source": [
    "# Calculating Q1 and Q3 for fnlwgt attribute\n",
    "Q1 = income_data.fnlwgt.quantile(0.25)\n",
    "Q3 = income_data.fnlwgt.quantile(0.75)\n",
    "Q1, Q3\n"
   ]
  },
  {
   "cell_type": "code",
   "execution_count": null,
   "id": "53e859c4",
   "metadata": {
    "id": "53e859c4",
    "outputId": "8b101008-425e-458f-8918-80587b669db7"
   },
   "outputs": [
    {
     "data": {
      "text/plain": [
       "119433.5"
      ]
     },
     "execution_count": 106,
     "metadata": {},
     "output_type": "execute_result"
    }
   ],
   "source": [
    "# Calculating Interquartile range for fnlwgt attribute\n",
    "IQR = Q3-Q1\n",
    "IQR"
   ]
  },
  {
   "cell_type": "code",
   "execution_count": null,
   "id": "1af64b00",
   "metadata": {
    "id": "1af64b00",
    "outputId": "472eff5f-9327-4a2b-ed72-8bc29cd32dbc"
   },
   "outputs": [
    {
     "data": {
      "text/plain": [
       "(-61301.25, 416432.75)"
      ]
     },
     "execution_count": 107,
     "metadata": {},
     "output_type": "execute_result"
    }
   ],
   "source": [
    "# calculating lower and upper limits\n",
    "lower_limit = Q1 - 1.5*IQR\n",
    "upper_limit = Q3 + 1.5*IQR\n",
    "lower_limit, upper_limit"
   ]
  },
  {
   "cell_type": "code",
   "execution_count": null,
   "id": "b08c6fad",
   "metadata": {
    "id": "b08c6fad",
    "outputId": "7518848e-50ec-423e-e31a-dd1d983a5b8a"
   },
   "outputs": [
    {
     "data": {
      "text/plain": [
       "count    3.239500e+04\n",
       "mean     1.899060e+05\n",
       "std      1.056092e+05\n",
       "min      1.228500e+04\n",
       "25%      1.178490e+05\n",
       "50%      1.785060e+05\n",
       "75%      2.372825e+05\n",
       "max      1.484705e+06\n",
       "Name: fnlwgt, dtype: float64"
      ]
     },
     "execution_count": 108,
     "metadata": {},
     "output_type": "execute_result"
    }
   ],
   "source": [
    "income_data.fnlwgt.describe()"
   ]
  },
  {
   "cell_type": "code",
   "execution_count": null,
   "id": "96c0aab6",
   "metadata": {
    "id": "96c0aab6",
    "outputId": "b47b2e2e-ef84-43c7-fc69-afc1f769cbbb"
   },
   "outputs": [
    {
     "data": {
      "text/plain": [
       "Int64Index([    2,     3,     4,     5,     6,     7,     9,    10,    11,\n",
       "               12,\n",
       "            ...\n",
       "            32551, 32552, 32553, 32554, 32555, 32556, 32557, 32558, 32559,\n",
       "            32560],\n",
       "           dtype='int64', length=31414)"
      ]
     },
     "execution_count": 109,
     "metadata": {},
     "output_type": "execute_result"
    }
   ],
   "source": [
    "# Removing the outliers from fnlwgt attribute\n",
    "index1 = income_data.loc[~((income_data.fnlwgt<lower_limit)| (income_data.fnlwgt>upper_limit)),\"fnlwgt\"].index\n",
    "index1"
   ]
  },
  {
   "cell_type": "code",
   "execution_count": null,
   "id": "660e0f2f",
   "metadata": {
    "id": "660e0f2f",
    "outputId": "b77b703c-21f5-430e-9358-51165c8ca9c5"
   },
   "outputs": [
    {
     "data": {
      "text/plain": [
       "(31414, 15)"
      ]
     },
     "execution_count": 110,
     "metadata": {},
     "output_type": "execute_result"
    }
   ],
   "source": [
    "income_data = income_data.loc[index1]\n",
    "income_data.shape"
   ]
  },
  {
   "cell_type": "code",
   "execution_count": null,
   "id": "dc9bf9a3",
   "metadata": {
    "id": "dc9bf9a3",
    "outputId": "a692fe52-73ed-40f8-81c7-c856599fe6ac"
   },
   "outputs": [
    {
     "data": {
      "image/png": "[encoded data removed]",
      "text/plain": [
       "<Figure size 432x288 with 1 Axes>"
      ]
     },
     "metadata": {},
     "output_type": "display_data"
    }
   ],
   "source": [
    "sns.boxplot(x = 'fnlwgt', data = income_data)\n",
    "plt.tight_layout()\n",
    "plt.show()"
   ]
  },
  {
   "cell_type": "code",
   "execution_count": null,
   "id": "347fc767",
   "metadata": {
    "id": "347fc767",
    "outputId": "3d52032a-df92-4c18-c070-cc98e55a2829"
   },
   "outputs": [
    {
     "data": {
      "image/png": "[encoded data removed]",
      "text/plain": [
       "<Figure size 1080x432 with 2 Axes>"
      ]
     },
     "metadata": {},
     "output_type": "display_data"
    }
   ],
   "source": [
    "# Histogram and Boxplot for EducationNum \n",
    "\n",
    "fig, axes = plt.subplots(1,2,figsize=(15,6))\n",
    "\n",
    "sns.histplot(income_data['EducationNum'],bins=10,ax=axes[0])\n",
    "plt.boxplot(income_data['EducationNum'], patch_artist = True)\n",
    "\n",
    "axes[0].set_title('Distribution of the EducationNum of the people')\n",
    "axes[1].set_title('Range of the EducationNum of the people')\n",
    "plt.tight_layout()\n",
    "#plt.savefig(\"hist of EducationNum.png\")\n",
    "plt.show()"
   ]
  },
  {
   "cell_type": "markdown",
   "id": "610de056",
   "metadata": {
    "id": "610de056"
   },
   "source": [
    "Detect Outliers based on EducationNum attribute"
   ]
  },
  {
   "cell_type": "code",
   "execution_count": null,
   "id": "6756eeb6",
   "metadata": {
    "id": "6756eeb6",
    "outputId": "018e6517-e082-4fd2-da20-738105339690"
   },
   "outputs": [
    {
     "data": {
      "text/plain": [
       "(9.0, 12.0)"
      ]
     },
     "execution_count": 113,
     "metadata": {},
     "output_type": "execute_result"
    }
   ],
   "source": [
    "# Calculating Q1 and Q3 for EducationNum attribute\n",
    "Q1 = income_data.EducationNum.quantile(0.25)\n",
    "Q3 = income_data.EducationNum.quantile(0.75)\n",
    "Q1, Q3"
   ]
  },
  {
   "cell_type": "code",
   "execution_count": null,
   "id": "a935c5a4",
   "metadata": {
    "id": "a935c5a4",
    "outputId": "0277468b-b4c6-48f3-c6ab-ddad1ab3f7b6"
   },
   "outputs": [
    {
     "data": {
      "text/plain": [
       "3.0"
      ]
     },
     "execution_count": 114,
     "metadata": {},
     "output_type": "execute_result"
    }
   ],
   "source": [
    "# Calculating interquartile range for EducationNum attribute\n",
    "IQR = Q3-Q1\n",
    "IQR"
   ]
  },
  {
   "cell_type": "code",
   "execution_count": null,
   "id": "5b6ab99e",
   "metadata": {
    "id": "5b6ab99e",
    "outputId": "e6636620-c35c-4986-8ba3-f32cc0475ff1"
   },
   "outputs": [
    {
     "data": {
      "text/plain": [
       "(4.5, 16.5)"
      ]
     },
     "execution_count": 115,
     "metadata": {},
     "output_type": "execute_result"
    }
   ],
   "source": [
    "# calculating lower and upper limits\n",
    "lower_limit = Q1 - 1.5*IQR\n",
    "upper_limit = Q3 + 1.5*IQR\n",
    "lower_limit, upper_limit"
   ]
  },
  {
   "cell_type": "code",
   "execution_count": null,
   "id": "61f203ff",
   "metadata": {
    "id": "61f203ff",
    "outputId": "fafc13b8-f52f-4473-f664-5100b9c8e6b0"
   },
   "outputs": [
    {
     "data": {
      "text/plain": [
       "count    31414.000000\n",
       "mean        10.097600\n",
       "std          2.557403\n",
       "min          1.000000\n",
       "25%          9.000000\n",
       "50%         10.000000\n",
       "75%         12.000000\n",
       "max         16.000000\n",
       "Name: EducationNum, dtype: float64"
      ]
     },
     "execution_count": 116,
     "metadata": {},
     "output_type": "execute_result"
    }
   ],
   "source": [
    "income_data.EducationNum.describe()"
   ]
  },
  {
   "cell_type": "code",
   "execution_count": null,
   "id": "7e8a783c",
   "metadata": {
    "id": "7e8a783c",
    "outputId": "e0bb9d2f-c308-4477-fb43-76e2e46544d9"
   },
   "outputs": [
    {
     "data": {
      "text/plain": [
       "Int64Index([    2,     4,     5,     6,     7,     9,    10,    11,    12,\n",
       "               13,\n",
       "            ...\n",
       "            32551, 32552, 32553, 32554, 32555, 32556, 32557, 32558, 32559,\n",
       "            32560],\n",
       "           dtype='int64', length=30303)"
      ]
     },
     "execution_count": 117,
     "metadata": {},
     "output_type": "execute_result"
    }
   ],
   "source": [
    "# Removing the outliers from EducationNum attribute\n",
    "index1= income_data.loc[~((income_data.EducationNum<lower_limit)| (income_data.EducationNum>upper_limit)),\"EducationNum\"].index\n",
    "index1"
   ]
  },
  {
   "cell_type": "code",
   "execution_count": null,
   "id": "5bd1104e",
   "metadata": {
    "id": "5bd1104e",
    "outputId": "ff8503f7-81eb-4f38-eccb-1c6eb40c912f"
   },
   "outputs": [
    {
     "data": {
      "text/html": [
       "<div>\n",
       "<style scoped>\n",
       "    .dataframe tbody tr th:only-of-type {\n",
       "        vertical-align: middle;\n",
       "    }\n",
       "\n",
       "    .dataframe tbody tr th {\n",
       "        vertical-align: top;\n",
       "    }\n",
       "\n",
       "    .dataframe thead th {\n",
       "        text-align: right;\n",
       "    }\n",
       "</style>\n",
       "<table border=\"1\" class=\"dataframe\">\n",
       "  <thead>\n",
       "    <tr style=\"text-align: right;\">\n",
       "      <th></th>\n",
       "      <th>age</th>\n",
       "      <th>workclass</th>\n",
       "      <th>fnlwgt</th>\n",
       "      <th>education</th>\n",
       "      <th>EducationNum</th>\n",
       "      <th>MaritalStatus</th>\n",
       "      <th>occupation</th>\n",
       "      <th>relationship</th>\n",
       "      <th>race</th>\n",
       "      <th>gender</th>\n",
       "      <th>CapitalGain</th>\n",
       "      <th>CapitalLoss</th>\n",
       "      <th>HoursPerWeek</th>\n",
       "      <th>Country</th>\n",
       "      <th>income</th>\n",
       "    </tr>\n",
       "  </thead>\n",
       "  <tbody>\n",
       "    <tr>\n",
       "      <th>2</th>\n",
       "      <td>66</td>\n",
       "      <td>Private</td>\n",
       "      <td>186061</td>\n",
       "      <td>Some-college</td>\n",
       "      <td>10</td>\n",
       "      <td>Widowed</td>\n",
       "      <td>Prof-specialty</td>\n",
       "      <td>Unmarried</td>\n",
       "      <td>Black</td>\n",
       "      <td>Female</td>\n",
       "      <td>0</td>\n",
       "      <td>4356</td>\n",
       "      <td>40</td>\n",
       "      <td>United-States</td>\n",
       "      <td>0</td>\n",
       "    </tr>\n",
       "    <tr>\n",
       "      <th>4</th>\n",
       "      <td>41</td>\n",
       "      <td>Private</td>\n",
       "      <td>264663</td>\n",
       "      <td>Some-college</td>\n",
       "      <td>10</td>\n",
       "      <td>Separated</td>\n",
       "      <td>Prof-specialty</td>\n",
       "      <td>Own-child</td>\n",
       "      <td>White</td>\n",
       "      <td>Female</td>\n",
       "      <td>0</td>\n",
       "      <td>3900</td>\n",
       "      <td>40</td>\n",
       "      <td>United-States</td>\n",
       "      <td>0</td>\n",
       "    </tr>\n",
       "    <tr>\n",
       "      <th>5</th>\n",
       "      <td>34</td>\n",
       "      <td>Private</td>\n",
       "      <td>216864</td>\n",
       "      <td>HS-grad</td>\n",
       "      <td>9</td>\n",
       "      <td>Divorced</td>\n",
       "      <td>Other-service</td>\n",
       "      <td>Unmarried</td>\n",
       "      <td>White</td>\n",
       "      <td>Female</td>\n",
       "      <td>0</td>\n",
       "      <td>3770</td>\n",
       "      <td>45</td>\n",
       "      <td>United-States</td>\n",
       "      <td>0</td>\n",
       "    </tr>\n",
       "    <tr>\n",
       "      <th>6</th>\n",
       "      <td>38</td>\n",
       "      <td>Private</td>\n",
       "      <td>150601</td>\n",
       "      <td>10th</td>\n",
       "      <td>6</td>\n",
       "      <td>Separated</td>\n",
       "      <td>Adm-clerical</td>\n",
       "      <td>Unmarried</td>\n",
       "      <td>White</td>\n",
       "      <td>Male</td>\n",
       "      <td>0</td>\n",
       "      <td>3770</td>\n",
       "      <td>40</td>\n",
       "      <td>United-States</td>\n",
       "      <td>0</td>\n",
       "    </tr>\n",
       "    <tr>\n",
       "      <th>7</th>\n",
       "      <td>74</td>\n",
       "      <td>State-gov</td>\n",
       "      <td>88638</td>\n",
       "      <td>Doctorate</td>\n",
       "      <td>16</td>\n",
       "      <td>Never-married</td>\n",
       "      <td>Prof-specialty</td>\n",
       "      <td>Other-relative</td>\n",
       "      <td>White</td>\n",
       "      <td>Female</td>\n",
       "      <td>0</td>\n",
       "      <td>3683</td>\n",
       "      <td>20</td>\n",
       "      <td>United-States</td>\n",
       "      <td>1</td>\n",
       "    </tr>\n",
       "    <tr>\n",
       "      <th>...</th>\n",
       "      <td>...</td>\n",
       "      <td>...</td>\n",
       "      <td>...</td>\n",
       "      <td>...</td>\n",
       "      <td>...</td>\n",
       "      <td>...</td>\n",
       "      <td>...</td>\n",
       "      <td>...</td>\n",
       "      <td>...</td>\n",
       "      <td>...</td>\n",
       "      <td>...</td>\n",
       "      <td>...</td>\n",
       "      <td>...</td>\n",
       "      <td>...</td>\n",
       "      <td>...</td>\n",
       "    </tr>\n",
       "    <tr>\n",
       "      <th>32556</th>\n",
       "      <td>22</td>\n",
       "      <td>Private</td>\n",
       "      <td>310152</td>\n",
       "      <td>Some-college</td>\n",
       "      <td>10</td>\n",
       "      <td>Never-married</td>\n",
       "      <td>Protective-serv</td>\n",
       "      <td>Not-in-family</td>\n",
       "      <td>White</td>\n",
       "      <td>Male</td>\n",
       "      <td>0</td>\n",
       "      <td>0</td>\n",
       "      <td>40</td>\n",
       "      <td>United-States</td>\n",
       "      <td>0</td>\n",
       "    </tr>\n",
       "    <tr>\n",
       "      <th>32557</th>\n",
       "      <td>27</td>\n",
       "      <td>Private</td>\n",
       "      <td>257302</td>\n",
       "      <td>Assoc-acdm</td>\n",
       "      <td>12</td>\n",
       "      <td>Married-civ-spouse</td>\n",
       "      <td>Tech-support</td>\n",
       "      <td>Wife</td>\n",
       "      <td>White</td>\n",
       "      <td>Female</td>\n",
       "      <td>0</td>\n",
       "      <td>0</td>\n",
       "      <td>38</td>\n",
       "      <td>United-States</td>\n",
       "      <td>0</td>\n",
       "    </tr>\n",
       "    <tr>\n",
       "      <th>32558</th>\n",
       "      <td>40</td>\n",
       "      <td>Private</td>\n",
       "      <td>154374</td>\n",
       "      <td>HS-grad</td>\n",
       "      <td>9</td>\n",
       "      <td>Married-civ-spouse</td>\n",
       "      <td>Machine-op-inspct</td>\n",
       "      <td>Husband</td>\n",
       "      <td>White</td>\n",
       "      <td>Male</td>\n",
       "      <td>0</td>\n",
       "      <td>0</td>\n",
       "      <td>40</td>\n",
       "      <td>United-States</td>\n",
       "      <td>1</td>\n",
       "    </tr>\n",
       "    <tr>\n",
       "      <th>32559</th>\n",
       "      <td>58</td>\n",
       "      <td>Private</td>\n",
       "      <td>151910</td>\n",
       "      <td>HS-grad</td>\n",
       "      <td>9</td>\n",
       "      <td>Widowed</td>\n",
       "      <td>Adm-clerical</td>\n",
       "      <td>Unmarried</td>\n",
       "      <td>White</td>\n",
       "      <td>Female</td>\n",
       "      <td>0</td>\n",
       "      <td>0</td>\n",
       "      <td>40</td>\n",
       "      <td>United-States</td>\n",
       "      <td>0</td>\n",
       "    </tr>\n",
       "    <tr>\n",
       "      <th>32560</th>\n",
       "      <td>22</td>\n",
       "      <td>Private</td>\n",
       "      <td>201490</td>\n",
       "      <td>HS-grad</td>\n",
       "      <td>9</td>\n",
       "      <td>Never-married</td>\n",
       "      <td>Adm-clerical</td>\n",
       "      <td>Own-child</td>\n",
       "      <td>White</td>\n",
       "      <td>Male</td>\n",
       "      <td>0</td>\n",
       "      <td>0</td>\n",
       "      <td>20</td>\n",
       "      <td>United-States</td>\n",
       "      <td>0</td>\n",
       "    </tr>\n",
       "  </tbody>\n",
       "</table>\n",
       "<p>30303 rows × 15 columns</p>\n",
       "</div>"
      ],
      "text/plain": [
       "       age  workclass  fnlwgt     education  EducationNum       MaritalStatus  \\\n",
       "2       66    Private  186061  Some-college            10             Widowed   \n",
       "4       41    Private  264663  Some-college            10           Separated   \n",
       "5       34    Private  216864       HS-grad             9            Divorced   \n",
       "6       38    Private  150601          10th             6           Separated   \n",
       "7       74  State-gov   88638     Doctorate            16       Never-married   \n",
       "...    ...        ...     ...           ...           ...                 ...   \n",
       "32556   22    Private  310152  Some-college            10       Never-married   \n",
       "32557   27    Private  257302    Assoc-acdm            12  Married-civ-spouse   \n",
       "32558   40    Private  154374       HS-grad             9  Married-civ-spouse   \n",
       "32559   58    Private  151910       HS-grad             9             Widowed   \n",
       "32560   22    Private  201490       HS-grad             9       Never-married   \n",
       "\n",
       "              occupation    relationship   race  gender  CapitalGain  \\\n",
       "2         Prof-specialty       Unmarried  Black  Female            0   \n",
       "4         Prof-specialty       Own-child  White  Female            0   \n",
       "5          Other-service       Unmarried  White  Female            0   \n",
       "6           Adm-clerical       Unmarried  White    Male            0   \n",
       "7         Prof-specialty  Other-relative  White  Female            0   \n",
       "...                  ...             ...    ...     ...          ...   \n",
       "32556    Protective-serv   Not-in-family  White    Male            0   \n",
       "32557       Tech-support            Wife  White  Female            0   \n",
       "32558  Machine-op-inspct         Husband  White    Male            0   \n",
       "32559       Adm-clerical       Unmarried  White  Female            0   \n",
       "32560       Adm-clerical       Own-child  White    Male            0   \n",
       "\n",
       "       CapitalLoss  HoursPerWeek        Country  income  \n",
       "2             4356            40  United-States       0  \n",
       "4             3900            40  United-States       0  \n",
       "5             3770            45  United-States       0  \n",
       "6             3770            40  United-States       0  \n",
       "7             3683            20  United-States       1  \n",
       "...            ...           ...            ...     ...  \n",
       "32556            0            40  United-States       0  \n",
       "32557            0            38  United-States       0  \n",
       "32558            0            40  United-States       1  \n",
       "32559            0            40  United-States       0  \n",
       "32560            0            20  United-States       0  \n",
       "\n",
       "[30303 rows x 15 columns]"
      ]
     },
     "execution_count": 118,
     "metadata": {},
     "output_type": "execute_result"
    }
   ],
   "source": [
    "income_data = income_data.loc[index1]\n",
    "income_data"
   ]
  },
  {
   "cell_type": "code",
   "execution_count": null,
   "id": "4d3a245c",
   "metadata": {
    "id": "4d3a245c",
    "outputId": "8afd6139-7b61-4634-f886-7595f3717e0e"
   },
   "outputs": [
    {
     "data": {
      "text/plain": [
       "(30303, 15)"
      ]
     },
     "execution_count": 119,
     "metadata": {},
     "output_type": "execute_result"
    }
   ],
   "source": [
    "income_data.shape"
   ]
  },
  {
   "cell_type": "code",
   "execution_count": null,
   "id": "ee63a028",
   "metadata": {
    "id": "ee63a028",
    "outputId": "670187cb-19d8-4ce4-8f80-0328b68bb125"
   },
   "outputs": [
    {
     "data": {
      "image/png": "[encoded data removed]",
      "text/plain": [
       "<Figure size 432x288 with 1 Axes>"
      ]
     },
     "metadata": {},
     "output_type": "display_data"
    }
   ],
   "source": [
    "sns.boxplot(x = 'EducationNum', data = income_data)\n",
    "plt.tight_layout()\n",
    "plt.show()"
   ]
  },
  {
   "cell_type": "code",
   "execution_count": null,
   "id": "6ef46866",
   "metadata": {
    "id": "6ef46866",
    "outputId": "0765d540-2549-4a0a-9763-edbf5744e686"
   },
   "outputs": [
    {
     "data": {
      "image/png": "[encoded data removed]",
      "text/plain": [
       "<Figure size 1080x432 with 2 Axes>"
      ]
     },
     "metadata": {},
     "output_type": "display_data"
    }
   ],
   "source": [
    "# Histogram and Boxplot for CapitalGain \n",
    "\n",
    "fig, axes = plt.subplots(1,2,figsize=(15,6))\n",
    "\n",
    "sns.histplot(income_data['CapitalGain'],bins=10,ax=axes[0])\n",
    "plt.boxplot(income_data['CapitalGain'], patch_artist = True)\n",
    "\n",
    "axes[0].set_title('Distribution of the CapitalGain of the people')\n",
    "axes[1].set_title('Range of the CapitalGain of the people')\n",
    "plt.tight_layout()\n",
    "#plt.savefig(\"hist of CapitalGain.png\")\n",
    "plt.show()"
   ]
  },
  {
   "cell_type": "markdown",
   "id": "da4fecb4",
   "metadata": {
    "id": "da4fecb4"
   },
   "source": [
    "Detect Outliers based on CapitalGain attribute"
   ]
  },
  {
   "cell_type": "code",
   "execution_count": null,
   "id": "b717ccaa",
   "metadata": {
    "id": "b717ccaa",
    "outputId": "f36cc98a-5fd9-4696-cef0-261518f2f217"
   },
   "outputs": [
    {
     "data": {
      "text/html": [
       "<div>\n",
       "<style scoped>\n",
       "    .dataframe tbody tr th:only-of-type {\n",
       "        vertical-align: middle;\n",
       "    }\n",
       "\n",
       "    .dataframe tbody tr th {\n",
       "        vertical-align: top;\n",
       "    }\n",
       "\n",
       "    .dataframe thead th {\n",
       "        text-align: right;\n",
       "    }\n",
       "</style>\n",
       "<table border=\"1\" class=\"dataframe\">\n",
       "  <thead>\n",
       "    <tr style=\"text-align: right;\">\n",
       "      <th></th>\n",
       "      <th>age</th>\n",
       "      <th>workclass</th>\n",
       "      <th>fnlwgt</th>\n",
       "      <th>education</th>\n",
       "      <th>EducationNum</th>\n",
       "      <th>MaritalStatus</th>\n",
       "      <th>occupation</th>\n",
       "      <th>relationship</th>\n",
       "      <th>race</th>\n",
       "      <th>gender</th>\n",
       "      <th>CapitalGain</th>\n",
       "      <th>CapitalLoss</th>\n",
       "      <th>HoursPerWeek</th>\n",
       "      <th>Country</th>\n",
       "      <th>income</th>\n",
       "    </tr>\n",
       "  </thead>\n",
       "  <tbody>\n",
       "    <tr>\n",
       "      <th>2</th>\n",
       "      <td>66</td>\n",
       "      <td>Private</td>\n",
       "      <td>186061</td>\n",
       "      <td>Some-college</td>\n",
       "      <td>10</td>\n",
       "      <td>Widowed</td>\n",
       "      <td>Prof-specialty</td>\n",
       "      <td>Unmarried</td>\n",
       "      <td>Black</td>\n",
       "      <td>Female</td>\n",
       "      <td>0</td>\n",
       "      <td>4356</td>\n",
       "      <td>40</td>\n",
       "      <td>United-States</td>\n",
       "      <td>0</td>\n",
       "    </tr>\n",
       "    <tr>\n",
       "      <th>4</th>\n",
       "      <td>41</td>\n",
       "      <td>Private</td>\n",
       "      <td>264663</td>\n",
       "      <td>Some-college</td>\n",
       "      <td>10</td>\n",
       "      <td>Separated</td>\n",
       "      <td>Prof-specialty</td>\n",
       "      <td>Own-child</td>\n",
       "      <td>White</td>\n",
       "      <td>Female</td>\n",
       "      <td>0</td>\n",
       "      <td>3900</td>\n",
       "      <td>40</td>\n",
       "      <td>United-States</td>\n",
       "      <td>0</td>\n",
       "    </tr>\n",
       "    <tr>\n",
       "      <th>5</th>\n",
       "      <td>34</td>\n",
       "      <td>Private</td>\n",
       "      <td>216864</td>\n",
       "      <td>HS-grad</td>\n",
       "      <td>9</td>\n",
       "      <td>Divorced</td>\n",
       "      <td>Other-service</td>\n",
       "      <td>Unmarried</td>\n",
       "      <td>White</td>\n",
       "      <td>Female</td>\n",
       "      <td>0</td>\n",
       "      <td>3770</td>\n",
       "      <td>45</td>\n",
       "      <td>United-States</td>\n",
       "      <td>0</td>\n",
       "    </tr>\n",
       "    <tr>\n",
       "      <th>6</th>\n",
       "      <td>38</td>\n",
       "      <td>Private</td>\n",
       "      <td>150601</td>\n",
       "      <td>10th</td>\n",
       "      <td>6</td>\n",
       "      <td>Separated</td>\n",
       "      <td>Adm-clerical</td>\n",
       "      <td>Unmarried</td>\n",
       "      <td>White</td>\n",
       "      <td>Male</td>\n",
       "      <td>0</td>\n",
       "      <td>3770</td>\n",
       "      <td>40</td>\n",
       "      <td>United-States</td>\n",
       "      <td>0</td>\n",
       "    </tr>\n",
       "    <tr>\n",
       "      <th>7</th>\n",
       "      <td>74</td>\n",
       "      <td>State-gov</td>\n",
       "      <td>88638</td>\n",
       "      <td>Doctorate</td>\n",
       "      <td>16</td>\n",
       "      <td>Never-married</td>\n",
       "      <td>Prof-specialty</td>\n",
       "      <td>Other-relative</td>\n",
       "      <td>White</td>\n",
       "      <td>Female</td>\n",
       "      <td>0</td>\n",
       "      <td>3683</td>\n",
       "      <td>20</td>\n",
       "      <td>United-States</td>\n",
       "      <td>1</td>\n",
       "    </tr>\n",
       "    <tr>\n",
       "      <th>...</th>\n",
       "      <td>...</td>\n",
       "      <td>...</td>\n",
       "      <td>...</td>\n",
       "      <td>...</td>\n",
       "      <td>...</td>\n",
       "      <td>...</td>\n",
       "      <td>...</td>\n",
       "      <td>...</td>\n",
       "      <td>...</td>\n",
       "      <td>...</td>\n",
       "      <td>...</td>\n",
       "      <td>...</td>\n",
       "      <td>...</td>\n",
       "      <td>...</td>\n",
       "      <td>...</td>\n",
       "    </tr>\n",
       "    <tr>\n",
       "      <th>32556</th>\n",
       "      <td>22</td>\n",
       "      <td>Private</td>\n",
       "      <td>310152</td>\n",
       "      <td>Some-college</td>\n",
       "      <td>10</td>\n",
       "      <td>Never-married</td>\n",
       "      <td>Protective-serv</td>\n",
       "      <td>Not-in-family</td>\n",
       "      <td>White</td>\n",
       "      <td>Male</td>\n",
       "      <td>0</td>\n",
       "      <td>0</td>\n",
       "      <td>40</td>\n",
       "      <td>United-States</td>\n",
       "      <td>0</td>\n",
       "    </tr>\n",
       "    <tr>\n",
       "      <th>32557</th>\n",
       "      <td>27</td>\n",
       "      <td>Private</td>\n",
       "      <td>257302</td>\n",
       "      <td>Assoc-acdm</td>\n",
       "      <td>12</td>\n",
       "      <td>Married-civ-spouse</td>\n",
       "      <td>Tech-support</td>\n",
       "      <td>Wife</td>\n",
       "      <td>White</td>\n",
       "      <td>Female</td>\n",
       "      <td>0</td>\n",
       "      <td>0</td>\n",
       "      <td>38</td>\n",
       "      <td>United-States</td>\n",
       "      <td>0</td>\n",
       "    </tr>\n",
       "    <tr>\n",
       "      <th>32558</th>\n",
       "      <td>40</td>\n",
       "      <td>Private</td>\n",
       "      <td>154374</td>\n",
       "      <td>HS-grad</td>\n",
       "      <td>9</td>\n",
       "      <td>Married-civ-spouse</td>\n",
       "      <td>Machine-op-inspct</td>\n",
       "      <td>Husband</td>\n",
       "      <td>White</td>\n",
       "      <td>Male</td>\n",
       "      <td>0</td>\n",
       "      <td>0</td>\n",
       "      <td>40</td>\n",
       "      <td>United-States</td>\n",
       "      <td>1</td>\n",
       "    </tr>\n",
       "    <tr>\n",
       "      <th>32559</th>\n",
       "      <td>58</td>\n",
       "      <td>Private</td>\n",
       "      <td>151910</td>\n",
       "      <td>HS-grad</td>\n",
       "      <td>9</td>\n",
       "      <td>Widowed</td>\n",
       "      <td>Adm-clerical</td>\n",
       "      <td>Unmarried</td>\n",
       "      <td>White</td>\n",
       "      <td>Female</td>\n",
       "      <td>0</td>\n",
       "      <td>0</td>\n",
       "      <td>40</td>\n",
       "      <td>United-States</td>\n",
       "      <td>0</td>\n",
       "    </tr>\n",
       "    <tr>\n",
       "      <th>32560</th>\n",
       "      <td>22</td>\n",
       "      <td>Private</td>\n",
       "      <td>201490</td>\n",
       "      <td>HS-grad</td>\n",
       "      <td>9</td>\n",
       "      <td>Never-married</td>\n",
       "      <td>Adm-clerical</td>\n",
       "      <td>Own-child</td>\n",
       "      <td>White</td>\n",
       "      <td>Male</td>\n",
       "      <td>0</td>\n",
       "      <td>0</td>\n",
       "      <td>20</td>\n",
       "      <td>United-States</td>\n",
       "      <td>0</td>\n",
       "    </tr>\n",
       "  </tbody>\n",
       "</table>\n",
       "<p>27743 rows × 15 columns</p>\n",
       "</div>"
      ],
      "text/plain": [
       "       age  workclass  fnlwgt     education  EducationNum       MaritalStatus  \\\n",
       "2       66    Private  186061  Some-college            10             Widowed   \n",
       "4       41    Private  264663  Some-college            10           Separated   \n",
       "5       34    Private  216864       HS-grad             9            Divorced   \n",
       "6       38    Private  150601          10th             6           Separated   \n",
       "7       74  State-gov   88638     Doctorate            16       Never-married   \n",
       "...    ...        ...     ...           ...           ...                 ...   \n",
       "32556   22    Private  310152  Some-college            10       Never-married   \n",
       "32557   27    Private  257302    Assoc-acdm            12  Married-civ-spouse   \n",
       "32558   40    Private  154374       HS-grad             9  Married-civ-spouse   \n",
       "32559   58    Private  151910       HS-grad             9             Widowed   \n",
       "32560   22    Private  201490       HS-grad             9       Never-married   \n",
       "\n",
       "              occupation    relationship   race  gender  CapitalGain  \\\n",
       "2         Prof-specialty       Unmarried  Black  Female            0   \n",
       "4         Prof-specialty       Own-child  White  Female            0   \n",
       "5          Other-service       Unmarried  White  Female            0   \n",
       "6           Adm-clerical       Unmarried  White    Male            0   \n",
       "7         Prof-specialty  Other-relative  White  Female            0   \n",
       "...                  ...             ...    ...     ...          ...   \n",
       "32556    Protective-serv   Not-in-family  White    Male            0   \n",
       "32557       Tech-support            Wife  White  Female            0   \n",
       "32558  Machine-op-inspct         Husband  White    Male            0   \n",
       "32559       Adm-clerical       Unmarried  White  Female            0   \n",
       "32560       Adm-clerical       Own-child  White    Male            0   \n",
       "\n",
       "       CapitalLoss  HoursPerWeek        Country  income  \n",
       "2             4356            40  United-States       0  \n",
       "4             3900            40  United-States       0  \n",
       "5             3770            45  United-States       0  \n",
       "6             3770            40  United-States       0  \n",
       "7             3683            20  United-States       1  \n",
       "...            ...           ...            ...     ...  \n",
       "32556            0            40  United-States       0  \n",
       "32557            0            38  United-States       0  \n",
       "32558            0            40  United-States       1  \n",
       "32559            0            40  United-States       0  \n",
       "32560            0            20  United-States       0  \n",
       "\n",
       "[27743 rows x 15 columns]"
      ]
     },
     "execution_count": 122,
     "metadata": {},
     "output_type": "execute_result"
    }
   ],
   "source": [
    "# Calculating Q1 and Q3 for CapitalGain attribute \n",
    "Q1 = income_data.CapitalGain.quantile(0.25)\n",
    "Q3 = income_data.CapitalGain.quantile(0.75)\n",
    "Q1, Q3\n",
    "\n",
    "# Calculating IQR for CapitalGain attribute\n",
    "IQR = Q3-Q1\n",
    "IQR\n",
    "\n",
    "# Calculating lower and upper limit for CapitalGain attribute\n",
    "lower_limit = Q1 - 1.5*IQR\n",
    "upper_limit = Q3 + 1.5*IQR\n",
    "lower_limit, upper_limit\n",
    "\n",
    "\n",
    "# Removing the outliers from CapitalGain attribute\n",
    "income_data = income_data[~((income_data.CapitalGain<lower_limit)| (income_data.CapitalGain>upper_limit))]\n",
    "\n",
    "income_data"
   ]
  },
  {
   "cell_type": "code",
   "execution_count": null,
   "id": "579f757c",
   "metadata": {
    "id": "579f757c",
    "outputId": "233b4e55-375d-4f94-f487-c8913fda4bac"
   },
   "outputs": [
    {
     "data": {
      "image/png": "[encoded data removed]",
      "text/plain": [
       "<Figure size 432x288 with 1 Axes>"
      ]
     },
     "metadata": {},
     "output_type": "display_data"
    }
   ],
   "source": [
    "sns.boxplot(x = 'CapitalGain', data = income_data)\n",
    "plt.tight_layout()\n",
    "plt.show()"
   ]
  },
  {
   "cell_type": "code",
   "execution_count": null,
   "id": "4851f307",
   "metadata": {
    "id": "4851f307",
    "outputId": "ec1e6511-6559-4336-98ab-4079b8a1eb34",
    "scrolled": true
   },
   "outputs": [
    {
     "data": {
      "image/png": "[encoded data removed]",
      "text/plain": [
       "<Figure size 1080x432 with 2 Axes>"
      ]
     },
     "metadata": {},
     "output_type": "display_data"
    }
   ],
   "source": [
    "# Histogram and Boxplot for CapitalLoss \n",
    "\n",
    "fig, axes = plt.subplots(1,2,figsize=(15,6))\n",
    "\n",
    "sns.histplot(income_data['CapitalLoss'],bins=10,ax=axes[0])\n",
    "plt.boxplot(income_data['CapitalLoss'], patch_artist = True)\n",
    "\n",
    "axes[0].set_title('Distribution of the CapitalLoss of the people')\n",
    "axes[1].set_title('Range of the CapitalLoss of the people')\n",
    "plt.tight_layout()\n",
    "#plt.savefig(\"hist of CapitalLoss.png\")\n",
    "plt.show()"
   ]
  },
  {
   "cell_type": "markdown",
   "id": "af92b302",
   "metadata": {
    "id": "af92b302"
   },
   "source": [
    "Detect Outliers based on CapitalLoss attribute"
   ]
  },
  {
   "cell_type": "code",
   "execution_count": null,
   "id": "43dad9fe",
   "metadata": {
    "id": "43dad9fe",
    "outputId": "3e7c08e2-2c7c-4b0a-f329-51dc1607f13f"
   },
   "outputs": [
    {
     "data": {
      "text/html": [
       "<div>\n",
       "<style scoped>\n",
       "    .dataframe tbody tr th:only-of-type {\n",
       "        vertical-align: middle;\n",
       "    }\n",
       "\n",
       "    .dataframe tbody tr th {\n",
       "        vertical-align: top;\n",
       "    }\n",
       "\n",
       "    .dataframe thead th {\n",
       "        text-align: right;\n",
       "    }\n",
       "</style>\n",
       "<table border=\"1\" class=\"dataframe\">\n",
       "  <thead>\n",
       "    <tr style=\"text-align: right;\">\n",
       "      <th></th>\n",
       "      <th>age</th>\n",
       "      <th>workclass</th>\n",
       "      <th>fnlwgt</th>\n",
       "      <th>education</th>\n",
       "      <th>EducationNum</th>\n",
       "      <th>MaritalStatus</th>\n",
       "      <th>occupation</th>\n",
       "      <th>relationship</th>\n",
       "      <th>race</th>\n",
       "      <th>gender</th>\n",
       "      <th>CapitalGain</th>\n",
       "      <th>CapitalLoss</th>\n",
       "      <th>HoursPerWeek</th>\n",
       "      <th>Country</th>\n",
       "      <th>income</th>\n",
       "    </tr>\n",
       "  </thead>\n",
       "  <tbody>\n",
       "    <tr>\n",
       "      <th>4231</th>\n",
       "      <td>50</td>\n",
       "      <td>Self-emp-not-inc</td>\n",
       "      <td>83311</td>\n",
       "      <td>Bachelors</td>\n",
       "      <td>13</td>\n",
       "      <td>Married-civ-spouse</td>\n",
       "      <td>Exec-managerial</td>\n",
       "      <td>Husband</td>\n",
       "      <td>White</td>\n",
       "      <td>Male</td>\n",
       "      <td>0</td>\n",
       "      <td>0</td>\n",
       "      <td>13</td>\n",
       "      <td>United-States</td>\n",
       "      <td>0</td>\n",
       "    </tr>\n",
       "    <tr>\n",
       "      <th>4232</th>\n",
       "      <td>38</td>\n",
       "      <td>Private</td>\n",
       "      <td>215646</td>\n",
       "      <td>HS-grad</td>\n",
       "      <td>9</td>\n",
       "      <td>Divorced</td>\n",
       "      <td>Handlers-cleaners</td>\n",
       "      <td>Not-in-family</td>\n",
       "      <td>White</td>\n",
       "      <td>Male</td>\n",
       "      <td>0</td>\n",
       "      <td>0</td>\n",
       "      <td>40</td>\n",
       "      <td>United-States</td>\n",
       "      <td>0</td>\n",
       "    </tr>\n",
       "    <tr>\n",
       "      <th>4233</th>\n",
       "      <td>53</td>\n",
       "      <td>Private</td>\n",
       "      <td>234721</td>\n",
       "      <td>11th</td>\n",
       "      <td>7</td>\n",
       "      <td>Married-civ-spouse</td>\n",
       "      <td>Handlers-cleaners</td>\n",
       "      <td>Husband</td>\n",
       "      <td>Black</td>\n",
       "      <td>Male</td>\n",
       "      <td>0</td>\n",
       "      <td>0</td>\n",
       "      <td>40</td>\n",
       "      <td>United-States</td>\n",
       "      <td>0</td>\n",
       "    </tr>\n",
       "    <tr>\n",
       "      <th>4234</th>\n",
       "      <td>28</td>\n",
       "      <td>Private</td>\n",
       "      <td>338409</td>\n",
       "      <td>Bachelors</td>\n",
       "      <td>13</td>\n",
       "      <td>Married-civ-spouse</td>\n",
       "      <td>Prof-specialty</td>\n",
       "      <td>Wife</td>\n",
       "      <td>Black</td>\n",
       "      <td>Female</td>\n",
       "      <td>0</td>\n",
       "      <td>0</td>\n",
       "      <td>40</td>\n",
       "      <td>Cuba</td>\n",
       "      <td>0</td>\n",
       "    </tr>\n",
       "    <tr>\n",
       "      <th>4235</th>\n",
       "      <td>37</td>\n",
       "      <td>Private</td>\n",
       "      <td>284582</td>\n",
       "      <td>Masters</td>\n",
       "      <td>14</td>\n",
       "      <td>Married-civ-spouse</td>\n",
       "      <td>Exec-managerial</td>\n",
       "      <td>Wife</td>\n",
       "      <td>White</td>\n",
       "      <td>Female</td>\n",
       "      <td>0</td>\n",
       "      <td>0</td>\n",
       "      <td>40</td>\n",
       "      <td>United-States</td>\n",
       "      <td>0</td>\n",
       "    </tr>\n",
       "    <tr>\n",
       "      <th>...</th>\n",
       "      <td>...</td>\n",
       "      <td>...</td>\n",
       "      <td>...</td>\n",
       "      <td>...</td>\n",
       "      <td>...</td>\n",
       "      <td>...</td>\n",
       "      <td>...</td>\n",
       "      <td>...</td>\n",
       "      <td>...</td>\n",
       "      <td>...</td>\n",
       "      <td>...</td>\n",
       "      <td>...</td>\n",
       "      <td>...</td>\n",
       "      <td>...</td>\n",
       "      <td>...</td>\n",
       "    </tr>\n",
       "    <tr>\n",
       "      <th>32556</th>\n",
       "      <td>22</td>\n",
       "      <td>Private</td>\n",
       "      <td>310152</td>\n",
       "      <td>Some-college</td>\n",
       "      <td>10</td>\n",
       "      <td>Never-married</td>\n",
       "      <td>Protective-serv</td>\n",
       "      <td>Not-in-family</td>\n",
       "      <td>White</td>\n",
       "      <td>Male</td>\n",
       "      <td>0</td>\n",
       "      <td>0</td>\n",
       "      <td>40</td>\n",
       "      <td>United-States</td>\n",
       "      <td>0</td>\n",
       "    </tr>\n",
       "    <tr>\n",
       "      <th>32557</th>\n",
       "      <td>27</td>\n",
       "      <td>Private</td>\n",
       "      <td>257302</td>\n",
       "      <td>Assoc-acdm</td>\n",
       "      <td>12</td>\n",
       "      <td>Married-civ-spouse</td>\n",
       "      <td>Tech-support</td>\n",
       "      <td>Wife</td>\n",
       "      <td>White</td>\n",
       "      <td>Female</td>\n",
       "      <td>0</td>\n",
       "      <td>0</td>\n",
       "      <td>38</td>\n",
       "      <td>United-States</td>\n",
       "      <td>0</td>\n",
       "    </tr>\n",
       "    <tr>\n",
       "      <th>32558</th>\n",
       "      <td>40</td>\n",
       "      <td>Private</td>\n",
       "      <td>154374</td>\n",
       "      <td>HS-grad</td>\n",
       "      <td>9</td>\n",
       "      <td>Married-civ-spouse</td>\n",
       "      <td>Machine-op-inspct</td>\n",
       "      <td>Husband</td>\n",
       "      <td>White</td>\n",
       "      <td>Male</td>\n",
       "      <td>0</td>\n",
       "      <td>0</td>\n",
       "      <td>40</td>\n",
       "      <td>United-States</td>\n",
       "      <td>1</td>\n",
       "    </tr>\n",
       "    <tr>\n",
       "      <th>32559</th>\n",
       "      <td>58</td>\n",
       "      <td>Private</td>\n",
       "      <td>151910</td>\n",
       "      <td>HS-grad</td>\n",
       "      <td>9</td>\n",
       "      <td>Widowed</td>\n",
       "      <td>Adm-clerical</td>\n",
       "      <td>Unmarried</td>\n",
       "      <td>White</td>\n",
       "      <td>Female</td>\n",
       "      <td>0</td>\n",
       "      <td>0</td>\n",
       "      <td>40</td>\n",
       "      <td>United-States</td>\n",
       "      <td>0</td>\n",
       "    </tr>\n",
       "    <tr>\n",
       "      <th>32560</th>\n",
       "      <td>22</td>\n",
       "      <td>Private</td>\n",
       "      <td>201490</td>\n",
       "      <td>HS-grad</td>\n",
       "      <td>9</td>\n",
       "      <td>Never-married</td>\n",
       "      <td>Adm-clerical</td>\n",
       "      <td>Own-child</td>\n",
       "      <td>White</td>\n",
       "      <td>Male</td>\n",
       "      <td>0</td>\n",
       "      <td>0</td>\n",
       "      <td>20</td>\n",
       "      <td>United-States</td>\n",
       "      <td>0</td>\n",
       "    </tr>\n",
       "  </tbody>\n",
       "</table>\n",
       "<p>26300 rows × 15 columns</p>\n",
       "</div>"
      ],
      "text/plain": [
       "       age         workclass  fnlwgt     education  EducationNum  \\\n",
       "4231    50  Self-emp-not-inc   83311     Bachelors            13   \n",
       "4232    38           Private  215646       HS-grad             9   \n",
       "4233    53           Private  234721          11th             7   \n",
       "4234    28           Private  338409     Bachelors            13   \n",
       "4235    37           Private  284582       Masters            14   \n",
       "...    ...               ...     ...           ...           ...   \n",
       "32556   22           Private  310152  Some-college            10   \n",
       "32557   27           Private  257302    Assoc-acdm            12   \n",
       "32558   40           Private  154374       HS-grad             9   \n",
       "32559   58           Private  151910       HS-grad             9   \n",
       "32560   22           Private  201490       HS-grad             9   \n",
       "\n",
       "            MaritalStatus         occupation   relationship   race  gender  \\\n",
       "4231   Married-civ-spouse    Exec-managerial        Husband  White    Male   \n",
       "4232             Divorced  Handlers-cleaners  Not-in-family  White    Male   \n",
       "4233   Married-civ-spouse  Handlers-cleaners        Husband  Black    Male   \n",
       "4234   Married-civ-spouse     Prof-specialty           Wife  Black  Female   \n",
       "4235   Married-civ-spouse    Exec-managerial           Wife  White  Female   \n",
       "...                   ...                ...            ...    ...     ...   \n",
       "32556       Never-married    Protective-serv  Not-in-family  White    Male   \n",
       "32557  Married-civ-spouse       Tech-support           Wife  White  Female   \n",
       "32558  Married-civ-spouse  Machine-op-inspct        Husband  White    Male   \n",
       "32559             Widowed       Adm-clerical      Unmarried  White  Female   \n",
       "32560       Never-married       Adm-clerical      Own-child  White    Male   \n",
       "\n",
       "       CapitalGain  CapitalLoss  HoursPerWeek        Country  income  \n",
       "4231             0            0            13  United-States       0  \n",
       "4232             0            0            40  United-States       0  \n",
       "4233             0            0            40  United-States       0  \n",
       "4234             0            0            40           Cuba       0  \n",
       "4235             0            0            40  United-States       0  \n",
       "...            ...          ...           ...            ...     ...  \n",
       "32556            0            0            40  United-States       0  \n",
       "32557            0            0            38  United-States       0  \n",
       "32558            0            0            40  United-States       1  \n",
       "32559            0            0            40  United-States       0  \n",
       "32560            0            0            20  United-States       0  \n",
       "\n",
       "[26300 rows x 15 columns]"
      ]
     },
     "execution_count": 125,
     "metadata": {},
     "output_type": "execute_result"
    }
   ],
   "source": [
    "# Calculating Q1 and Q3 for CapitalLoss attribute\n",
    "Q1 = income_data.CapitalLoss.quantile(0.25)\n",
    "Q3 = income_data.CapitalLoss.quantile(0.75)\n",
    "Q1, Q3\n",
    "\n",
    "# Calculating IQR for CapitalLoss attribute\n",
    "IQR = Q3-Q1\n",
    "IQR\n",
    "\n",
    "# Calculating lower and upper limit for CapitalLoss attribute\n",
    "lower_limit = Q1 - 1.5*IQR\n",
    "upper_limit = Q3 + 1.5*IQR\n",
    "lower_limit, upper_limit\n",
    "\n",
    "\n",
    "# Removing the outliers from CapitalLoss attribute\n",
    "income_data = income_data[~((income_data.CapitalLoss<lower_limit)| (income_data.CapitalLoss>upper_limit))]\n",
    "income_data"
   ]
  },
  {
   "cell_type": "code",
   "execution_count": null,
   "id": "cc7c9ef9",
   "metadata": {
    "id": "cc7c9ef9",
    "outputId": "2c00bc43-9ff0-449c-d62b-32507f3adb7d"
   },
   "outputs": [
    {
     "data": {
      "image/png": "[encoded data removed]",
      "text/plain": [
       "<Figure size 432x288 with 1 Axes>"
      ]
     },
     "metadata": {},
     "output_type": "display_data"
    }
   ],
   "source": [
    "sns.boxplot(x = 'CapitalLoss', data = income_data)\n",
    "plt.tight_layout()\n",
    "plt.show()"
   ]
  },
  {
   "cell_type": "code",
   "execution_count": null,
   "id": "0fecd7cc",
   "metadata": {
    "id": "0fecd7cc",
    "outputId": "f5ee95e1-86fc-45a5-90e8-172c13f50e53"
   },
   "outputs": [
    {
     "data": {
      "image/png": "[encoded data removed]",
      "text/plain": [
       "<Figure size 1080x432 with 2 Axes>"
      ]
     },
     "metadata": {},
     "output_type": "display_data"
    }
   ],
   "source": [
    "# Histogram and Boxplot for HoursPerWeek \n",
    "\n",
    "fig, axes = plt.subplots(1,2,figsize=(15,6))\n",
    "\n",
    "sns.histplot(income_data['HoursPerWeek'],bins=10,ax=axes[0])\n",
    "plt.boxplot(income_data['HoursPerWeek'], patch_artist = True)\n",
    "\n",
    "axes[0].set_title('Distribution of the HoursPerWeek of the people')\n",
    "axes[1].set_title('Range of the HoursPerWeek of the people')\n",
    "plt.tight_layout()\n",
    "#plt.savefig(\"hist of HoursPerWeek.png\")\n",
    "plt.show()"
   ]
  },
  {
   "cell_type": "markdown",
   "id": "f483f738",
   "metadata": {
    "id": "f483f738"
   },
   "source": [
    "Detect Outliers based on HoursPerWeek  attribute"
   ]
  },
  {
   "cell_type": "code",
   "execution_count": null,
   "id": "f54ba35b",
   "metadata": {
    "id": "f54ba35b",
    "outputId": "df77ff04-f833-4322-bf0a-e300644c473c"
   },
   "outputs": [
    {
     "data": {
      "text/plain": [
       "(32.5, 52.5)"
      ]
     },
     "execution_count": 128,
     "metadata": {},
     "output_type": "execute_result"
    }
   ],
   "source": [
    "# Calculating Q1 and Q3 for HoursPerWeek attribute\n",
    "Q1 = income_data.HoursPerWeek.quantile(0.25)\n",
    "Q3 = income_data.HoursPerWeek.quantile(0.75)\n",
    "Q1, Q3\n",
    "\n",
    "# Calculating IQR for HoursPerWeek attribute\n",
    "IQR = Q3-Q1\n",
    "IQR\n",
    "\n",
    "# Calculating lower and upper limit for HoursPerWeek attribute\n",
    "lower_limit = Q1 - 1.5*IQR\n",
    "upper_limit = Q3 + 1.5*IQR\n",
    "lower_limit, upper_limit"
   ]
  },
  {
   "cell_type": "code",
   "execution_count": null,
   "id": "b0ac4f66",
   "metadata": {
    "id": "b0ac4f66",
    "outputId": "d9b37cc4-1207-4415-e3bd-9072418bdbc6"
   },
   "outputs": [
    {
     "data": {
      "text/plain": [
       "count    26300.00000\n",
       "mean        40.12384\n",
       "std         12.26543\n",
       "min          1.00000\n",
       "25%         40.00000\n",
       "50%         40.00000\n",
       "75%         45.00000\n",
       "max         99.00000\n",
       "Name: HoursPerWeek, dtype: float64"
      ]
     },
     "execution_count": 129,
     "metadata": {},
     "output_type": "execute_result"
    }
   ],
   "source": [
    "income_data.HoursPerWeek.describe()"
   ]
  },
  {
   "cell_type": "code",
   "execution_count": null,
   "id": "8ded51a9",
   "metadata": {
    "id": "8ded51a9",
    "outputId": "9fdf9e64-a23e-4870-9428-a9a10b626783"
   },
   "outputs": [
    {
     "data": {
      "text/html": [
       "<div>\n",
       "<style scoped>\n",
       "    .dataframe tbody tr th:only-of-type {\n",
       "        vertical-align: middle;\n",
       "    }\n",
       "\n",
       "    .dataframe tbody tr th {\n",
       "        vertical-align: top;\n",
       "    }\n",
       "\n",
       "    .dataframe thead th {\n",
       "        text-align: right;\n",
       "    }\n",
       "</style>\n",
       "<table border=\"1\" class=\"dataframe\">\n",
       "  <thead>\n",
       "    <tr style=\"text-align: right;\">\n",
       "      <th></th>\n",
       "      <th>age</th>\n",
       "      <th>workclass</th>\n",
       "      <th>fnlwgt</th>\n",
       "      <th>education</th>\n",
       "      <th>EducationNum</th>\n",
       "      <th>MaritalStatus</th>\n",
       "      <th>occupation</th>\n",
       "      <th>relationship</th>\n",
       "      <th>race</th>\n",
       "      <th>gender</th>\n",
       "      <th>CapitalGain</th>\n",
       "      <th>CapitalLoss</th>\n",
       "      <th>HoursPerWeek</th>\n",
       "      <th>Country</th>\n",
       "      <th>income</th>\n",
       "    </tr>\n",
       "  </thead>\n",
       "  <tbody>\n",
       "    <tr>\n",
       "      <th>4232</th>\n",
       "      <td>38</td>\n",
       "      <td>Private</td>\n",
       "      <td>215646</td>\n",
       "      <td>HS-grad</td>\n",
       "      <td>9</td>\n",
       "      <td>Divorced</td>\n",
       "      <td>Handlers-cleaners</td>\n",
       "      <td>Not-in-family</td>\n",
       "      <td>White</td>\n",
       "      <td>Male</td>\n",
       "      <td>0</td>\n",
       "      <td>0</td>\n",
       "      <td>40</td>\n",
       "      <td>United-States</td>\n",
       "      <td>0</td>\n",
       "    </tr>\n",
       "    <tr>\n",
       "      <th>4233</th>\n",
       "      <td>53</td>\n",
       "      <td>Private</td>\n",
       "      <td>234721</td>\n",
       "      <td>11th</td>\n",
       "      <td>7</td>\n",
       "      <td>Married-civ-spouse</td>\n",
       "      <td>Handlers-cleaners</td>\n",
       "      <td>Husband</td>\n",
       "      <td>Black</td>\n",
       "      <td>Male</td>\n",
       "      <td>0</td>\n",
       "      <td>0</td>\n",
       "      <td>40</td>\n",
       "      <td>United-States</td>\n",
       "      <td>0</td>\n",
       "    </tr>\n",
       "    <tr>\n",
       "      <th>4234</th>\n",
       "      <td>28</td>\n",
       "      <td>Private</td>\n",
       "      <td>338409</td>\n",
       "      <td>Bachelors</td>\n",
       "      <td>13</td>\n",
       "      <td>Married-civ-spouse</td>\n",
       "      <td>Prof-specialty</td>\n",
       "      <td>Wife</td>\n",
       "      <td>Black</td>\n",
       "      <td>Female</td>\n",
       "      <td>0</td>\n",
       "      <td>0</td>\n",
       "      <td>40</td>\n",
       "      <td>Cuba</td>\n",
       "      <td>0</td>\n",
       "    </tr>\n",
       "    <tr>\n",
       "      <th>4235</th>\n",
       "      <td>37</td>\n",
       "      <td>Private</td>\n",
       "      <td>284582</td>\n",
       "      <td>Masters</td>\n",
       "      <td>14</td>\n",
       "      <td>Married-civ-spouse</td>\n",
       "      <td>Exec-managerial</td>\n",
       "      <td>Wife</td>\n",
       "      <td>White</td>\n",
       "      <td>Female</td>\n",
       "      <td>0</td>\n",
       "      <td>0</td>\n",
       "      <td>40</td>\n",
       "      <td>United-States</td>\n",
       "      <td>0</td>\n",
       "    </tr>\n",
       "    <tr>\n",
       "      <th>4237</th>\n",
       "      <td>52</td>\n",
       "      <td>Self-emp-not-inc</td>\n",
       "      <td>209642</td>\n",
       "      <td>HS-grad</td>\n",
       "      <td>9</td>\n",
       "      <td>Married-civ-spouse</td>\n",
       "      <td>Exec-managerial</td>\n",
       "      <td>Husband</td>\n",
       "      <td>White</td>\n",
       "      <td>Male</td>\n",
       "      <td>0</td>\n",
       "      <td>0</td>\n",
       "      <td>45</td>\n",
       "      <td>United-States</td>\n",
       "      <td>1</td>\n",
       "    </tr>\n",
       "    <tr>\n",
       "      <th>...</th>\n",
       "      <td>...</td>\n",
       "      <td>...</td>\n",
       "      <td>...</td>\n",
       "      <td>...</td>\n",
       "      <td>...</td>\n",
       "      <td>...</td>\n",
       "      <td>...</td>\n",
       "      <td>...</td>\n",
       "      <td>...</td>\n",
       "      <td>...</td>\n",
       "      <td>...</td>\n",
       "      <td>...</td>\n",
       "      <td>...</td>\n",
       "      <td>...</td>\n",
       "      <td>...</td>\n",
       "    </tr>\n",
       "    <tr>\n",
       "      <th>32555</th>\n",
       "      <td>53</td>\n",
       "      <td>Private</td>\n",
       "      <td>321865</td>\n",
       "      <td>Masters</td>\n",
       "      <td>14</td>\n",
       "      <td>Married-civ-spouse</td>\n",
       "      <td>Exec-managerial</td>\n",
       "      <td>Husband</td>\n",
       "      <td>White</td>\n",
       "      <td>Male</td>\n",
       "      <td>0</td>\n",
       "      <td>0</td>\n",
       "      <td>40</td>\n",
       "      <td>United-States</td>\n",
       "      <td>1</td>\n",
       "    </tr>\n",
       "    <tr>\n",
       "      <th>32556</th>\n",
       "      <td>22</td>\n",
       "      <td>Private</td>\n",
       "      <td>310152</td>\n",
       "      <td>Some-college</td>\n",
       "      <td>10</td>\n",
       "      <td>Never-married</td>\n",
       "      <td>Protective-serv</td>\n",
       "      <td>Not-in-family</td>\n",
       "      <td>White</td>\n",
       "      <td>Male</td>\n",
       "      <td>0</td>\n",
       "      <td>0</td>\n",
       "      <td>40</td>\n",
       "      <td>United-States</td>\n",
       "      <td>0</td>\n",
       "    </tr>\n",
       "    <tr>\n",
       "      <th>32557</th>\n",
       "      <td>27</td>\n",
       "      <td>Private</td>\n",
       "      <td>257302</td>\n",
       "      <td>Assoc-acdm</td>\n",
       "      <td>12</td>\n",
       "      <td>Married-civ-spouse</td>\n",
       "      <td>Tech-support</td>\n",
       "      <td>Wife</td>\n",
       "      <td>White</td>\n",
       "      <td>Female</td>\n",
       "      <td>0</td>\n",
       "      <td>0</td>\n",
       "      <td>38</td>\n",
       "      <td>United-States</td>\n",
       "      <td>0</td>\n",
       "    </tr>\n",
       "    <tr>\n",
       "      <th>32558</th>\n",
       "      <td>40</td>\n",
       "      <td>Private</td>\n",
       "      <td>154374</td>\n",
       "      <td>HS-grad</td>\n",
       "      <td>9</td>\n",
       "      <td>Married-civ-spouse</td>\n",
       "      <td>Machine-op-inspct</td>\n",
       "      <td>Husband</td>\n",
       "      <td>White</td>\n",
       "      <td>Male</td>\n",
       "      <td>0</td>\n",
       "      <td>0</td>\n",
       "      <td>40</td>\n",
       "      <td>United-States</td>\n",
       "      <td>1</td>\n",
       "    </tr>\n",
       "    <tr>\n",
       "      <th>32559</th>\n",
       "      <td>58</td>\n",
       "      <td>Private</td>\n",
       "      <td>151910</td>\n",
       "      <td>HS-grad</td>\n",
       "      <td>9</td>\n",
       "      <td>Widowed</td>\n",
       "      <td>Adm-clerical</td>\n",
       "      <td>Unmarried</td>\n",
       "      <td>White</td>\n",
       "      <td>Female</td>\n",
       "      <td>0</td>\n",
       "      <td>0</td>\n",
       "      <td>40</td>\n",
       "      <td>United-States</td>\n",
       "      <td>0</td>\n",
       "    </tr>\n",
       "  </tbody>\n",
       "</table>\n",
       "<p>18991 rows × 15 columns</p>\n",
       "</div>"
      ],
      "text/plain": [
       "       age         workclass  fnlwgt     education  EducationNum  \\\n",
       "4232    38           Private  215646       HS-grad             9   \n",
       "4233    53           Private  234721          11th             7   \n",
       "4234    28           Private  338409     Bachelors            13   \n",
       "4235    37           Private  284582       Masters            14   \n",
       "4237    52  Self-emp-not-inc  209642       HS-grad             9   \n",
       "...    ...               ...     ...           ...           ...   \n",
       "32555   53           Private  321865       Masters            14   \n",
       "32556   22           Private  310152  Some-college            10   \n",
       "32557   27           Private  257302    Assoc-acdm            12   \n",
       "32558   40           Private  154374       HS-grad             9   \n",
       "32559   58           Private  151910       HS-grad             9   \n",
       "\n",
       "            MaritalStatus         occupation   relationship   race  gender  \\\n",
       "4232             Divorced  Handlers-cleaners  Not-in-family  White    Male   \n",
       "4233   Married-civ-spouse  Handlers-cleaners        Husband  Black    Male   \n",
       "4234   Married-civ-spouse     Prof-specialty           Wife  Black  Female   \n",
       "4235   Married-civ-spouse    Exec-managerial           Wife  White  Female   \n",
       "4237   Married-civ-spouse    Exec-managerial        Husband  White    Male   \n",
       "...                   ...                ...            ...    ...     ...   \n",
       "32555  Married-civ-spouse    Exec-managerial        Husband  White    Male   \n",
       "32556       Never-married    Protective-serv  Not-in-family  White    Male   \n",
       "32557  Married-civ-spouse       Tech-support           Wife  White  Female   \n",
       "32558  Married-civ-spouse  Machine-op-inspct        Husband  White    Male   \n",
       "32559             Widowed       Adm-clerical      Unmarried  White  Female   \n",
       "\n",
       "       CapitalGain  CapitalLoss  HoursPerWeek        Country  income  \n",
       "4232             0            0            40  United-States       0  \n",
       "4233             0            0            40  United-States       0  \n",
       "4234             0            0            40           Cuba       0  \n",
       "4235             0            0            40  United-States       0  \n",
       "4237             0            0            45  United-States       1  \n",
       "...            ...          ...           ...            ...     ...  \n",
       "32555            0            0            40  United-States       1  \n",
       "32556            0            0            40  United-States       0  \n",
       "32557            0            0            38  United-States       0  \n",
       "32558            0            0            40  United-States       1  \n",
       "32559            0            0            40  United-States       0  \n",
       "\n",
       "[18991 rows x 15 columns]"
      ]
     },
     "execution_count": 130,
     "metadata": {},
     "output_type": "execute_result"
    }
   ],
   "source": [
    "# Removing the outliers from HoursPerWeek attribute\n",
    "income_data = income_data[~((income_data.HoursPerWeek<lower_limit)| (income_data.HoursPerWeek>upper_limit))]\n",
    "income_data"
   ]
  },
  {
   "cell_type": "code",
   "execution_count": null,
   "id": "9c82db4a",
   "metadata": {
    "id": "9c82db4a",
    "outputId": "1be76e76-fb9c-4043-e02a-322c26723172"
   },
   "outputs": [
    {
     "data": {
      "image/png": "[encoded data removed]",
      "text/plain": [
       "<Figure size 432x288 with 1 Axes>"
      ]
     },
     "metadata": {},
     "output_type": "display_data"
    }
   ],
   "source": [
    "sns.boxplot(x = 'HoursPerWeek', data = income_data)\n",
    "plt.tight_layout()\n",
    "plt.show()"
   ]
  },
  {
   "cell_type": "code",
   "execution_count": null,
   "id": "a3b8fe6c",
   "metadata": {
    "id": "a3b8fe6c",
    "outputId": "0650f4b3-30d9-4e28-e397-4b1dcbb0ec7c"
   },
   "outputs": [
    {
     "data": {
      "text/plain": [
       "Text(0.5, 1.0, 'Box plot representing age and income \\n')"
      ]
     },
     "execution_count": 132,
     "metadata": {},
     "output_type": "execute_result"
    },
    {
     "data": {
      "image/png": "[encoded data removed]",
      "text/plain": [
       "<Figure size 432x288 with 1 Axes>"
      ]
     },
     "metadata": {},
     "output_type": "display_data"
    }
   ],
   "source": [
    "#Variation between age and income level\n",
    "sns.boxplot(x=income_data['income'],y = income_data['age'],color='g')\n",
    "plt.title(\"Box plot representing age and income \\n\", size = 15)\n",
    "#plt.savefig(\"Box plot representing age and income.png\")"
   ]
  },
  {
   "cell_type": "raw",
   "id": "b1934549",
   "metadata": {
    "id": "b1934549"
   },
   "source": [
    "The boxplot can be used to measure the variance between variables accurately. As can be seen, persons earning less than $50,000 have a median age of around 34 years, while those earning more than $50,000 have a median age of around 45 years."
   ]
  },
  {
   "cell_type": "code",
   "execution_count": null,
   "id": "a44fe334",
   "metadata": {
    "id": "a44fe334"
   },
   "outputs": [],
   "source": [
    "# checking the variance of the variables\n",
    "\n",
    "variance=round(income_data.var(),0)\n",
    "#variance.to_csv(\"variance.csv\")"
   ]
  },
  {
   "cell_type": "markdown",
   "id": "148c2857",
   "metadata": {
    "id": "148c2857"
   },
   "source": [
    "I delete attributes with nearly zero variance from the data set because they don't provide any information about the dataset.."
   ]
  },
  {
   "cell_type": "code",
   "execution_count": null,
   "id": "3e234034",
   "metadata": {
    "id": "3e234034"
   },
   "outputs": [],
   "source": [
    "income_data = income_data.drop([\"CapitalGain\",\"CapitalLoss\"],axis = 1)"
   ]
  },
  {
   "cell_type": "code",
   "execution_count": null,
   "id": "65fe30ad",
   "metadata": {
    "id": "65fe30ad",
    "outputId": "bfe7be87-189a-4ad4-aa22-fbb3901a72ce"
   },
   "outputs": [
    {
     "data": {
      "text/html": [
       "<div>\n",
       "<style scoped>\n",
       "    .dataframe tbody tr th:only-of-type {\n",
       "        vertical-align: middle;\n",
       "    }\n",
       "\n",
       "    .dataframe tbody tr th {\n",
       "        vertical-align: top;\n",
       "    }\n",
       "\n",
       "    .dataframe thead th {\n",
       "        text-align: right;\n",
       "    }\n",
       "</style>\n",
       "<table border=\"1\" class=\"dataframe\">\n",
       "  <thead>\n",
       "    <tr style=\"text-align: right;\">\n",
       "      <th></th>\n",
       "      <th>age</th>\n",
       "      <th>workclass</th>\n",
       "      <th>fnlwgt</th>\n",
       "      <th>education</th>\n",
       "      <th>EducationNum</th>\n",
       "      <th>MaritalStatus</th>\n",
       "      <th>occupation</th>\n",
       "      <th>relationship</th>\n",
       "      <th>race</th>\n",
       "      <th>gender</th>\n",
       "      <th>HoursPerWeek</th>\n",
       "      <th>Country</th>\n",
       "      <th>income</th>\n",
       "    </tr>\n",
       "  </thead>\n",
       "  <tbody>\n",
       "    <tr>\n",
       "      <th>4232</th>\n",
       "      <td>38</td>\n",
       "      <td>Private</td>\n",
       "      <td>215646</td>\n",
       "      <td>HS-grad</td>\n",
       "      <td>9</td>\n",
       "      <td>Divorced</td>\n",
       "      <td>Handlers-cleaners</td>\n",
       "      <td>Not-in-family</td>\n",
       "      <td>White</td>\n",
       "      <td>Male</td>\n",
       "      <td>40</td>\n",
       "      <td>United-States</td>\n",
       "      <td>0</td>\n",
       "    </tr>\n",
       "    <tr>\n",
       "      <th>4233</th>\n",
       "      <td>53</td>\n",
       "      <td>Private</td>\n",
       "      <td>234721</td>\n",
       "      <td>11th</td>\n",
       "      <td>7</td>\n",
       "      <td>Married-civ-spouse</td>\n",
       "      <td>Handlers-cleaners</td>\n",
       "      <td>Husband</td>\n",
       "      <td>Black</td>\n",
       "      <td>Male</td>\n",
       "      <td>40</td>\n",
       "      <td>United-States</td>\n",
       "      <td>0</td>\n",
       "    </tr>\n",
       "    <tr>\n",
       "      <th>4234</th>\n",
       "      <td>28</td>\n",
       "      <td>Private</td>\n",
       "      <td>338409</td>\n",
       "      <td>Bachelors</td>\n",
       "      <td>13</td>\n",
       "      <td>Married-civ-spouse</td>\n",
       "      <td>Prof-specialty</td>\n",
       "      <td>Wife</td>\n",
       "      <td>Black</td>\n",
       "      <td>Female</td>\n",
       "      <td>40</td>\n",
       "      <td>Cuba</td>\n",
       "      <td>0</td>\n",
       "    </tr>\n",
       "    <tr>\n",
       "      <th>4235</th>\n",
       "      <td>37</td>\n",
       "      <td>Private</td>\n",
       "      <td>284582</td>\n",
       "      <td>Masters</td>\n",
       "      <td>14</td>\n",
       "      <td>Married-civ-spouse</td>\n",
       "      <td>Exec-managerial</td>\n",
       "      <td>Wife</td>\n",
       "      <td>White</td>\n",
       "      <td>Female</td>\n",
       "      <td>40</td>\n",
       "      <td>United-States</td>\n",
       "      <td>0</td>\n",
       "    </tr>\n",
       "    <tr>\n",
       "      <th>4237</th>\n",
       "      <td>52</td>\n",
       "      <td>Self-emp-not-inc</td>\n",
       "      <td>209642</td>\n",
       "      <td>HS-grad</td>\n",
       "      <td>9</td>\n",
       "      <td>Married-civ-spouse</td>\n",
       "      <td>Exec-managerial</td>\n",
       "      <td>Husband</td>\n",
       "      <td>White</td>\n",
       "      <td>Male</td>\n",
       "      <td>45</td>\n",
       "      <td>United-States</td>\n",
       "      <td>1</td>\n",
       "    </tr>\n",
       "    <tr>\n",
       "      <th>...</th>\n",
       "      <td>...</td>\n",
       "      <td>...</td>\n",
       "      <td>...</td>\n",
       "      <td>...</td>\n",
       "      <td>...</td>\n",
       "      <td>...</td>\n",
       "      <td>...</td>\n",
       "      <td>...</td>\n",
       "      <td>...</td>\n",
       "      <td>...</td>\n",
       "      <td>...</td>\n",
       "      <td>...</td>\n",
       "      <td>...</td>\n",
       "    </tr>\n",
       "    <tr>\n",
       "      <th>32555</th>\n",
       "      <td>53</td>\n",
       "      <td>Private</td>\n",
       "      <td>321865</td>\n",
       "      <td>Masters</td>\n",
       "      <td>14</td>\n",
       "      <td>Married-civ-spouse</td>\n",
       "      <td>Exec-managerial</td>\n",
       "      <td>Husband</td>\n",
       "      <td>White</td>\n",
       "      <td>Male</td>\n",
       "      <td>40</td>\n",
       "      <td>United-States</td>\n",
       "      <td>1</td>\n",
       "    </tr>\n",
       "    <tr>\n",
       "      <th>32556</th>\n",
       "      <td>22</td>\n",
       "      <td>Private</td>\n",
       "      <td>310152</td>\n",
       "      <td>Some-college</td>\n",
       "      <td>10</td>\n",
       "      <td>Never-married</td>\n",
       "      <td>Protective-serv</td>\n",
       "      <td>Not-in-family</td>\n",
       "      <td>White</td>\n",
       "      <td>Male</td>\n",
       "      <td>40</td>\n",
       "      <td>United-States</td>\n",
       "      <td>0</td>\n",
       "    </tr>\n",
       "    <tr>\n",
       "      <th>32557</th>\n",
       "      <td>27</td>\n",
       "      <td>Private</td>\n",
       "      <td>257302</td>\n",
       "      <td>Assoc-acdm</td>\n",
       "      <td>12</td>\n",
       "      <td>Married-civ-spouse</td>\n",
       "      <td>Tech-support</td>\n",
       "      <td>Wife</td>\n",
       "      <td>White</td>\n",
       "      <td>Female</td>\n",
       "      <td>38</td>\n",
       "      <td>United-States</td>\n",
       "      <td>0</td>\n",
       "    </tr>\n",
       "    <tr>\n",
       "      <th>32558</th>\n",
       "      <td>40</td>\n",
       "      <td>Private</td>\n",
       "      <td>154374</td>\n",
       "      <td>HS-grad</td>\n",
       "      <td>9</td>\n",
       "      <td>Married-civ-spouse</td>\n",
       "      <td>Machine-op-inspct</td>\n",
       "      <td>Husband</td>\n",
       "      <td>White</td>\n",
       "      <td>Male</td>\n",
       "      <td>40</td>\n",
       "      <td>United-States</td>\n",
       "      <td>1</td>\n",
       "    </tr>\n",
       "    <tr>\n",
       "      <th>32559</th>\n",
       "      <td>58</td>\n",
       "      <td>Private</td>\n",
       "      <td>151910</td>\n",
       "      <td>HS-grad</td>\n",
       "      <td>9</td>\n",
       "      <td>Widowed</td>\n",
       "      <td>Adm-clerical</td>\n",
       "      <td>Unmarried</td>\n",
       "      <td>White</td>\n",
       "      <td>Female</td>\n",
       "      <td>40</td>\n",
       "      <td>United-States</td>\n",
       "      <td>0</td>\n",
       "    </tr>\n",
       "  </tbody>\n",
       "</table>\n",
       "<p>18991 rows × 13 columns</p>\n",
       "</div>"
      ],
      "text/plain": [
       "       age         workclass  fnlwgt     education  EducationNum  \\\n",
       "4232    38           Private  215646       HS-grad             9   \n",
       "4233    53           Private  234721          11th             7   \n",
       "4234    28           Private  338409     Bachelors            13   \n",
       "4235    37           Private  284582       Masters            14   \n",
       "4237    52  Self-emp-not-inc  209642       HS-grad             9   \n",
       "...    ...               ...     ...           ...           ...   \n",
       "32555   53           Private  321865       Masters            14   \n",
       "32556   22           Private  310152  Some-college            10   \n",
       "32557   27           Private  257302    Assoc-acdm            12   \n",
       "32558   40           Private  154374       HS-grad             9   \n",
       "32559   58           Private  151910       HS-grad             9   \n",
       "\n",
       "            MaritalStatus         occupation   relationship   race  gender  \\\n",
       "4232             Divorced  Handlers-cleaners  Not-in-family  White    Male   \n",
       "4233   Married-civ-spouse  Handlers-cleaners        Husband  Black    Male   \n",
       "4234   Married-civ-spouse     Prof-specialty           Wife  Black  Female   \n",
       "4235   Married-civ-spouse    Exec-managerial           Wife  White  Female   \n",
       "4237   Married-civ-spouse    Exec-managerial        Husband  White    Male   \n",
       "...                   ...                ...            ...    ...     ...   \n",
       "32555  Married-civ-spouse    Exec-managerial        Husband  White    Male   \n",
       "32556       Never-married    Protective-serv  Not-in-family  White    Male   \n",
       "32557  Married-civ-spouse       Tech-support           Wife  White  Female   \n",
       "32558  Married-civ-spouse  Machine-op-inspct        Husband  White    Male   \n",
       "32559             Widowed       Adm-clerical      Unmarried  White  Female   \n",
       "\n",
       "       HoursPerWeek        Country  income  \n",
       "4232             40  United-States       0  \n",
       "4233             40  United-States       0  \n",
       "4234             40           Cuba       0  \n",
       "4235             40  United-States       0  \n",
       "4237             45  United-States       1  \n",
       "...             ...            ...     ...  \n",
       "32555            40  United-States       1  \n",
       "32556            40  United-States       0  \n",
       "32557            38  United-States       0  \n",
       "32558            40  United-States       1  \n",
       "32559            40  United-States       0  \n",
       "\n",
       "[18991 rows x 13 columns]"
      ]
     },
     "execution_count": 135,
     "metadata": {},
     "output_type": "execute_result"
    }
   ],
   "source": [
    "income_data"
   ]
  },
  {
   "cell_type": "code",
   "execution_count": null,
   "id": "659fc0cf",
   "metadata": {
    "id": "659fc0cf",
    "outputId": "801ac159-d8dc-40d5-ac5f-6f43f53f0d81"
   },
   "outputs": [
    {
     "name": "stdout",
     "output_type": "stream",
     "text": [
      "category: ['workclass', 'education', 'MaritalStatus', 'occupation', 'relationship', 'race', 'gender', 'Country']\n",
      "numeric: ['age', 'fnlwgt', 'EducationNum', 'HoursPerWeek', 'income']\n"
     ]
    }
   ],
   "source": [
    "# printing the numerical and categorical variables individually\n",
    "\n",
    "numeric = []\n",
    "category = []\n",
    "for col in income_data:\n",
    "    if pd.api.types.is_numeric_dtype(income_data[col]):\n",
    "        numeric.append(col)\n",
    "    else:\n",
    "        category.append(col)\n",
    "print(\"category:\", category)\n",
    "print(\"numeric:\", numeric)"
   ]
  },
  {
   "cell_type": "markdown",
   "id": "c1df44a0",
   "metadata": {
    "id": "c1df44a0"
   },
   "source": [
    "### Correlation Matrix using Pearson Method"
   ]
  },
  {
   "cell_type": "code",
   "execution_count": null,
   "id": "1091189b",
   "metadata": {
    "id": "1091189b",
    "outputId": "46d91a56-bffa-4a34-f1fe-09d06682e568"
   },
   "outputs": [
    {
     "data": {
      "text/html": [
       "<div>\n",
       "<style scoped>\n",
       "    .dataframe tbody tr th:only-of-type {\n",
       "        vertical-align: middle;\n",
       "    }\n",
       "\n",
       "    .dataframe tbody tr th {\n",
       "        vertical-align: top;\n",
       "    }\n",
       "\n",
       "    .dataframe thead th {\n",
       "        text-align: right;\n",
       "    }\n",
       "</style>\n",
       "<table border=\"1\" class=\"dataframe\">\n",
       "  <thead>\n",
       "    <tr style=\"text-align: right;\">\n",
       "      <th></th>\n",
       "      <th>age</th>\n",
       "      <th>fnlwgt</th>\n",
       "      <th>EducationNum</th>\n",
       "      <th>HoursPerWeek</th>\n",
       "      <th>income</th>\n",
       "    </tr>\n",
       "  </thead>\n",
       "  <tbody>\n",
       "    <tr>\n",
       "      <th>age</th>\n",
       "      <td>1.00</td>\n",
       "      <td>-0.07</td>\n",
       "      <td>0.05</td>\n",
       "      <td>0.05</td>\n",
       "      <td>0.25</td>\n",
       "    </tr>\n",
       "    <tr>\n",
       "      <th>fnlwgt</th>\n",
       "      <td>-0.07</td>\n",
       "      <td>1.00</td>\n",
       "      <td>-0.03</td>\n",
       "      <td>-0.02</td>\n",
       "      <td>0.00</td>\n",
       "    </tr>\n",
       "    <tr>\n",
       "      <th>EducationNum</th>\n",
       "      <td>0.05</td>\n",
       "      <td>-0.03</td>\n",
       "      <td>1.00</td>\n",
       "      <td>0.13</td>\n",
       "      <td>0.30</td>\n",
       "    </tr>\n",
       "    <tr>\n",
       "      <th>HoursPerWeek</th>\n",
       "      <td>0.05</td>\n",
       "      <td>-0.02</td>\n",
       "      <td>0.13</td>\n",
       "      <td>1.00</td>\n",
       "      <td>0.17</td>\n",
       "    </tr>\n",
       "    <tr>\n",
       "      <th>income</th>\n",
       "      <td>0.25</td>\n",
       "      <td>0.00</td>\n",
       "      <td>0.30</td>\n",
       "      <td>0.17</td>\n",
       "      <td>1.00</td>\n",
       "    </tr>\n",
       "  </tbody>\n",
       "</table>\n",
       "</div>"
      ],
      "text/plain": [
       "               age  fnlwgt  EducationNum  HoursPerWeek  income\n",
       "age           1.00   -0.07          0.05          0.05    0.25\n",
       "fnlwgt       -0.07    1.00         -0.03         -0.02    0.00\n",
       "EducationNum  0.05   -0.03          1.00          0.13    0.30\n",
       "HoursPerWeek  0.05   -0.02          0.13          1.00    0.17\n",
       "income        0.25    0.00          0.30          0.17    1.00"
      ]
     },
     "execution_count": 137,
     "metadata": {},
     "output_type": "execute_result"
    }
   ],
   "source": [
    "corr= income_data.corr().round(2)\n",
    "corr"
   ]
  },
  {
   "cell_type": "code",
   "execution_count": null,
   "id": "06f186eb",
   "metadata": {
    "id": "06f186eb",
    "outputId": "c84c240d-1aec-4f47-82ca-0c3a20a8f794"
   },
   "outputs": [
    {
     "data": {
      "image/png": "[encoded data removed]",
      "text/plain": [
       "<Figure size 1080x576 with 2 Axes>"
      ]
     },
     "metadata": {},
     "output_type": "display_data"
    }
   ],
   "source": [
    "# plotting the correlation matrix\n",
    "plt.figure(figsize=(15,8))\n",
    "correlation_mat = income_data.corr().round(2)\n",
    "\n",
    "sns.heatmap(correlation_mat, annot = True)\n",
    "plt.title(\"\\nCorrelation Matrix using Pearson Method\\n\")\n",
    "#plt.savefig(\"corr.png\",bbox_inches='tight')\n",
    "plt.show()"
   ]
  },
  {
   "cell_type": "markdown",
   "id": "11a116d9",
   "metadata": {
    "id": "11a116d9"
   },
   "source": [
    "### Spearman Correlation"
   ]
  },
  {
   "cell_type": "code",
   "execution_count": null,
   "id": "f0ee3b5b",
   "metadata": {
    "id": "f0ee3b5b",
    "outputId": "02a65f9b-d6e3-4380-e999-23eddd27c21f"
   },
   "outputs": [
    {
     "data": {
      "text/html": [
       "<div>\n",
       "<style scoped>\n",
       "    .dataframe tbody tr th:only-of-type {\n",
       "        vertical-align: middle;\n",
       "    }\n",
       "\n",
       "    .dataframe tbody tr th {\n",
       "        vertical-align: top;\n",
       "    }\n",
       "\n",
       "    .dataframe thead th {\n",
       "        text-align: right;\n",
       "    }\n",
       "</style>\n",
       "<table border=\"1\" class=\"dataframe\">\n",
       "  <thead>\n",
       "    <tr style=\"text-align: right;\">\n",
       "      <th></th>\n",
       "      <th>age</th>\n",
       "      <th>fnlwgt</th>\n",
       "      <th>EducationNum</th>\n",
       "      <th>HoursPerWeek</th>\n",
       "      <th>income</th>\n",
       "    </tr>\n",
       "  </thead>\n",
       "  <tbody>\n",
       "    <tr>\n",
       "      <th>age</th>\n",
       "      <td>1.00</td>\n",
       "      <td>-0.07</td>\n",
       "      <td>0.05</td>\n",
       "      <td>0.06</td>\n",
       "      <td>0.27</td>\n",
       "    </tr>\n",
       "    <tr>\n",
       "      <th>fnlwgt</th>\n",
       "      <td>-0.07</td>\n",
       "      <td>1.00</td>\n",
       "      <td>-0.02</td>\n",
       "      <td>-0.02</td>\n",
       "      <td>-0.00</td>\n",
       "    </tr>\n",
       "    <tr>\n",
       "      <th>EducationNum</th>\n",
       "      <td>0.05</td>\n",
       "      <td>-0.02</td>\n",
       "      <td>1.00</td>\n",
       "      <td>0.12</td>\n",
       "      <td>0.28</td>\n",
       "    </tr>\n",
       "    <tr>\n",
       "      <th>HoursPerWeek</th>\n",
       "      <td>0.06</td>\n",
       "      <td>-0.02</td>\n",
       "      <td>0.12</td>\n",
       "      <td>1.00</td>\n",
       "      <td>0.17</td>\n",
       "    </tr>\n",
       "    <tr>\n",
       "      <th>income</th>\n",
       "      <td>0.27</td>\n",
       "      <td>-0.00</td>\n",
       "      <td>0.28</td>\n",
       "      <td>0.17</td>\n",
       "      <td>1.00</td>\n",
       "    </tr>\n",
       "  </tbody>\n",
       "</table>\n",
       "</div>"
      ],
      "text/plain": [
       "               age  fnlwgt  EducationNum  HoursPerWeek  income\n",
       "age           1.00   -0.07          0.05          0.06    0.27\n",
       "fnlwgt       -0.07    1.00         -0.02         -0.02   -0.00\n",
       "EducationNum  0.05   -0.02          1.00          0.12    0.28\n",
       "HoursPerWeek  0.06   -0.02          0.12          1.00    0.17\n",
       "income        0.27   -0.00          0.28          0.17    1.00"
      ]
     },
     "execution_count": 139,
     "metadata": {},
     "output_type": "execute_result"
    }
   ],
   "source": [
    "corr1 = income_data.corr(method='spearman').round(2)\n",
    "corr1"
   ]
  },
  {
   "cell_type": "code",
   "execution_count": null,
   "id": "6a2ff93a",
   "metadata": {
    "id": "6a2ff93a",
    "outputId": "0bff2d99-3391-447f-d7a8-610000055afb"
   },
   "outputs": [
    {
     "data": {
      "image/png": "[encoded data removed]",
      "text/plain": [
       "<Figure size 1080x576 with 2 Axes>"
      ]
     },
     "metadata": {},
     "output_type": "display_data"
    }
   ],
   "source": [
    "# plotting the correlation matrix\n",
    "plt.figure(figsize=(15,8))\n",
    "correlation_mat = income_data.corr(method='spearman').round(2)\n",
    "\n",
    "sns.heatmap(correlation_mat, annot = True)\n",
    "plt.title(\"\\nCorrelation Matrix using Spearman Method\\n\")\n",
    "#plt.savefig(\"corr2.png\",bbox_inches='tight')\n",
    "plt.show()"
   ]
  },
  {
   "cell_type": "markdown",
   "id": "777d6473",
   "metadata": {
    "id": "777d6473"
   },
   "source": [
    "The above graphs show the relation between two variables using two different methods and shows how the change in one variable impact other. The value varies between -1 to 1. No strong correlation has been observed between any of the variables."
   ]
  },
  {
   "cell_type": "code",
   "execution_count": null,
   "id": "26f989a6",
   "metadata": {
    "id": "26f989a6",
    "outputId": "b65a7d6e-42ff-4498-e918-409940d952c4"
   },
   "outputs": [
    {
     "data": {
      "text/plain": [
       "Index(['age', 'fnlwgt', 'EducationNum', 'HoursPerWeek', 'income'], dtype='object')"
      ]
     },
     "execution_count": 141,
     "metadata": {},
     "output_type": "execute_result"
    }
   ],
   "source": [
    "# choosing only numerical attributes from whole dataset\n",
    "income_data.columns[~income_data.columns.isin(category)]"
   ]
  },
  {
   "cell_type": "code",
   "execution_count": null,
   "id": "aea28fdc",
   "metadata": {
    "id": "aea28fdc",
    "outputId": "df93a5e9-9f13-460f-8ab0-41f26169b519"
   },
   "outputs": [
    {
     "data": {
      "text/html": [
       "<div>\n",
       "<style scoped>\n",
       "    .dataframe tbody tr th:only-of-type {\n",
       "        vertical-align: middle;\n",
       "    }\n",
       "\n",
       "    .dataframe tbody tr th {\n",
       "        vertical-align: top;\n",
       "    }\n",
       "\n",
       "    .dataframe thead th {\n",
       "        text-align: right;\n",
       "    }\n",
       "</style>\n",
       "<table border=\"1\" class=\"dataframe\">\n",
       "  <thead>\n",
       "    <tr style=\"text-align: right;\">\n",
       "      <th></th>\n",
       "      <th>age</th>\n",
       "      <th>fnlwgt</th>\n",
       "      <th>EducationNum</th>\n",
       "      <th>HoursPerWeek</th>\n",
       "      <th>income</th>\n",
       "    </tr>\n",
       "  </thead>\n",
       "  <tbody>\n",
       "    <tr>\n",
       "      <th>4232</th>\n",
       "      <td>38</td>\n",
       "      <td>215646</td>\n",
       "      <td>9</td>\n",
       "      <td>40</td>\n",
       "      <td>0</td>\n",
       "    </tr>\n",
       "    <tr>\n",
       "      <th>4233</th>\n",
       "      <td>53</td>\n",
       "      <td>234721</td>\n",
       "      <td>7</td>\n",
       "      <td>40</td>\n",
       "      <td>0</td>\n",
       "    </tr>\n",
       "    <tr>\n",
       "      <th>4234</th>\n",
       "      <td>28</td>\n",
       "      <td>338409</td>\n",
       "      <td>13</td>\n",
       "      <td>40</td>\n",
       "      <td>0</td>\n",
       "    </tr>\n",
       "    <tr>\n",
       "      <th>4235</th>\n",
       "      <td>37</td>\n",
       "      <td>284582</td>\n",
       "      <td>14</td>\n",
       "      <td>40</td>\n",
       "      <td>0</td>\n",
       "    </tr>\n",
       "    <tr>\n",
       "      <th>4237</th>\n",
       "      <td>52</td>\n",
       "      <td>209642</td>\n",
       "      <td>9</td>\n",
       "      <td>45</td>\n",
       "      <td>1</td>\n",
       "    </tr>\n",
       "    <tr>\n",
       "      <th>...</th>\n",
       "      <td>...</td>\n",
       "      <td>...</td>\n",
       "      <td>...</td>\n",
       "      <td>...</td>\n",
       "      <td>...</td>\n",
       "    </tr>\n",
       "    <tr>\n",
       "      <th>32555</th>\n",
       "      <td>53</td>\n",
       "      <td>321865</td>\n",
       "      <td>14</td>\n",
       "      <td>40</td>\n",
       "      <td>1</td>\n",
       "    </tr>\n",
       "    <tr>\n",
       "      <th>32556</th>\n",
       "      <td>22</td>\n",
       "      <td>310152</td>\n",
       "      <td>10</td>\n",
       "      <td>40</td>\n",
       "      <td>0</td>\n",
       "    </tr>\n",
       "    <tr>\n",
       "      <th>32557</th>\n",
       "      <td>27</td>\n",
       "      <td>257302</td>\n",
       "      <td>12</td>\n",
       "      <td>38</td>\n",
       "      <td>0</td>\n",
       "    </tr>\n",
       "    <tr>\n",
       "      <th>32558</th>\n",
       "      <td>40</td>\n",
       "      <td>154374</td>\n",
       "      <td>9</td>\n",
       "      <td>40</td>\n",
       "      <td>1</td>\n",
       "    </tr>\n",
       "    <tr>\n",
       "      <th>32559</th>\n",
       "      <td>58</td>\n",
       "      <td>151910</td>\n",
       "      <td>9</td>\n",
       "      <td>40</td>\n",
       "      <td>0</td>\n",
       "    </tr>\n",
       "  </tbody>\n",
       "</table>\n",
       "<p>18991 rows × 5 columns</p>\n",
       "</div>"
      ],
      "text/plain": [
       "       age  fnlwgt  EducationNum  HoursPerWeek  income\n",
       "4232    38  215646             9            40       0\n",
       "4233    53  234721             7            40       0\n",
       "4234    28  338409            13            40       0\n",
       "4235    37  284582            14            40       0\n",
       "4237    52  209642             9            45       1\n",
       "...    ...     ...           ...           ...     ...\n",
       "32555   53  321865            14            40       1\n",
       "32556   22  310152            10            40       0\n",
       "32557   27  257302            12            38       0\n",
       "32558   40  154374             9            40       1\n",
       "32559   58  151910             9            40       0\n",
       "\n",
       "[18991 rows x 5 columns]"
      ]
     },
     "execution_count": 142,
     "metadata": {},
     "output_type": "execute_result"
    }
   ],
   "source": [
    "# Choosing features for our model\n",
    "income_new_data= income_data[income_data.columns[~income_data.columns.isin(category)]]\n",
    "income_new_data"
   ]
  },
  {
   "cell_type": "code",
   "execution_count": null,
   "id": "3a3a278b",
   "metadata": {
    "id": "3a3a278b",
    "outputId": "1ddb9d6e-5f8e-4a59-d022-b3646b16da25"
   },
   "outputs": [
    {
     "data": {
      "text/plain": [
       "age             int64\n",
       "fnlwgt          int64\n",
       "EducationNum    int64\n",
       "HoursPerWeek    int64\n",
       "income          int32\n",
       "dtype: object"
      ]
     },
     "execution_count": 143,
     "metadata": {},
     "output_type": "execute_result"
    }
   ],
   "source": [
    "income_new_data.dtypes"
   ]
  },
  {
   "cell_type": "markdown",
   "id": "4f3508e7",
   "metadata": {
    "id": "4f3508e7"
   },
   "source": [
    "### Which attributes appear to be the most closely associated with the target attribute('income')?"
   ]
  },
  {
   "cell_type": "code",
   "execution_count": null,
   "id": "0041d6f8",
   "metadata": {
    "id": "0041d6f8",
    "outputId": "078f3c4f-8a6e-434b-dc0a-1147467555c7"
   },
   "outputs": [
    {
     "data": {
      "text/plain": [
       "income          1.000000\n",
       "EducationNum    0.295074\n",
       "age             0.245649\n",
       "HoursPerWeek    0.172764\n",
       "fnlwgt          0.000373\n",
       "Name: income, dtype: float64"
      ]
     },
     "execution_count": 144,
     "metadata": {},
     "output_type": "execute_result"
    }
   ],
   "source": [
    "income1= income_new_data.corr()['income'].abs().sort_values(ascending=False)\n",
    "income1\n",
    "#income1.to_csv(\"corr_target.csv\",index=True)"
   ]
  },
  {
   "cell_type": "code",
   "execution_count": null,
   "id": "c768a02e",
   "metadata": {
    "id": "c768a02e",
    "outputId": "43a57d61-2f5d-4f4f-e050-2606a637d03c"
   },
   "outputs": [
    {
     "data": {
      "text/plain": [
       "income    1.0\n",
       "Name: income, dtype: float64"
      ]
     },
     "execution_count": 145,
     "metadata": {},
     "output_type": "execute_result"
    }
   ],
   "source": [
    "#Correlation with output variable\n",
    "cor_target = abs(corr1[\"income\"])\n",
    "\n",
    "#Selecting highly correlated features\n",
    "relevant_features = cor_target[cor_target>0.5]\n",
    "relevant_features"
   ]
  },
  {
   "cell_type": "markdown",
   "id": "f4f1895b",
   "metadata": {
    "id": "f4f1895b"
   },
   "source": [
    "It shows none of the above numerical attributes are closely correlated with the target variable as the correlation of any attribute is not more than 0.5"
   ]
  },
  {
   "cell_type": "code",
   "execution_count": null,
   "id": "4c1800e6",
   "metadata": {
    "id": "4c1800e6",
    "outputId": "f1532657-4ca1-4c5b-9e5a-2d63e7a1abf5"
   },
   "outputs": [
    {
     "data": {
      "text/plain": [
       "(18991, 5)"
      ]
     },
     "execution_count": 146,
     "metadata": {},
     "output_type": "execute_result"
    }
   ],
   "source": [
    "income_new_data.shape"
   ]
  },
  {
   "cell_type": "markdown",
   "id": "79fe0f03",
   "metadata": {
    "id": "79fe0f03"
   },
   "source": [
    "### Data Preprocessing"
   ]
  },
  {
   "cell_type": "markdown",
   "id": "288460d7",
   "metadata": {
    "id": "288460d7"
   },
   "source": [
    "#### We Choose only numerical attributes for Modelling i.e; age, fnlwgt, EducationNum, HoursPerWeek, income"
   ]
  },
  {
   "cell_type": "markdown",
   "id": "cafbc856",
   "metadata": {
    "id": "cafbc856"
   },
   "source": [
    "#### First we will normalize our attributes into 0 to 1 range."
   ]
  },
  {
   "cell_type": "markdown",
   "id": "b733e6d7",
   "metadata": {
    "id": "b733e6d7"
   },
   "source": [
    "####  Normalization refers to rescaling of real-valued numeric attributes into a 0 to 1 range."
   ]
  },
  {
   "cell_type": "markdown",
   "id": "d46e7a99",
   "metadata": {
    "id": "d46e7a99"
   },
   "source": [
    "### Separating the independent variables from dependent variables"
   ]
  },
  {
   "cell_type": "code",
   "execution_count": null,
   "id": "1064538f",
   "metadata": {
    "id": "1064538f"
   },
   "outputs": [],
   "source": [
    "x = income_new_data.iloc[:,:-1] # independent\n",
    "y= income_new_data.iloc[:,-1] # target"
   ]
  },
  {
   "cell_type": "code",
   "execution_count": null,
   "id": "52890f84",
   "metadata": {
    "id": "52890f84",
    "outputId": "dc61d17d-2629-4685-991c-fda201ff15f9"
   },
   "outputs": [
    {
     "data": {
      "text/html": [
       "<div>\n",
       "<style scoped>\n",
       "    .dataframe tbody tr th:only-of-type {\n",
       "        vertical-align: middle;\n",
       "    }\n",
       "\n",
       "    .dataframe tbody tr th {\n",
       "        vertical-align: top;\n",
       "    }\n",
       "\n",
       "    .dataframe thead th {\n",
       "        text-align: right;\n",
       "    }\n",
       "</style>\n",
       "<table border=\"1\" class=\"dataframe\">\n",
       "  <thead>\n",
       "    <tr style=\"text-align: right;\">\n",
       "      <th></th>\n",
       "      <th>age</th>\n",
       "      <th>fnlwgt</th>\n",
       "      <th>EducationNum</th>\n",
       "      <th>HoursPerWeek</th>\n",
       "    </tr>\n",
       "  </thead>\n",
       "  <tbody>\n",
       "    <tr>\n",
       "      <th>4232</th>\n",
       "      <td>38</td>\n",
       "      <td>215646</td>\n",
       "      <td>9</td>\n",
       "      <td>40</td>\n",
       "    </tr>\n",
       "    <tr>\n",
       "      <th>4233</th>\n",
       "      <td>53</td>\n",
       "      <td>234721</td>\n",
       "      <td>7</td>\n",
       "      <td>40</td>\n",
       "    </tr>\n",
       "    <tr>\n",
       "      <th>4234</th>\n",
       "      <td>28</td>\n",
       "      <td>338409</td>\n",
       "      <td>13</td>\n",
       "      <td>40</td>\n",
       "    </tr>\n",
       "  </tbody>\n",
       "</table>\n",
       "</div>"
      ],
      "text/plain": [
       "      age  fnlwgt  EducationNum  HoursPerWeek\n",
       "4232   38  215646             9            40\n",
       "4233   53  234721             7            40\n",
       "4234   28  338409            13            40"
      ]
     },
     "execution_count": 149,
     "metadata": {},
     "output_type": "execute_result"
    }
   ],
   "source": [
    "x.head(3)"
   ]
  },
  {
   "cell_type": "code",
   "execution_count": null,
   "id": "69e61b80",
   "metadata": {
    "id": "69e61b80",
    "outputId": "367cff93-1b47-4559-b295-97a505f8175d"
   },
   "outputs": [
    {
     "data": {
      "text/plain": [
       "4232    0\n",
       "4233    0\n",
       "4234    0\n",
       "Name: income, dtype: int32"
      ]
     },
     "execution_count": 150,
     "metadata": {},
     "output_type": "execute_result"
    }
   ],
   "source": [
    "y.head(3)"
   ]
  },
  {
   "cell_type": "code",
   "execution_count": null,
   "id": "11d73b9b",
   "metadata": {
    "id": "11d73b9b",
    "outputId": "541f7e53-4c2d-408e-d303-fdf4f3dfb9b6"
   },
   "outputs": [
    {
     "data": {
      "text/html": [
       "<div>\n",
       "<style scoped>\n",
       "    .dataframe tbody tr th:only-of-type {\n",
       "        vertical-align: middle;\n",
       "    }\n",
       "\n",
       "    .dataframe tbody tr th {\n",
       "        vertical-align: top;\n",
       "    }\n",
       "\n",
       "    .dataframe thead th {\n",
       "        text-align: right;\n",
       "    }\n",
       "</style>\n",
       "<table border=\"1\" class=\"dataframe\">\n",
       "  <thead>\n",
       "    <tr style=\"text-align: right;\">\n",
       "      <th></th>\n",
       "      <th>age</th>\n",
       "      <th>fnlwgt</th>\n",
       "      <th>EducationNum</th>\n",
       "      <th>HoursPerWeek</th>\n",
       "      <th>income</th>\n",
       "    </tr>\n",
       "  </thead>\n",
       "  <tbody>\n",
       "    <tr>\n",
       "      <th>4232</th>\n",
       "      <td>38</td>\n",
       "      <td>215646</td>\n",
       "      <td>9</td>\n",
       "      <td>40</td>\n",
       "      <td>0</td>\n",
       "    </tr>\n",
       "    <tr>\n",
       "      <th>4233</th>\n",
       "      <td>53</td>\n",
       "      <td>234721</td>\n",
       "      <td>7</td>\n",
       "      <td>40</td>\n",
       "      <td>0</td>\n",
       "    </tr>\n",
       "    <tr>\n",
       "      <th>4234</th>\n",
       "      <td>28</td>\n",
       "      <td>338409</td>\n",
       "      <td>13</td>\n",
       "      <td>40</td>\n",
       "      <td>0</td>\n",
       "    </tr>\n",
       "    <tr>\n",
       "      <th>4235</th>\n",
       "      <td>37</td>\n",
       "      <td>284582</td>\n",
       "      <td>14</td>\n",
       "      <td>40</td>\n",
       "      <td>0</td>\n",
       "    </tr>\n",
       "    <tr>\n",
       "      <th>4237</th>\n",
       "      <td>52</td>\n",
       "      <td>209642</td>\n",
       "      <td>9</td>\n",
       "      <td>45</td>\n",
       "      <td>1</td>\n",
       "    </tr>\n",
       "    <tr>\n",
       "      <th>...</th>\n",
       "      <td>...</td>\n",
       "      <td>...</td>\n",
       "      <td>...</td>\n",
       "      <td>...</td>\n",
       "      <td>...</td>\n",
       "    </tr>\n",
       "    <tr>\n",
       "      <th>32555</th>\n",
       "      <td>53</td>\n",
       "      <td>321865</td>\n",
       "      <td>14</td>\n",
       "      <td>40</td>\n",
       "      <td>1</td>\n",
       "    </tr>\n",
       "    <tr>\n",
       "      <th>32556</th>\n",
       "      <td>22</td>\n",
       "      <td>310152</td>\n",
       "      <td>10</td>\n",
       "      <td>40</td>\n",
       "      <td>0</td>\n",
       "    </tr>\n",
       "    <tr>\n",
       "      <th>32557</th>\n",
       "      <td>27</td>\n",
       "      <td>257302</td>\n",
       "      <td>12</td>\n",
       "      <td>38</td>\n",
       "      <td>0</td>\n",
       "    </tr>\n",
       "    <tr>\n",
       "      <th>32558</th>\n",
       "      <td>40</td>\n",
       "      <td>154374</td>\n",
       "      <td>9</td>\n",
       "      <td>40</td>\n",
       "      <td>1</td>\n",
       "    </tr>\n",
       "    <tr>\n",
       "      <th>32559</th>\n",
       "      <td>58</td>\n",
       "      <td>151910</td>\n",
       "      <td>9</td>\n",
       "      <td>40</td>\n",
       "      <td>0</td>\n",
       "    </tr>\n",
       "  </tbody>\n",
       "</table>\n",
       "<p>18991 rows × 5 columns</p>\n",
       "</div>"
      ],
      "text/plain": [
       "       age  fnlwgt  EducationNum  HoursPerWeek  income\n",
       "4232    38  215646             9            40       0\n",
       "4233    53  234721             7            40       0\n",
       "4234    28  338409            13            40       0\n",
       "4235    37  284582            14            40       0\n",
       "4237    52  209642             9            45       1\n",
       "...    ...     ...           ...           ...     ...\n",
       "32555   53  321865            14            40       1\n",
       "32556   22  310152            10            40       0\n",
       "32557   27  257302            12            38       0\n",
       "32558   40  154374             9            40       1\n",
       "32559   58  151910             9            40       0\n",
       "\n",
       "[18991 rows x 5 columns]"
      ]
     },
     "execution_count": 151,
     "metadata": {},
     "output_type": "execute_result"
    }
   ],
   "source": [
    "income_new_data "
   ]
  },
  {
   "cell_type": "markdown",
   "id": "fb6b33cc",
   "metadata": {
    "id": "fb6b33cc"
   },
   "source": [
    "# Train and Test Split Approach:\n",
    "\n",
    "### In this method, the entire data set is randomly partitioned into training and test sets. I divided the information into two parts(training and test sets). The Training set contains 70% of the records in the data set, whereas the Test set contains 30% of the data set's observations."
   ]
  },
  {
   "cell_type": "code",
   "execution_count": null,
   "id": "07461e48",
   "metadata": {
    "id": "07461e48"
   },
   "outputs": [],
   "source": [
    "from sklearn.model_selection import train_test_split"
   ]
  },
  {
   "cell_type": "code",
   "execution_count": null,
   "id": "7eba0b46",
   "metadata": {
    "id": "7eba0b46"
   },
   "outputs": [],
   "source": [
    "train_input,test_input, train_output,test_output = train_test_split(x,y, test_size = 0.3, random_state=4)"
   ]
  },
  {
   "cell_type": "code",
   "execution_count": null,
   "id": "ce8dcab6",
   "metadata": {
    "id": "ce8dcab6",
    "outputId": "213d0a68-490d-44e9-e60a-8307c59b3dd0"
   },
   "outputs": [
    {
     "data": {
      "text/html": [
       "<div>\n",
       "<style scoped>\n",
       "    .dataframe tbody tr th:only-of-type {\n",
       "        vertical-align: middle;\n",
       "    }\n",
       "\n",
       "    .dataframe tbody tr th {\n",
       "        vertical-align: top;\n",
       "    }\n",
       "\n",
       "    .dataframe thead th {\n",
       "        text-align: right;\n",
       "    }\n",
       "</style>\n",
       "<table border=\"1\" class=\"dataframe\">\n",
       "  <thead>\n",
       "    <tr style=\"text-align: right;\">\n",
       "      <th></th>\n",
       "      <th>age</th>\n",
       "      <th>fnlwgt</th>\n",
       "      <th>EducationNum</th>\n",
       "      <th>HoursPerWeek</th>\n",
       "    </tr>\n",
       "  </thead>\n",
       "  <tbody>\n",
       "    <tr>\n",
       "      <th>20086</th>\n",
       "      <td>35</td>\n",
       "      <td>27408</td>\n",
       "      <td>10</td>\n",
       "      <td>40</td>\n",
       "    </tr>\n",
       "    <tr>\n",
       "      <th>17286</th>\n",
       "      <td>35</td>\n",
       "      <td>243409</td>\n",
       "      <td>10</td>\n",
       "      <td>40</td>\n",
       "    </tr>\n",
       "    <tr>\n",
       "      <th>11154</th>\n",
       "      <td>23</td>\n",
       "      <td>219835</td>\n",
       "      <td>10</td>\n",
       "      <td>40</td>\n",
       "    </tr>\n",
       "    <tr>\n",
       "      <th>29285</th>\n",
       "      <td>39</td>\n",
       "      <td>126161</td>\n",
       "      <td>16</td>\n",
       "      <td>45</td>\n",
       "    </tr>\n",
       "    <tr>\n",
       "      <th>10970</th>\n",
       "      <td>69</td>\n",
       "      <td>107548</td>\n",
       "      <td>5</td>\n",
       "      <td>40</td>\n",
       "    </tr>\n",
       "    <tr>\n",
       "      <th>...</th>\n",
       "      <td>...</td>\n",
       "      <td>...</td>\n",
       "      <td>...</td>\n",
       "      <td>...</td>\n",
       "    </tr>\n",
       "    <tr>\n",
       "      <th>29292</th>\n",
       "      <td>41</td>\n",
       "      <td>168324</td>\n",
       "      <td>10</td>\n",
       "      <td>40</td>\n",
       "    </tr>\n",
       "    <tr>\n",
       "      <th>21863</th>\n",
       "      <td>28</td>\n",
       "      <td>31717</td>\n",
       "      <td>9</td>\n",
       "      <td>45</td>\n",
       "    </tr>\n",
       "    <tr>\n",
       "      <th>29667</th>\n",
       "      <td>27</td>\n",
       "      <td>183523</td>\n",
       "      <td>13</td>\n",
       "      <td>45</td>\n",
       "    </tr>\n",
       "    <tr>\n",
       "      <th>16705</th>\n",
       "      <td>43</td>\n",
       "      <td>182757</td>\n",
       "      <td>9</td>\n",
       "      <td>40</td>\n",
       "    </tr>\n",
       "    <tr>\n",
       "      <th>30341</th>\n",
       "      <td>23</td>\n",
       "      <td>140414</td>\n",
       "      <td>9</td>\n",
       "      <td>40</td>\n",
       "    </tr>\n",
       "  </tbody>\n",
       "</table>\n",
       "<p>13293 rows × 4 columns</p>\n",
       "</div>"
      ],
      "text/plain": [
       "       age  fnlwgt  EducationNum  HoursPerWeek\n",
       "20086   35   27408            10            40\n",
       "17286   35  243409            10            40\n",
       "11154   23  219835            10            40\n",
       "29285   39  126161            16            45\n",
       "10970   69  107548             5            40\n",
       "...    ...     ...           ...           ...\n",
       "29292   41  168324            10            40\n",
       "21863   28   31717             9            45\n",
       "29667   27  183523            13            45\n",
       "16705   43  182757             9            40\n",
       "30341   23  140414             9            40\n",
       "\n",
       "[13293 rows x 4 columns]"
      ]
     },
     "execution_count": 154,
     "metadata": {},
     "output_type": "execute_result"
    }
   ],
   "source": [
    "train_input"
   ]
  },
  {
   "cell_type": "code",
   "execution_count": null,
   "id": "70d93af2",
   "metadata": {
    "id": "70d93af2",
    "outputId": "16ac9f8a-ddac-4b39-e523-46a81ca9a0d9"
   },
   "outputs": [
    {
     "data": {
      "text/plain": [
       "18991"
      ]
     },
     "execution_count": 155,
     "metadata": {},
     "output_type": "execute_result"
    }
   ],
   "source": [
    "x.shape[0]"
   ]
  },
  {
   "cell_type": "code",
   "execution_count": null,
   "id": "973d097e",
   "metadata": {
    "id": "973d097e",
    "outputId": "97e340f9-04cd-45f1-d209-e63ecef2ec14"
   },
   "outputs": [
    {
     "data": {
      "text/plain": [
       "(13293, 4)"
      ]
     },
     "execution_count": 156,
     "metadata": {},
     "output_type": "execute_result"
    }
   ],
   "source": [
    "train_input.shape"
   ]
  },
  {
   "cell_type": "code",
   "execution_count": null,
   "id": "5eabd9f9",
   "metadata": {
    "id": "5eabd9f9",
    "outputId": "9eca7d2e-3d5d-4f26-8b2f-e106b6137071"
   },
   "outputs": [
    {
     "data": {
      "text/plain": [
       "(5698, 4)"
      ]
     },
     "execution_count": 157,
     "metadata": {},
     "output_type": "execute_result"
    }
   ],
   "source": [
    "test_input.shape"
   ]
  },
  {
   "cell_type": "code",
   "execution_count": null,
   "id": "2a58daa1",
   "metadata": {
    "id": "2a58daa1",
    "outputId": "f400f1d0-0937-426f-d91b-942e1a02c4ce"
   },
   "outputs": [
    {
     "data": {
      "text/plain": [
       "(5698,)"
      ]
     },
     "execution_count": 158,
     "metadata": {},
     "output_type": "execute_result"
    }
   ],
   "source": [
    "test_output.shape"
   ]
  },
  {
   "cell_type": "code",
   "execution_count": null,
   "id": "f551ee46",
   "metadata": {
    "id": "f551ee46",
    "outputId": "a0bcea9b-697e-4d76-95f9-dc56eb93a1ea"
   },
   "outputs": [
    {
     "data": {
      "text/plain": [
       "(13293,)"
      ]
     },
     "execution_count": 159,
     "metadata": {},
     "output_type": "execute_result"
    }
   ],
   "source": [
    "train_output.shape"
   ]
  },
  {
   "cell_type": "markdown",
   "id": "b95d8f7e",
   "metadata": {
    "id": "b95d8f7e"
   },
   "source": [
    "#### Summarize class distribution\n",
    "#### SMOTE (synthetic minority oversampling technique) \n",
    "#### It is one of the most widely used oversampling approaches to overcome the imbalance problem . Its goal is to achieve a more balanced distribution of classes by replicating minority class examples at random."
   ]
  },
  {
   "cell_type": "code",
   "execution_count": null,
   "id": "f3018a33",
   "metadata": {
    "id": "f3018a33",
    "outputId": "c09151cf-a8b8-4d96-afbe-5b522a779988"
   },
   "outputs": [
    {
     "name": "stdout",
     "output_type": "stream",
     "text": [
      "Before SMOTE\n"
     ]
    },
    {
     "data": {
      "text/plain": [
       "0    10486\n",
       "1     2807\n",
       "Name: income, dtype: int64"
      ]
     },
     "execution_count": 160,
     "metadata": {},
     "output_type": "execute_result"
    }
   ],
   "source": [
    "print(\"Before SMOTE\")\n",
    "train_output.value_counts()"
   ]
  },
  {
   "cell_type": "markdown",
   "id": "c8aca44d",
   "metadata": {
    "id": "c8aca44d"
   },
   "source": [
    "#### Imbalanced-Learn is a Python tool for balancing datasets in equal ratios"
   ]
  },
  {
   "cell_type": "code",
   "execution_count": null,
   "id": "f192e8c9",
   "metadata": {
    "id": "f192e8c9"
   },
   "outputs": [],
   "source": [
    "#!pip install imblearn"
   ]
  },
  {
   "cell_type": "code",
   "execution_count": null,
   "id": "3b5d375f",
   "metadata": {
    "id": "3b5d375f"
   },
   "outputs": [],
   "source": [
    "from imblearn.over_sampling import SMOTE\n",
    "SMOTE = SMOTE(sampling_strategy='minority', random_state=10)"
   ]
  },
  {
   "cell_type": "code",
   "execution_count": null,
   "id": "4f67aaf2",
   "metadata": {
    "id": "4f67aaf2",
    "outputId": "3986fb98-d7a3-4922-d98f-9546bb24a8d5"
   },
   "outputs": [
    {
     "data": {
      "text/html": [
       "<div>\n",
       "<style scoped>\n",
       "    .dataframe tbody tr th:only-of-type {\n",
       "        vertical-align: middle;\n",
       "    }\n",
       "\n",
       "    .dataframe tbody tr th {\n",
       "        vertical-align: top;\n",
       "    }\n",
       "\n",
       "    .dataframe thead th {\n",
       "        text-align: right;\n",
       "    }\n",
       "</style>\n",
       "<table border=\"1\" class=\"dataframe\">\n",
       "  <thead>\n",
       "    <tr style=\"text-align: right;\">\n",
       "      <th></th>\n",
       "      <th>age</th>\n",
       "      <th>fnlwgt</th>\n",
       "      <th>EducationNum</th>\n",
       "      <th>HoursPerWeek</th>\n",
       "    </tr>\n",
       "  </thead>\n",
       "  <tbody>\n",
       "    <tr>\n",
       "      <th>0</th>\n",
       "      <td>35</td>\n",
       "      <td>27408</td>\n",
       "      <td>10</td>\n",
       "      <td>40</td>\n",
       "    </tr>\n",
       "    <tr>\n",
       "      <th>1</th>\n",
       "      <td>35</td>\n",
       "      <td>243409</td>\n",
       "      <td>10</td>\n",
       "      <td>40</td>\n",
       "    </tr>\n",
       "    <tr>\n",
       "      <th>2</th>\n",
       "      <td>23</td>\n",
       "      <td>219835</td>\n",
       "      <td>10</td>\n",
       "      <td>40</td>\n",
       "    </tr>\n",
       "  </tbody>\n",
       "</table>\n",
       "</div>"
      ],
      "text/plain": [
       "   age  fnlwgt  EducationNum  HoursPerWeek\n",
       "0   35   27408            10            40\n",
       "1   35  243409            10            40\n",
       "2   23  219835            10            40"
      ]
     },
     "execution_count": 163,
     "metadata": {},
     "output_type": "execute_result"
    }
   ],
   "source": [
    "train_input_SMOTE, train_output_SMOTE= SMOTE.fit_resample(train_input, train_output)\n",
    "train_input_SMOTE.head(3)"
   ]
  },
  {
   "cell_type": "code",
   "execution_count": null,
   "id": "2f25965f",
   "metadata": {
    "id": "2f25965f",
    "outputId": "f908dfa9-728e-4fca-c8e0-c1e1062c2cf4"
   },
   "outputs": [
    {
     "name": "stdout",
     "output_type": "stream",
     "text": [
      "after SMOTE:\n"
     ]
    },
    {
     "data": {
      "text/plain": [
       "0    10486\n",
       "1    10486\n",
       "Name: income, dtype: int64"
      ]
     },
     "execution_count": 164,
     "metadata": {},
     "output_type": "execute_result"
    }
   ],
   "source": [
    "print(\"after SMOTE:\")\n",
    "train_output_SMOTE.value_counts()"
   ]
  },
  {
   "cell_type": "code",
   "execution_count": null,
   "id": "db141e7c",
   "metadata": {
    "id": "db141e7c",
    "outputId": "75c66652-b1fe-448c-f2e9-695de86a0da6"
   },
   "outputs": [
    {
     "data": {
      "text/plain": [
       "301"
      ]
     },
     "execution_count": 165,
     "metadata": {},
     "output_type": "execute_result"
    }
   ],
   "source": [
    "train_input_SMOTE.duplicated().sum()"
   ]
  },
  {
   "cell_type": "markdown",
   "id": "425afbec",
   "metadata": {
    "id": "425afbec"
   },
   "source": [
    "## Now, I check my model for categorical as well as numerical data"
   ]
  },
  {
   "cell_type": "code",
   "execution_count": null,
   "id": "6f923834",
   "metadata": {
    "id": "6f923834",
    "outputId": "d04d4b61-728e-4cee-c945-667b7e0f5989"
   },
   "outputs": [
    {
     "data": {
      "text/plain": [
       "Index(['age', 'workclass', 'fnlwgt', 'education', 'EducationNum',\n",
       "       'MaritalStatus', 'occupation', 'relationship', 'race', 'gender',\n",
       "       'HoursPerWeek', 'Country', 'income'],\n",
       "      dtype='object')"
      ]
     },
     "execution_count": 171,
     "metadata": {},
     "output_type": "execute_result"
    }
   ],
   "source": [
    "income_data.columns"
   ]
  },
  {
   "cell_type": "code",
   "execution_count": null,
   "id": "688747be",
   "metadata": {
    "id": "688747be",
    "outputId": "0cbe02d7-dc7a-4560-d4b1-642b4e820694"
   },
   "outputs": [
    {
     "data": {
      "text/html": [
       "<div>\n",
       "<style scoped>\n",
       "    .dataframe tbody tr th:only-of-type {\n",
       "        vertical-align: middle;\n",
       "    }\n",
       "\n",
       "    .dataframe tbody tr th {\n",
       "        vertical-align: top;\n",
       "    }\n",
       "\n",
       "    .dataframe thead th {\n",
       "        text-align: right;\n",
       "    }\n",
       "</style>\n",
       "<table border=\"1\" class=\"dataframe\">\n",
       "  <thead>\n",
       "    <tr style=\"text-align: right;\">\n",
       "      <th></th>\n",
       "      <th>age</th>\n",
       "      <th>workclass</th>\n",
       "      <th>fnlwgt</th>\n",
       "      <th>education</th>\n",
       "      <th>EducationNum</th>\n",
       "      <th>MaritalStatus</th>\n",
       "      <th>occupation</th>\n",
       "      <th>relationship</th>\n",
       "      <th>race</th>\n",
       "      <th>gender</th>\n",
       "      <th>HoursPerWeek</th>\n",
       "      <th>Country</th>\n",
       "      <th>income</th>\n",
       "    </tr>\n",
       "  </thead>\n",
       "  <tbody>\n",
       "    <tr>\n",
       "      <th>4232</th>\n",
       "      <td>38</td>\n",
       "      <td>Private</td>\n",
       "      <td>215646</td>\n",
       "      <td>HS-grad</td>\n",
       "      <td>9</td>\n",
       "      <td>Divorced</td>\n",
       "      <td>Handlers-cleaners</td>\n",
       "      <td>Not-in-family</td>\n",
       "      <td>White</td>\n",
       "      <td>Male</td>\n",
       "      <td>40</td>\n",
       "      <td>United-States</td>\n",
       "      <td>0</td>\n",
       "    </tr>\n",
       "    <tr>\n",
       "      <th>4233</th>\n",
       "      <td>53</td>\n",
       "      <td>Private</td>\n",
       "      <td>234721</td>\n",
       "      <td>11th</td>\n",
       "      <td>7</td>\n",
       "      <td>Married-civ-spouse</td>\n",
       "      <td>Handlers-cleaners</td>\n",
       "      <td>Husband</td>\n",
       "      <td>Black</td>\n",
       "      <td>Male</td>\n",
       "      <td>40</td>\n",
       "      <td>United-States</td>\n",
       "      <td>0</td>\n",
       "    </tr>\n",
       "    <tr>\n",
       "      <th>4234</th>\n",
       "      <td>28</td>\n",
       "      <td>Private</td>\n",
       "      <td>338409</td>\n",
       "      <td>Bachelors</td>\n",
       "      <td>13</td>\n",
       "      <td>Married-civ-spouse</td>\n",
       "      <td>Prof-specialty</td>\n",
       "      <td>Wife</td>\n",
       "      <td>Black</td>\n",
       "      <td>Female</td>\n",
       "      <td>40</td>\n",
       "      <td>Cuba</td>\n",
       "      <td>0</td>\n",
       "    </tr>\n",
       "    <tr>\n",
       "      <th>4235</th>\n",
       "      <td>37</td>\n",
       "      <td>Private</td>\n",
       "      <td>284582</td>\n",
       "      <td>Masters</td>\n",
       "      <td>14</td>\n",
       "      <td>Married-civ-spouse</td>\n",
       "      <td>Exec-managerial</td>\n",
       "      <td>Wife</td>\n",
       "      <td>White</td>\n",
       "      <td>Female</td>\n",
       "      <td>40</td>\n",
       "      <td>United-States</td>\n",
       "      <td>0</td>\n",
       "    </tr>\n",
       "    <tr>\n",
       "      <th>4237</th>\n",
       "      <td>52</td>\n",
       "      <td>Self-emp-not-inc</td>\n",
       "      <td>209642</td>\n",
       "      <td>HS-grad</td>\n",
       "      <td>9</td>\n",
       "      <td>Married-civ-spouse</td>\n",
       "      <td>Exec-managerial</td>\n",
       "      <td>Husband</td>\n",
       "      <td>White</td>\n",
       "      <td>Male</td>\n",
       "      <td>45</td>\n",
       "      <td>United-States</td>\n",
       "      <td>1</td>\n",
       "    </tr>\n",
       "    <tr>\n",
       "      <th>...</th>\n",
       "      <td>...</td>\n",
       "      <td>...</td>\n",
       "      <td>...</td>\n",
       "      <td>...</td>\n",
       "      <td>...</td>\n",
       "      <td>...</td>\n",
       "      <td>...</td>\n",
       "      <td>...</td>\n",
       "      <td>...</td>\n",
       "      <td>...</td>\n",
       "      <td>...</td>\n",
       "      <td>...</td>\n",
       "      <td>...</td>\n",
       "    </tr>\n",
       "    <tr>\n",
       "      <th>32555</th>\n",
       "      <td>53</td>\n",
       "      <td>Private</td>\n",
       "      <td>321865</td>\n",
       "      <td>Masters</td>\n",
       "      <td>14</td>\n",
       "      <td>Married-civ-spouse</td>\n",
       "      <td>Exec-managerial</td>\n",
       "      <td>Husband</td>\n",
       "      <td>White</td>\n",
       "      <td>Male</td>\n",
       "      <td>40</td>\n",
       "      <td>United-States</td>\n",
       "      <td>1</td>\n",
       "    </tr>\n",
       "    <tr>\n",
       "      <th>32556</th>\n",
       "      <td>22</td>\n",
       "      <td>Private</td>\n",
       "      <td>310152</td>\n",
       "      <td>Some-college</td>\n",
       "      <td>10</td>\n",
       "      <td>Never-married</td>\n",
       "      <td>Protective-serv</td>\n",
       "      <td>Not-in-family</td>\n",
       "      <td>White</td>\n",
       "      <td>Male</td>\n",
       "      <td>40</td>\n",
       "      <td>United-States</td>\n",
       "      <td>0</td>\n",
       "    </tr>\n",
       "    <tr>\n",
       "      <th>32557</th>\n",
       "      <td>27</td>\n",
       "      <td>Private</td>\n",
       "      <td>257302</td>\n",
       "      <td>Assoc-acdm</td>\n",
       "      <td>12</td>\n",
       "      <td>Married-civ-spouse</td>\n",
       "      <td>Tech-support</td>\n",
       "      <td>Wife</td>\n",
       "      <td>White</td>\n",
       "      <td>Female</td>\n",
       "      <td>38</td>\n",
       "      <td>United-States</td>\n",
       "      <td>0</td>\n",
       "    </tr>\n",
       "    <tr>\n",
       "      <th>32558</th>\n",
       "      <td>40</td>\n",
       "      <td>Private</td>\n",
       "      <td>154374</td>\n",
       "      <td>HS-grad</td>\n",
       "      <td>9</td>\n",
       "      <td>Married-civ-spouse</td>\n",
       "      <td>Machine-op-inspct</td>\n",
       "      <td>Husband</td>\n",
       "      <td>White</td>\n",
       "      <td>Male</td>\n",
       "      <td>40</td>\n",
       "      <td>United-States</td>\n",
       "      <td>1</td>\n",
       "    </tr>\n",
       "    <tr>\n",
       "      <th>32559</th>\n",
       "      <td>58</td>\n",
       "      <td>Private</td>\n",
       "      <td>151910</td>\n",
       "      <td>HS-grad</td>\n",
       "      <td>9</td>\n",
       "      <td>Widowed</td>\n",
       "      <td>Adm-clerical</td>\n",
       "      <td>Unmarried</td>\n",
       "      <td>White</td>\n",
       "      <td>Female</td>\n",
       "      <td>40</td>\n",
       "      <td>United-States</td>\n",
       "      <td>0</td>\n",
       "    </tr>\n",
       "  </tbody>\n",
       "</table>\n",
       "<p>18991 rows × 13 columns</p>\n",
       "</div>"
      ],
      "text/plain": [
       "       age         workclass  fnlwgt     education  EducationNum  \\\n",
       "4232    38           Private  215646       HS-grad             9   \n",
       "4233    53           Private  234721          11th             7   \n",
       "4234    28           Private  338409     Bachelors            13   \n",
       "4235    37           Private  284582       Masters            14   \n",
       "4237    52  Self-emp-not-inc  209642       HS-grad             9   \n",
       "...    ...               ...     ...           ...           ...   \n",
       "32555   53           Private  321865       Masters            14   \n",
       "32556   22           Private  310152  Some-college            10   \n",
       "32557   27           Private  257302    Assoc-acdm            12   \n",
       "32558   40           Private  154374       HS-grad             9   \n",
       "32559   58           Private  151910       HS-grad             9   \n",
       "\n",
       "            MaritalStatus         occupation   relationship   race  gender  \\\n",
       "4232             Divorced  Handlers-cleaners  Not-in-family  White    Male   \n",
       "4233   Married-civ-spouse  Handlers-cleaners        Husband  Black    Male   \n",
       "4234   Married-civ-spouse     Prof-specialty           Wife  Black  Female   \n",
       "4235   Married-civ-spouse    Exec-managerial           Wife  White  Female   \n",
       "4237   Married-civ-spouse    Exec-managerial        Husband  White    Male   \n",
       "...                   ...                ...            ...    ...     ...   \n",
       "32555  Married-civ-spouse    Exec-managerial        Husband  White    Male   \n",
       "32556       Never-married    Protective-serv  Not-in-family  White    Male   \n",
       "32557  Married-civ-spouse       Tech-support           Wife  White  Female   \n",
       "32558  Married-civ-spouse  Machine-op-inspct        Husband  White    Male   \n",
       "32559             Widowed       Adm-clerical      Unmarried  White  Female   \n",
       "\n",
       "       HoursPerWeek        Country  income  \n",
       "4232             40  United-States       0  \n",
       "4233             40  United-States       0  \n",
       "4234             40           Cuba       0  \n",
       "4235             40  United-States       0  \n",
       "4237             45  United-States       1  \n",
       "...             ...            ...     ...  \n",
       "32555            40  United-States       1  \n",
       "32556            40  United-States       0  \n",
       "32557            38  United-States       0  \n",
       "32558            40  United-States       1  \n",
       "32559            40  United-States       0  \n",
       "\n",
       "[18991 rows x 13 columns]"
      ]
     },
     "execution_count": 172,
     "metadata": {},
     "output_type": "execute_result"
    }
   ],
   "source": [
    "income_data"
   ]
  }
 ],
 "metadata": {
  "colab": {
   "name": "group_2.ipynb",
   "provenance": []
  },
  "kernelspec": {
   "display_name": "Python 3 (ipykernel)",
   "language": "python",
   "name": "python3"
  },
  "language_info": {
   "codemirror_mode": {
    "name": "ipython",
    "version": 3
   },
   "file_extension": ".py",
   "mimetype": "text/x-python",
   "name": "python",
   "nbconvert_exporter": "python",
   "pygments_lexer": "ipython3",
   "version": "3.9.12"
  }
 },
 "nbformat": 4,
 "nbformat_minor": 5
}
